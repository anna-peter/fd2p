{
 "cells": [
  {
   "cell_type": "markdown",
   "id": "cf6d83bc",
   "metadata": {},
   "source": [
    "1) Import libraries"
   ]
  },
  {
   "cell_type": "code",
   "execution_count": 360,
   "id": "01eb40a7",
   "metadata": {},
   "outputs": [],
   "source": [
    "import pandas as pd\n",
    "import matplotlib.pyplot as plt\n",
    "import plotly.express as px"
   ]
  },
  {
   "cell_type": "markdown",
   "id": "72c83b2c",
   "metadata": {},
   "source": [
    "2) Import the layoff data"
   ]
  },
  {
   "cell_type": "code",
   "execution_count": 361,
   "id": "bdd14bf5",
   "metadata": {},
   "outputs": [
    {
     "data": {
      "text/plain": [
       "'\\n# Read the CSV file for New York layoffs\\ndf_ny = pd.read_csv(\\'../data/tech_layoffs_ny.csv\\')\\n# Display the first few rows\\nprint(\"New York Layoffs:\") \\ndf_ny.head()\\n'"
      ]
     },
     "execution_count": 361,
     "metadata": {},
     "output_type": "execute_result"
    }
   ],
   "source": [
    "\"\"\"\n",
    "# Read the CSV file for New York layoffs\n",
    "df_ny = pd.read_csv('../data/tech_layoffs_ny.csv')\n",
    "# Display the first few rows\n",
    "print(\"New York Layoffs:\") \n",
    "df_ny.head()\n",
    "\"\"\""
   ]
  },
  {
   "cell_type": "code",
   "execution_count": 362,
   "id": "1fb14cb5",
   "metadata": {},
   "outputs": [
    {
     "data": {
      "text/plain": [
       "'\\n# Read the CSV file for Texas layoffs\\ndf_te = pd.read_csv(\\'../data/tech_layoffs_te.csv\\')\\n# Display the first few rows\\nprint(\"Texas Layoffs:\")\\ndf_te.head()\\n'"
      ]
     },
     "execution_count": 362,
     "metadata": {},
     "output_type": "execute_result"
    }
   ],
   "source": [
    "\"\"\"\n",
    "# Read the CSV file for Texas layoffs\n",
    "df_te = pd.read_csv('../data/tech_layoffs_te.csv')\n",
    "# Display the first few rows\n",
    "print(\"Texas Layoffs:\")\n",
    "df_te.head()\n",
    "\"\"\""
   ]
  },
  {
   "cell_type": "markdown",
   "id": "7931e84d",
   "metadata": {},
   "source": [
    "3) Other way to get the layoffs for both states, in all the big tech companies"
   ]
  },
  {
   "cell_type": "code",
   "execution_count": 363,
   "id": "2819ac9d",
   "metadata": {},
   "outputs": [
    {
     "data": {
      "text/html": [
       "<div>\n",
       "<style scoped>\n",
       "    .dataframe tbody tr th:only-of-type {\n",
       "        vertical-align: middle;\n",
       "    }\n",
       "\n",
       "    .dataframe tbody tr th {\n",
       "        vertical-align: top;\n",
       "    }\n",
       "\n",
       "    .dataframe thead th {\n",
       "        text-align: right;\n",
       "    }\n",
       "</style>\n",
       "<table border=\"1\" class=\"dataframe\">\n",
       "  <thead>\n",
       "    <tr style=\"text-align: right;\">\n",
       "      <th></th>\n",
       "      <th>State</th>\n",
       "      <th>Company</th>\n",
       "      <th>City</th>\n",
       "      <th>Number of Workers</th>\n",
       "      <th>WARN Received Date</th>\n",
       "      <th>Effective Date</th>\n",
       "      <th>Closure/Layoff</th>\n",
       "      <th>Temporary/Permanent</th>\n",
       "      <th>Union</th>\n",
       "      <th>Region</th>\n",
       "      <th>County</th>\n",
       "      <th>Industry</th>\n",
       "      <th>Notes</th>\n",
       "    </tr>\n",
       "  </thead>\n",
       "  <tbody>\n",
       "    <tr>\n",
       "      <th>0</th>\n",
       "      <td>California</td>\n",
       "      <td>Amazon (SJC11 Facility)</td>\n",
       "      <td>Sunnyvale</td>\n",
       "      <td>33</td>\n",
       "      <td>05/15/2025</td>\n",
       "      <td>07/07/2025</td>\n",
       "      <td>Layoff Permanent</td>\n",
       "      <td>NaN</td>\n",
       "      <td>NaN</td>\n",
       "      <td>NaN</td>\n",
       "      <td>Santa Clara County</td>\n",
       "      <td>44-45 Retail Trade</td>\n",
       "      <td>1100 Enterprise Way  Sunnyvale CA 94089</td>\n",
       "    </tr>\n",
       "    <tr>\n",
       "      <th>1</th>\n",
       "      <td>California</td>\n",
       "      <td>Amazon (SJC14 Facility)</td>\n",
       "      <td>Sunnyvale</td>\n",
       "      <td>6</td>\n",
       "      <td>05/15/2025</td>\n",
       "      <td>07/07/2025</td>\n",
       "      <td>Layoff Permanent</td>\n",
       "      <td>NaN</td>\n",
       "      <td>NaN</td>\n",
       "      <td>NaN</td>\n",
       "      <td>Santa Clara County</td>\n",
       "      <td>44-45 Retail Trade</td>\n",
       "      <td>905 11th Avenue  Sunnyvale CA 94089</td>\n",
       "    </tr>\n",
       "    <tr>\n",
       "      <th>2</th>\n",
       "      <td>California</td>\n",
       "      <td>Amazon (SJC31 Facility)</td>\n",
       "      <td>Sunnyvale</td>\n",
       "      <td>5</td>\n",
       "      <td>05/15/2025</td>\n",
       "      <td>07/07/2025</td>\n",
       "      <td>Layoff Permanent</td>\n",
       "      <td>NaN</td>\n",
       "      <td>NaN</td>\n",
       "      <td>NaN</td>\n",
       "      <td>Santa Clara County</td>\n",
       "      <td>44-45 Retail Trade</td>\n",
       "      <td>1100 Discovery Way  Sunnyvale CA 94089</td>\n",
       "    </tr>\n",
       "    <tr>\n",
       "      <th>3</th>\n",
       "      <td>California</td>\n",
       "      <td>Amazon (SJC32 Facility)</td>\n",
       "      <td>Sunnyvale</td>\n",
       "      <td>8</td>\n",
       "      <td>05/15/2025</td>\n",
       "      <td>07/07/2025</td>\n",
       "      <td>Layoff Permanent</td>\n",
       "      <td>NaN</td>\n",
       "      <td>NaN</td>\n",
       "      <td>NaN</td>\n",
       "      <td>Santa Clara County</td>\n",
       "      <td>44-45 Retail Trade</td>\n",
       "      <td>1140 Enterprise Way  Sunnyvale CA 94089</td>\n",
       "    </tr>\n",
       "    <tr>\n",
       "      <th>4</th>\n",
       "      <td>Virginia</td>\n",
       "      <td>Amazon MAK7</td>\n",
       "      <td>Manassas</td>\n",
       "      <td>88</td>\n",
       "      <td>03/12/2025</td>\n",
       "      <td>05/13/2025</td>\n",
       "      <td>Closure</td>\n",
       "      <td>NaN</td>\n",
       "      <td>NaN</td>\n",
       "      <td>Northern</td>\n",
       "      <td>NaN</td>\n",
       "      <td>NaN</td>\n",
       "      <td>NaN</td>\n",
       "    </tr>\n",
       "  </tbody>\n",
       "</table>\n",
       "</div>"
      ],
      "text/plain": [
       "        State                  Company       City Number of Workers  \\\n",
       "0  California  Amazon (SJC11 Facility)  Sunnyvale                33   \n",
       "1  California  Amazon (SJC14 Facility)  Sunnyvale                 6   \n",
       "2  California  Amazon (SJC31 Facility)  Sunnyvale                 5   \n",
       "3  California  Amazon (SJC32 Facility)  Sunnyvale                 8   \n",
       "4    Virginia              Amazon MAK7   Manassas                88   \n",
       "\n",
       "  WARN Received Date Effective Date    Closure/Layoff Temporary/Permanent  \\\n",
       "0         05/15/2025     07/07/2025  Layoff Permanent                 NaN   \n",
       "1         05/15/2025     07/07/2025  Layoff Permanent                 NaN   \n",
       "2         05/15/2025     07/07/2025  Layoff Permanent                 NaN   \n",
       "3         05/15/2025     07/07/2025  Layoff Permanent                 NaN   \n",
       "4         03/12/2025     05/13/2025           Closure                 NaN   \n",
       "\n",
       "  Union    Region              County            Industry  \\\n",
       "0   NaN       NaN  Santa Clara County  44-45 Retail Trade   \n",
       "1   NaN       NaN  Santa Clara County  44-45 Retail Trade   \n",
       "2   NaN       NaN  Santa Clara County  44-45 Retail Trade   \n",
       "3   NaN       NaN  Santa Clara County  44-45 Retail Trade   \n",
       "4   NaN  Northern                 NaN                 NaN   \n",
       "\n",
       "                                     Notes  \n",
       "0  1100 Enterprise Way  Sunnyvale CA 94089  \n",
       "1      905 11th Avenue  Sunnyvale CA 94089  \n",
       "2   1100 Discovery Way  Sunnyvale CA 94089  \n",
       "3  1140 Enterprise Way  Sunnyvale CA 94089  \n",
       "4                                      NaN  "
      ]
     },
     "execution_count": 363,
     "metadata": {},
     "output_type": "execute_result"
    }
   ],
   "source": [
    "df_amazon = pd.read_csv('../data/data_amazon.csv')\n",
    "df_apple = pd.read_csv('../data/data_apple.csv')\n",
    "df_facebook = pd.read_csv('../data/data_facebook.csv')\n",
    "df_google = pd.read_csv('../data/data_google.csv')\n",
    "df_microsoft = pd.read_csv('../data/data_microsoft.csv')\n",
    "df_tesla = pd.read_csv('../data/data_tesla.csv')\n",
    "df_twitter = pd.read_csv('../data/data_twitter.csv')\n",
    "df_amazon.head()"
   ]
  },
  {
   "cell_type": "code",
   "execution_count": 364,
   "id": "fa1aff50",
   "metadata": {},
   "outputs": [
    {
     "data": {
      "text/html": [
       "<div>\n",
       "<style scoped>\n",
       "    .dataframe tbody tr th:only-of-type {\n",
       "        vertical-align: middle;\n",
       "    }\n",
       "\n",
       "    .dataframe tbody tr th {\n",
       "        vertical-align: top;\n",
       "    }\n",
       "\n",
       "    .dataframe thead th {\n",
       "        text-align: right;\n",
       "    }\n",
       "</style>\n",
       "<table border=\"1\" class=\"dataframe\">\n",
       "  <thead>\n",
       "    <tr style=\"text-align: right;\">\n",
       "      <th></th>\n",
       "      <th>State</th>\n",
       "      <th>Company</th>\n",
       "      <th>City</th>\n",
       "      <th>Number of Workers</th>\n",
       "      <th>WARN Received Date</th>\n",
       "      <th>Effective Date</th>\n",
       "      <th>Closure/Layoff</th>\n",
       "      <th>Temporary/Permanent</th>\n",
       "      <th>Union</th>\n",
       "      <th>Region</th>\n",
       "      <th>County</th>\n",
       "      <th>Industry</th>\n",
       "      <th>Notes</th>\n",
       "      <th>Received Date</th>\n",
       "      <th>Effective\\n  Date</th>\n",
       "      <th>Layoff/Closure</th>\n",
       "    </tr>\n",
       "  </thead>\n",
       "  <tbody>\n",
       "    <tr>\n",
       "      <th>0</th>\n",
       "      <td>California</td>\n",
       "      <td>Amazon (SJC11 Facility)</td>\n",
       "      <td>Sunnyvale</td>\n",
       "      <td>33</td>\n",
       "      <td>05/15/2025</td>\n",
       "      <td>07/07/2025</td>\n",
       "      <td>Layoff Permanent</td>\n",
       "      <td>NaN</td>\n",
       "      <td>NaN</td>\n",
       "      <td>NaN</td>\n",
       "      <td>Santa Clara County</td>\n",
       "      <td>44-45 Retail Trade</td>\n",
       "      <td>1100 Enterprise Way  Sunnyvale CA 94089</td>\n",
       "      <td>NaN</td>\n",
       "      <td>NaN</td>\n",
       "      <td>NaN</td>\n",
       "    </tr>\n",
       "    <tr>\n",
       "      <th>1</th>\n",
       "      <td>California</td>\n",
       "      <td>Amazon (SJC14 Facility)</td>\n",
       "      <td>Sunnyvale</td>\n",
       "      <td>6</td>\n",
       "      <td>05/15/2025</td>\n",
       "      <td>07/07/2025</td>\n",
       "      <td>Layoff Permanent</td>\n",
       "      <td>NaN</td>\n",
       "      <td>NaN</td>\n",
       "      <td>NaN</td>\n",
       "      <td>Santa Clara County</td>\n",
       "      <td>44-45 Retail Trade</td>\n",
       "      <td>905 11th Avenue  Sunnyvale CA 94089</td>\n",
       "      <td>NaN</td>\n",
       "      <td>NaN</td>\n",
       "      <td>NaN</td>\n",
       "    </tr>\n",
       "    <tr>\n",
       "      <th>2</th>\n",
       "      <td>California</td>\n",
       "      <td>Amazon (SJC31 Facility)</td>\n",
       "      <td>Sunnyvale</td>\n",
       "      <td>5</td>\n",
       "      <td>05/15/2025</td>\n",
       "      <td>07/07/2025</td>\n",
       "      <td>Layoff Permanent</td>\n",
       "      <td>NaN</td>\n",
       "      <td>NaN</td>\n",
       "      <td>NaN</td>\n",
       "      <td>Santa Clara County</td>\n",
       "      <td>44-45 Retail Trade</td>\n",
       "      <td>1100 Discovery Way  Sunnyvale CA 94089</td>\n",
       "      <td>NaN</td>\n",
       "      <td>NaN</td>\n",
       "      <td>NaN</td>\n",
       "    </tr>\n",
       "    <tr>\n",
       "      <th>3</th>\n",
       "      <td>California</td>\n",
       "      <td>Amazon (SJC32 Facility)</td>\n",
       "      <td>Sunnyvale</td>\n",
       "      <td>8</td>\n",
       "      <td>05/15/2025</td>\n",
       "      <td>07/07/2025</td>\n",
       "      <td>Layoff Permanent</td>\n",
       "      <td>NaN</td>\n",
       "      <td>NaN</td>\n",
       "      <td>NaN</td>\n",
       "      <td>Santa Clara County</td>\n",
       "      <td>44-45 Retail Trade</td>\n",
       "      <td>1140 Enterprise Way  Sunnyvale CA 94089</td>\n",
       "      <td>NaN</td>\n",
       "      <td>NaN</td>\n",
       "      <td>NaN</td>\n",
       "    </tr>\n",
       "    <tr>\n",
       "      <th>4</th>\n",
       "      <td>Virginia</td>\n",
       "      <td>Amazon MAK7</td>\n",
       "      <td>Manassas</td>\n",
       "      <td>88</td>\n",
       "      <td>03/12/2025</td>\n",
       "      <td>05/13/2025</td>\n",
       "      <td>Closure</td>\n",
       "      <td>NaN</td>\n",
       "      <td>NaN</td>\n",
       "      <td>Northern</td>\n",
       "      <td>NaN</td>\n",
       "      <td>NaN</td>\n",
       "      <td>NaN</td>\n",
       "      <td>NaN</td>\n",
       "      <td>NaN</td>\n",
       "      <td>NaN</td>\n",
       "    </tr>\n",
       "  </tbody>\n",
       "</table>\n",
       "</div>"
      ],
      "text/plain": [
       "        State                  Company       City Number of Workers  \\\n",
       "0  California  Amazon (SJC11 Facility)  Sunnyvale                33   \n",
       "1  California  Amazon (SJC14 Facility)  Sunnyvale                 6   \n",
       "2  California  Amazon (SJC31 Facility)  Sunnyvale                 5   \n",
       "3  California  Amazon (SJC32 Facility)  Sunnyvale                 8   \n",
       "4    Virginia              Amazon MAK7   Manassas                88   \n",
       "\n",
       "  WARN Received Date Effective Date    Closure/Layoff Temporary/Permanent  \\\n",
       "0         05/15/2025     07/07/2025  Layoff Permanent                 NaN   \n",
       "1         05/15/2025     07/07/2025  Layoff Permanent                 NaN   \n",
       "2         05/15/2025     07/07/2025  Layoff Permanent                 NaN   \n",
       "3         05/15/2025     07/07/2025  Layoff Permanent                 NaN   \n",
       "4         03/12/2025     05/13/2025           Closure                 NaN   \n",
       "\n",
       "  Union    Region              County            Industry  \\\n",
       "0   NaN       NaN  Santa Clara County  44-45 Retail Trade   \n",
       "1   NaN       NaN  Santa Clara County  44-45 Retail Trade   \n",
       "2   NaN       NaN  Santa Clara County  44-45 Retail Trade   \n",
       "3   NaN       NaN  Santa Clara County  44-45 Retail Trade   \n",
       "4   NaN  Northern                 NaN                 NaN   \n",
       "\n",
       "                                     Notes Received Date Effective\\n  Date  \\\n",
       "0  1100 Enterprise Way  Sunnyvale CA 94089           NaN               NaN   \n",
       "1      905 11th Avenue  Sunnyvale CA 94089           NaN               NaN   \n",
       "2   1100 Discovery Way  Sunnyvale CA 94089           NaN               NaN   \n",
       "3  1140 Enterprise Way  Sunnyvale CA 94089           NaN               NaN   \n",
       "4                                      NaN           NaN               NaN   \n",
       "\n",
       "  Layoff/Closure  \n",
       "0            NaN  \n",
       "1            NaN  \n",
       "2            NaN  \n",
       "3            NaN  \n",
       "4            NaN  "
      ]
     },
     "execution_count": 364,
     "metadata": {},
     "output_type": "execute_result"
    }
   ],
   "source": [
    "# Combine all the dataframes into a single dataframe\n",
    "df_combined = pd.concat([df_amazon, df_apple, df_facebook, df_google, df_microsoft, df_tesla, df_twitter], ignore_index=True)\n",
    "df_combined.head()"
   ]
  },
  {
   "cell_type": "markdown",
   "id": "4761792b",
   "metadata": {},
   "source": [
    "4) A first graph to explore whether there is a trend in layoffs over time"
   ]
  },
  {
   "cell_type": "code",
   "execution_count": 365,
   "id": "bb0aa606",
   "metadata": {},
   "outputs": [
    {
     "data": {
      "image/png": "[encoded data removed]",
      "text/plain": [
       "<Figure size 2500x1000 with 1 Axes>"
      ]
     },
     "metadata": {},
     "output_type": "display_data"
    }
   ],
   "source": [
    "# Convert the 'WARN Received Date' column to datetime format\n",
    "df_combined['WARN Received Date']= pd.to_datetime(df_combined['WARN Received Date'])\n",
    "# Create a new column to just keep the month and year\n",
    "df_combined['Month-Year'] = df_combined['WARN Received Date'].dt.to_period('M')\n",
    "# Remove the coma if any from the 'Number of Workers' column\n",
    "df_combined['Number of Workers'] = (df_combined['Number of Workers'].astype(str).str.replace(',', '', regex=False).str.replace('\\u202f', '', regex=False).str.strip())\n",
    "# Convert the Number of Workers column to numeric\n",
    "df_combined['Number of Workers'] = pd.to_numeric(df_combined['Number of Workers'], errors='coerce')\n",
    "# Group by 'Month-Year' and sum the layoffs\n",
    "df_monthly_layoffs = df_combined.groupby('Month-Year')['Number of Workers'].sum().reset_index()\n",
    "\n",
    "# Plot the monthly layoffs\n",
    "plt.figure(figsize=(25, 10))\n",
    "plt.plot(df_monthly_layoffs['Month-Year'].astype(str), df_monthly_layoffs['Number of Workers'], marker='o')\n",
    "plt.title('Monthly Layoffs in Major Tech Companies')\n",
    "plt.xlabel('Month-Year')    \n",
    "plt.ylabel('Total Layoffs')\n",
    "plt.xticks(rotation=45)\n",
    "plt.grid()\n",
    "plt.tight_layout()\n",
    "plt.show()"
   ]
  },
  {
   "cell_type": "markdown",
   "id": "b3aa3953",
   "metadata": {},
   "source": [
    "We observe a certain seasonality in layoffs, which suggests that this time series could be used to train a forecasting model. "
   ]
  },
  {
   "cell_type": "markdown",
   "id": "c04d314c",
   "metadata": {},
   "source": [
    "5) A treemap showing which time of the year experiences the most layoffs."
   ]
  },
  {
   "cell_type": "code",
   "execution_count": 366,
   "id": "7928928a",
   "metadata": {},
   "outputs": [
    {
     "data": {
      "application/vnd.plotly.v1+json": {
       "config": {
        "plotlyServerURL": "https://plot.ly"
       },
       "data": [
        {
         "branchvalues": "total",
         "customdata": {
          "bdata": "AAAAAAAbw0AAAAAAACakQAAAAAAA7qNAAAAAAAA/v0AAAAAAAErSQAAAAAAAtbBAAAAAAAC8q0AAAAAAACiPQAAAAAAA7qFAAAAAAABApEAAAAAAAHqoQAAAAAAAXKVA",
          "dtype": "f8",
          "shape": "12, 1"
         },
         "domain": {
          "x": [
           0,
           1
          ],
          "y": [
           0,
           1
          ]
         },
         "hovertemplate": "labels=%{label}<br>Number of Workers_sum=%{value}<br>parent=%{parent}<br>id=%{id}<br>Number of Workers=%{color}<extra></extra>",
         "ids": [
          "January",
          "February",
          "March",
          "April",
          "May",
          "June",
          "July",
          "August",
          "September",
          "October",
          "November",
          "December"
         ],
         "labels": [
          "January",
          "February",
          "March",
          "April",
          "May",
          "June",
          "July",
          "August",
          "September",
          "October",
          "November",
          "December"
         ],
         "marker": {
          "coloraxis": "coloraxis",
          "colors": {
           "bdata": "AAAAAAAbw0AAAAAAACakQAAAAAAA7qNAAAAAAAA/v0AAAAAAAErSQAAAAAAAtbBAAAAAAAC8q0AAAAAAACiPQAAAAAAA7qFAAAAAAABApEAAAAAAAHqoQAAAAAAAXKVA",
           "dtype": "f8"
          }
         },
         "name": "",
         "parents": [
          "",
          "",
          "",
          "",
          "",
          "",
          "",
          "",
          "",
          "",
          "",
          ""
         ],
         "type": "treemap",
         "values": {
          "bdata": "AAAAAAAbw0AAAAAAACakQAAAAAAA7qNAAAAAAAA/v0AAAAAAAErSQAAAAAAAtbBAAAAAAAC8q0AAAAAAACiPQAAAAAAA7qFAAAAAAABApEAAAAAAAHqoQAAAAAAAXKVA",
          "dtype": "f8"
         }
        }
       ],
       "layout": {
        "coloraxis": {
         "colorbar": {
          "title": {
           "text": "Number of Workers"
          }
         },
         "colorscale": [
          [
           0,
           "rgb(247,252,245)"
          ],
          [
           0.125,
           "rgb(229,245,224)"
          ],
          [
           0.25,
           "rgb(199,233,192)"
          ],
          [
           0.375,
           "rgb(161,217,155)"
          ],
          [
           0.5,
           "rgb(116,196,118)"
          ],
          [
           0.625,
           "rgb(65,171,93)"
          ],
          [
           0.75,
           "rgb(35,139,69)"
          ],
          [
           0.875,
           "rgb(0,109,44)"
          ],
          [
           1,
           "rgb(0,68,27)"
          ]
         ]
        },
        "legend": {
         "tracegroupgap": 0
        },
        "template": {
         "data": {
          "bar": [
           {
            "error_x": {
             "color": "#2a3f5f"
            },
            "error_y": {
             "color": "#2a3f5f"
            },
            "marker": {
             "line": {
              "color": "#E5ECF6",
              "width": 0.5
             },
             "pattern": {
              "fillmode": "overlay",
              "size": 10,
              "solidity": 0.2
             }
            },
            "type": "bar"
           }
          ],
          "barpolar": [
           {
            "marker": {
             "line": {
              "color": "#E5ECF6",
              "width": 0.5
             },
             "pattern": {
              "fillmode": "overlay",
              "size": 10,
              "solidity": 0.2
             }
            },
            "type": "barpolar"
           }
          ],
          "carpet": [
           {
            "aaxis": {
             "endlinecolor": "#2a3f5f",
             "gridcolor": "white",
             "linecolor": "white",
             "minorgridcolor": "white",
             "startlinecolor": "#2a3f5f"
            },
            "baxis": {
             "endlinecolor": "#2a3f5f",
             "gridcolor": "white",
             "linecolor": "white",
             "minorgridcolor": "white",
             "startlinecolor": "#2a3f5f"
            },
            "type": "carpet"
           }
          ],
          "choropleth": [
           {
            "colorbar": {
             "outlinewidth": 0,
             "ticks": ""
            },
            "type": "choropleth"
           }
          ],
          "contour": [
           {
            "colorbar": {
             "outlinewidth": 0,
             "ticks": ""
            },
            "colorscale": [
             [
              0,
              "#0d0887"
             ],
             [
              0.1111111111111111,
              "#46039f"
             ],
             [
              0.2222222222222222,
              "#7201a8"
             ],
             [
              0.3333333333333333,
              "#9c179e"
             ],
             [
              0.4444444444444444,
              "#bd3786"
             ],
             [
              0.5555555555555556,
              "#d8576b"
             ],
             [
              0.6666666666666666,
              "#ed7953"
             ],
             [
              0.7777777777777778,
              "#fb9f3a"
             ],
             [
              0.8888888888888888,
              "#fdca26"
             ],
             [
              1,
              "#f0f921"
             ]
            ],
            "type": "contour"
           }
          ],
          "contourcarpet": [
           {
            "colorbar": {
             "outlinewidth": 0,
             "ticks": ""
            },
            "type": "contourcarpet"
           }
          ],
          "heatmap": [
           {
            "colorbar": {
             "outlinewidth": 0,
             "ticks": ""
            },
            "colorscale": [
             [
              0,
              "#0d0887"
             ],
             [
              0.1111111111111111,
              "#46039f"
             ],
             [
              0.2222222222222222,
              "#7201a8"
             ],
             [
              0.3333333333333333,
              "#9c179e"
             ],
             [
              0.4444444444444444,
              "#bd3786"
             ],
             [
              0.5555555555555556,
              "#d8576b"
             ],
             [
              0.6666666666666666,
              "#ed7953"
             ],
             [
              0.7777777777777778,
              "#fb9f3a"
             ],
             [
              0.8888888888888888,
              "#fdca26"
             ],
             [
              1,
              "#f0f921"
             ]
            ],
            "type": "heatmap"
           }
          ],
          "histogram": [
           {
            "marker": {
             "pattern": {
              "fillmode": "overlay",
              "size": 10,
              "solidity": 0.2
             }
            },
            "type": "histogram"
           }
          ],
          "histogram2d": [
           {
            "colorbar": {
             "outlinewidth": 0,
             "ticks": ""
            },
            "colorscale": [
             [
              0,
              "#0d0887"
             ],
             [
              0.1111111111111111,
              "#46039f"
             ],
             [
              0.2222222222222222,
              "#7201a8"
             ],
             [
              0.3333333333333333,
              "#9c179e"
             ],
             [
              0.4444444444444444,
              "#bd3786"
             ],
             [
              0.5555555555555556,
              "#d8576b"
             ],
             [
              0.6666666666666666,
              "#ed7953"
             ],
             [
              0.7777777777777778,
              "#fb9f3a"
             ],
             [
              0.8888888888888888,
              "#fdca26"
             ],
             [
              1,
              "#f0f921"
             ]
            ],
            "type": "histogram2d"
           }
          ],
          "histogram2dcontour": [
           {
            "colorbar": {
             "outlinewidth": 0,
             "ticks": ""
            },
            "colorscale": [
             [
              0,
              "#0d0887"
             ],
             [
              0.1111111111111111,
              "#46039f"
             ],
             [
              0.2222222222222222,
              "#7201a8"
             ],
             [
              0.3333333333333333,
              "#9c179e"
             ],
             [
              0.4444444444444444,
              "#bd3786"
             ],
             [
              0.5555555555555556,
              "#d8576b"
             ],
             [
              0.6666666666666666,
              "#ed7953"
             ],
             [
              0.7777777777777778,
              "#fb9f3a"
             ],
             [
              0.8888888888888888,
              "#fdca26"
             ],
             [
              1,
              "#f0f921"
             ]
            ],
            "type": "histogram2dcontour"
           }
          ],
          "mesh3d": [
           {
            "colorbar": {
             "outlinewidth": 0,
             "ticks": ""
            },
            "type": "mesh3d"
           }
          ],
          "parcoords": [
           {
            "line": {
             "colorbar": {
              "outlinewidth": 0,
              "ticks": ""
             }
            },
            "type": "parcoords"
           }
          ],
          "pie": [
           {
            "automargin": true,
            "type": "pie"
           }
          ],
          "scatter": [
           {
            "fillpattern": {
             "fillmode": "overlay",
             "size": 10,
             "solidity": 0.2
            },
            "type": "scatter"
           }
          ],
          "scatter3d": [
           {
            "line": {
             "colorbar": {
              "outlinewidth": 0,
              "ticks": ""
             }
            },
            "marker": {
             "colorbar": {
              "outlinewidth": 0,
              "ticks": ""
             }
            },
            "type": "scatter3d"
           }
          ],
          "scattercarpet": [
           {
            "marker": {
             "colorbar": {
              "outlinewidth": 0,
              "ticks": ""
             }
            },
            "type": "scattercarpet"
           }
          ],
          "scattergeo": [
           {
            "marker": {
             "colorbar": {
              "outlinewidth": 0,
              "ticks": ""
             }
            },
            "type": "scattergeo"
           }
          ],
          "scattergl": [
           {
            "marker": {
             "colorbar": {
              "outlinewidth": 0,
              "ticks": ""
             }
            },
            "type": "scattergl"
           }
          ],
          "scattermap": [
           {
            "marker": {
             "colorbar": {
              "outlinewidth": 0,
              "ticks": ""
             }
            },
            "type": "scattermap"
           }
          ],
          "scattermapbox": [
           {
            "marker": {
             "colorbar": {
              "outlinewidth": 0,
              "ticks": ""
             }
            },
            "type": "scattermapbox"
           }
          ],
          "scatterpolar": [
           {
            "marker": {
             "colorbar": {
              "outlinewidth": 0,
              "ticks": ""
             }
            },
            "type": "scatterpolar"
           }
          ],
          "scatterpolargl": [
           {
            "marker": {
             "colorbar": {
              "outlinewidth": 0,
              "ticks": ""
             }
            },
            "type": "scatterpolargl"
           }
          ],
          "scatterternary": [
           {
            "marker": {
             "colorbar": {
              "outlinewidth": 0,
              "ticks": ""
             }
            },
            "type": "scatterternary"
           }
          ],
          "surface": [
           {
            "colorbar": {
             "outlinewidth": 0,
             "ticks": ""
            },
            "colorscale": [
             [
              0,
              "#0d0887"
             ],
             [
              0.1111111111111111,
              "#46039f"
             ],
             [
              0.2222222222222222,
              "#7201a8"
             ],
             [
              0.3333333333333333,
              "#9c179e"
             ],
             [
              0.4444444444444444,
              "#bd3786"
             ],
             [
              0.5555555555555556,
              "#d8576b"
             ],
             [
              0.6666666666666666,
              "#ed7953"
             ],
             [
              0.7777777777777778,
              "#fb9f3a"
             ],
             [
              0.8888888888888888,
              "#fdca26"
             ],
             [
              1,
              "#f0f921"
             ]
            ],
            "type": "surface"
           }
          ],
          "table": [
           {
            "cells": {
             "fill": {
              "color": "#EBF0F8"
             },
             "line": {
              "color": "white"
             }
            },
            "header": {
             "fill": {
              "color": "#C8D4E3"
             },
             "line": {
              "color": "white"
             }
            },
            "type": "table"
           }
          ]
         },
         "layout": {
          "annotationdefaults": {
           "arrowcolor": "#2a3f5f",
           "arrowhead": 0,
           "arrowwidth": 1
          },
          "autotypenumbers": "strict",
          "coloraxis": {
           "colorbar": {
            "outlinewidth": 0,
            "ticks": ""
           }
          },
          "colorscale": {
           "diverging": [
            [
             0,
             "#8e0152"
            ],
            [
             0.1,
             "#c51b7d"
            ],
            [
             0.2,
             "#de77ae"
            ],
            [
             0.3,
             "#f1b6da"
            ],
            [
             0.4,
             "#fde0ef"
            ],
            [
             0.5,
             "#f7f7f7"
            ],
            [
             0.6,
             "#e6f5d0"
            ],
            [
             0.7,
             "#b8e186"
            ],
            [
             0.8,
             "#7fbc41"
            ],
            [
             0.9,
             "#4d9221"
            ],
            [
             1,
             "#276419"
            ]
           ],
           "sequential": [
            [
             0,
             "#0d0887"
            ],
            [
             0.1111111111111111,
             "#46039f"
            ],
            [
             0.2222222222222222,
             "#7201a8"
            ],
            [
             0.3333333333333333,
             "#9c179e"
            ],
            [
             0.4444444444444444,
             "#bd3786"
            ],
            [
             0.5555555555555556,
             "#d8576b"
            ],
            [
             0.6666666666666666,
             "#ed7953"
            ],
            [
             0.7777777777777778,
             "#fb9f3a"
            ],
            [
             0.8888888888888888,
             "#fdca26"
            ],
            [
             1,
             "#f0f921"
            ]
           ],
           "sequentialminus": [
            [
             0,
             "#0d0887"
            ],
            [
             0.1111111111111111,
             "#46039f"
            ],
            [
             0.2222222222222222,
             "#7201a8"
            ],
            [
             0.3333333333333333,
             "#9c179e"
            ],
            [
             0.4444444444444444,
             "#bd3786"
            ],
            [
             0.5555555555555556,
             "#d8576b"
            ],
            [
             0.6666666666666666,
             "#ed7953"
            ],
            [
             0.7777777777777778,
             "#fb9f3a"
            ],
            [
             0.8888888888888888,
             "#fdca26"
            ],
            [
             1,
             "#f0f921"
            ]
           ]
          },
          "colorway": [
           "#636efa",
           "#EF553B",
           "#00cc96",
           "#ab63fa",
           "#FFA15A",
           "#19d3f3",
           "#FF6692",
           "#B6E880",
           "#FF97FF",
           "#FECB52"
          ],
          "font": {
           "color": "#2a3f5f"
          },
          "geo": {
           "bgcolor": "white",
           "lakecolor": "white",
           "landcolor": "#E5ECF6",
           "showlakes": true,
           "showland": true,
           "subunitcolor": "white"
          },
          "hoverlabel": {
           "align": "left"
          },
          "hovermode": "closest",
          "mapbox": {
           "style": "light"
          },
          "paper_bgcolor": "white",
          "plot_bgcolor": "#E5ECF6",
          "polar": {
           "angularaxis": {
            "gridcolor": "white",
            "linecolor": "white",
            "ticks": ""
           },
           "bgcolor": "#E5ECF6",
           "radialaxis": {
            "gridcolor": "white",
            "linecolor": "white",
            "ticks": ""
           }
          },
          "scene": {
           "xaxis": {
            "backgroundcolor": "#E5ECF6",
            "gridcolor": "white",
            "gridwidth": 2,
            "linecolor": "white",
            "showbackground": true,
            "ticks": "",
            "zerolinecolor": "white"
           },
           "yaxis": {
            "backgroundcolor": "#E5ECF6",
            "gridcolor": "white",
            "gridwidth": 2,
            "linecolor": "white",
            "showbackground": true,
            "ticks": "",
            "zerolinecolor": "white"
           },
           "zaxis": {
            "backgroundcolor": "#E5ECF6",
            "gridcolor": "white",
            "gridwidth": 2,
            "linecolor": "white",
            "showbackground": true,
            "ticks": "",
            "zerolinecolor": "white"
           }
          },
          "shapedefaults": {
           "line": {
            "color": "#2a3f5f"
           }
          },
          "ternary": {
           "aaxis": {
            "gridcolor": "white",
            "linecolor": "white",
            "ticks": ""
           },
           "baxis": {
            "gridcolor": "white",
            "linecolor": "white",
            "ticks": ""
           },
           "bgcolor": "#E5ECF6",
           "caxis": {
            "gridcolor": "white",
            "linecolor": "white",
            "ticks": ""
           }
          },
          "title": {
           "x": 0.05
          },
          "xaxis": {
           "automargin": true,
           "gridcolor": "white",
           "linecolor": "white",
           "ticks": "",
           "title": {
            "standoff": 15
           },
           "zerolinecolor": "white",
           "zerolinewidth": 2
          },
          "yaxis": {
           "automargin": true,
           "gridcolor": "white",
           "linecolor": "white",
           "ticks": "",
           "title": {
            "standoff": 15
           },
           "zerolinecolor": "white",
           "zerolinewidth": 2
          }
         }
        },
        "title": {
         "text": "Total Layoffs by Month in Major Tech Companies"
        }
       }
      }
     },
     "metadata": {},
     "output_type": "display_data"
    }
   ],
   "source": [
    "# Extract month and month name\n",
    "df_combined['Month'] = df_combined['WARN Received Date'].dt.month\n",
    "df_combined['Month name'] = df_combined['WARN Received Date'].dt.strftime('%B')\n",
    "# Group by month and sum the layoffs\n",
    "monthly_total = df_combined.groupby('Month name')['Number of Workers'].sum().reset_index()\n",
    "# Add a month number for sorting\n",
    "monthly_total['Month Num'] = pd.to_datetime(monthly_total['Month name'], format='%B').dt.month\n",
    "monthly_total = monthly_total.sort_values('Month Num')\n",
    "# Treemap visualization\n",
    "fig = px.treemap(monthly_total, path=['Month name'], values='Number of Workers',\n",
    "                 title='Total Layoffs by Month in Major Tech Companies',\n",
    "                 color='Number of Workers', color_continuous_scale='Greens')\n",
    "fig.show()"
   ]
  },
  {
   "cell_type": "markdown",
   "id": "56e71826",
   "metadata": {},
   "source": [
    "6) Treemap by state"
   ]
  },
  {
   "cell_type": "code",
   "execution_count": 367,
   "id": "f8c84f19",
   "metadata": {},
   "outputs": [
    {
     "data": {
      "application/vnd.plotly.v1+json": {
       "config": {
        "plotlyServerURL": "https://plot.ly"
       },
       "data": [
        {
         "branchvalues": "total",
         "customdata": {
          "bdata": "AAAAAABgYUAAAAAAAKBkQAAAAADAQOJAAAAAAADAakAAAAAAAIBMQAAAAAAAGI9AAAAAAAAAU0AAAAAAAHB4QAAAAAAAgEZAAAAAAAAoiEAAAAAAAMBiQAAAAAAACINAAAAAAABAUkAAAAAAACCHQAAAAAAAoI5AAAAAAACAREAAAAAAAACAQAAAAAAAgI5AAAAAAACAWUAAAAAAAOB2QAAAAAAAgHFAAAAAAABAgEAAAAAAAOBtQAAAAAAAgKpAAAAAAABAWEAAAAAAAGBjQAAAAAAAfstA",
          "dtype": "f8",
          "shape": "27, 1"
         },
         "domain": {
          "x": [
           0,
           1
          ],
          "y": [
           0,
           1
          ]
         },
         "hovertemplate": "labels=%{label}<br>Number of Workers_sum=%{value}<br>parent=%{parent}<br>id=%{id}<br>Number of Workers=%{color}<extra></extra>",
         "ids": [
          "Alabama",
          "Arizona",
          "California",
          "Colorado",
          "Florida",
          "Georgia",
          "Hawaii",
          "Illinois",
          "Indiana",
          "Kansas",
          "Kentucky",
          "Maryland",
          "Massachusetts",
          "Minnesota",
          "Nevada",
          "New Hampshire",
          "New Jersey",
          "New York",
          "North Carolina",
          "Ohio",
          "Oregon",
          "Pennsylvania",
          "South Carolina",
          "Texas",
          "Utah",
          "Virginia",
          "Washington"
         ],
         "labels": [
          "Alabama",
          "Arizona",
          "California",
          "Colorado",
          "Florida",
          "Georgia",
          "Hawaii",
          "Illinois",
          "Indiana",
          "Kansas",
          "Kentucky",
          "Maryland",
          "Massachusetts",
          "Minnesota",
          "Nevada",
          "New Hampshire",
          "New Jersey",
          "New York",
          "North Carolina",
          "Ohio",
          "Oregon",
          "Pennsylvania",
          "South Carolina",
          "Texas",
          "Utah",
          "Virginia",
          "Washington"
         ],
         "marker": {
          "coloraxis": "coloraxis",
          "colors": {
           "bdata": "AAAAAABgYUAAAAAAAKBkQAAAAADAQOJAAAAAAADAakAAAAAAAIBMQAAAAAAAGI9AAAAAAAAAU0AAAAAAAHB4QAAAAAAAgEZAAAAAAAAoiEAAAAAAAMBiQAAAAAAACINAAAAAAABAUkAAAAAAACCHQAAAAAAAoI5AAAAAAACAREAAAAAAAACAQAAAAAAAgI5AAAAAAACAWUAAAAAAAOB2QAAAAAAAgHFAAAAAAABAgEAAAAAAAOBtQAAAAAAAgKpAAAAAAABAWEAAAAAAAGBjQAAAAAAAfstA",
           "dtype": "f8"
          }
         },
         "name": "",
         "parents": [
          "",
          "",
          "",
          "",
          "",
          "",
          "",
          "",
          "",
          "",
          "",
          "",
          "",
          "",
          "",
          "",
          "",
          "",
          "",
          "",
          "",
          "",
          "",
          "",
          "",
          "",
          ""
         ],
         "type": "treemap",
         "values": {
          "bdata": "AAAAAABgYUAAAAAAAKBkQAAAAADAQOJAAAAAAADAakAAAAAAAIBMQAAAAAAAGI9AAAAAAAAAU0AAAAAAAHB4QAAAAAAAgEZAAAAAAAAoiEAAAAAAAMBiQAAAAAAACINAAAAAAABAUkAAAAAAACCHQAAAAAAAoI5AAAAAAACAREAAAAAAAACAQAAAAAAAgI5AAAAAAACAWUAAAAAAAOB2QAAAAAAAgHFAAAAAAABAgEAAAAAAAOBtQAAAAAAAgKpAAAAAAABAWEAAAAAAAGBjQAAAAAAAfstA",
          "dtype": "f8"
         }
        }
       ],
       "layout": {
        "coloraxis": {
         "colorbar": {
          "title": {
           "text": "Number of Workers"
          }
         },
         "colorscale": [
          [
           0,
           "rgb(247,251,255)"
          ],
          [
           0.125,
           "rgb(222,235,247)"
          ],
          [
           0.25,
           "rgb(198,219,239)"
          ],
          [
           0.375,
           "rgb(158,202,225)"
          ],
          [
           0.5,
           "rgb(107,174,214)"
          ],
          [
           0.625,
           "rgb(66,146,198)"
          ],
          [
           0.75,
           "rgb(33,113,181)"
          ],
          [
           0.875,
           "rgb(8,81,156)"
          ],
          [
           1,
           "rgb(8,48,107)"
          ]
         ]
        },
        "legend": {
         "tracegroupgap": 0
        },
        "template": {
         "data": {
          "bar": [
           {
            "error_x": {
             "color": "#2a3f5f"
            },
            "error_y": {
             "color": "#2a3f5f"
            },
            "marker": {
             "line": {
              "color": "#E5ECF6",
              "width": 0.5
             },
             "pattern": {
              "fillmode": "overlay",
              "size": 10,
              "solidity": 0.2
             }
            },
            "type": "bar"
           }
          ],
          "barpolar": [
           {
            "marker": {
             "line": {
              "color": "#E5ECF6",
              "width": 0.5
             },
             "pattern": {
              "fillmode": "overlay",
              "size": 10,
              "solidity": 0.2
             }
            },
            "type": "barpolar"
           }
          ],
          "carpet": [
           {
            "aaxis": {
             "endlinecolor": "#2a3f5f",
             "gridcolor": "white",
             "linecolor": "white",
             "minorgridcolor": "white",
             "startlinecolor": "#2a3f5f"
            },
            "baxis": {
             "endlinecolor": "#2a3f5f",
             "gridcolor": "white",
             "linecolor": "white",
             "minorgridcolor": "white",
             "startlinecolor": "#2a3f5f"
            },
            "type": "carpet"
           }
          ],
          "choropleth": [
           {
            "colorbar": {
             "outlinewidth": 0,
             "ticks": ""
            },
            "type": "choropleth"
           }
          ],
          "contour": [
           {
            "colorbar": {
             "outlinewidth": 0,
             "ticks": ""
            },
            "colorscale": [
             [
              0,
              "#0d0887"
             ],
             [
              0.1111111111111111,
              "#46039f"
             ],
             [
              0.2222222222222222,
              "#7201a8"
             ],
             [
              0.3333333333333333,
              "#9c179e"
             ],
             [
              0.4444444444444444,
              "#bd3786"
             ],
             [
              0.5555555555555556,
              "#d8576b"
             ],
             [
              0.6666666666666666,
              "#ed7953"
             ],
             [
              0.7777777777777778,
              "#fb9f3a"
             ],
             [
              0.8888888888888888,
              "#fdca26"
             ],
             [
              1,
              "#f0f921"
             ]
            ],
            "type": "contour"
           }
          ],
          "contourcarpet": [
           {
            "colorbar": {
             "outlinewidth": 0,
             "ticks": ""
            },
            "type": "contourcarpet"
           }
          ],
          "heatmap": [
           {
            "colorbar": {
             "outlinewidth": 0,
             "ticks": ""
            },
            "colorscale": [
             [
              0,
              "#0d0887"
             ],
             [
              0.1111111111111111,
              "#46039f"
             ],
             [
              0.2222222222222222,
              "#7201a8"
             ],
             [
              0.3333333333333333,
              "#9c179e"
             ],
             [
              0.4444444444444444,
              "#bd3786"
             ],
             [
              0.5555555555555556,
              "#d8576b"
             ],
             [
              0.6666666666666666,
              "#ed7953"
             ],
             [
              0.7777777777777778,
              "#fb9f3a"
             ],
             [
              0.8888888888888888,
              "#fdca26"
             ],
             [
              1,
              "#f0f921"
             ]
            ],
            "type": "heatmap"
           }
          ],
          "histogram": [
           {
            "marker": {
             "pattern": {
              "fillmode": "overlay",
              "size": 10,
              "solidity": 0.2
             }
            },
            "type": "histogram"
           }
          ],
          "histogram2d": [
           {
            "colorbar": {
             "outlinewidth": 0,
             "ticks": ""
            },
            "colorscale": [
             [
              0,
              "#0d0887"
             ],
             [
              0.1111111111111111,
              "#46039f"
             ],
             [
              0.2222222222222222,
              "#7201a8"
             ],
             [
              0.3333333333333333,
              "#9c179e"
             ],
             [
              0.4444444444444444,
              "#bd3786"
             ],
             [
              0.5555555555555556,
              "#d8576b"
             ],
             [
              0.6666666666666666,
              "#ed7953"
             ],
             [
              0.7777777777777778,
              "#fb9f3a"
             ],
             [
              0.8888888888888888,
              "#fdca26"
             ],
             [
              1,
              "#f0f921"
             ]
            ],
            "type": "histogram2d"
           }
          ],
          "histogram2dcontour": [
           {
            "colorbar": {
             "outlinewidth": 0,
             "ticks": ""
            },
            "colorscale": [
             [
              0,
              "#0d0887"
             ],
             [
              0.1111111111111111,
              "#46039f"
             ],
             [
              0.2222222222222222,
              "#7201a8"
             ],
             [
              0.3333333333333333,
              "#9c179e"
             ],
             [
              0.4444444444444444,
              "#bd3786"
             ],
             [
              0.5555555555555556,
              "#d8576b"
             ],
             [
              0.6666666666666666,
              "#ed7953"
             ],
             [
              0.7777777777777778,
              "#fb9f3a"
             ],
             [
              0.8888888888888888,
              "#fdca26"
             ],
             [
              1,
              "#f0f921"
             ]
            ],
            "type": "histogram2dcontour"
           }
          ],
          "mesh3d": [
           {
            "colorbar": {
             "outlinewidth": 0,
             "ticks": ""
            },
            "type": "mesh3d"
           }
          ],
          "parcoords": [
           {
            "line": {
             "colorbar": {
              "outlinewidth": 0,
              "ticks": ""
             }
            },
            "type": "parcoords"
           }
          ],
          "pie": [
           {
            "automargin": true,
            "type": "pie"
           }
          ],
          "scatter": [
           {
            "fillpattern": {
             "fillmode": "overlay",
             "size": 10,
             "solidity": 0.2
            },
            "type": "scatter"
           }
          ],
          "scatter3d": [
           {
            "line": {
             "colorbar": {
              "outlinewidth": 0,
              "ticks": ""
             }
            },
            "marker": {
             "colorbar": {
              "outlinewidth": 0,
              "ticks": ""
             }
            },
            "type": "scatter3d"
           }
          ],
          "scattercarpet": [
           {
            "marker": {
             "colorbar": {
              "outlinewidth": 0,
              "ticks": ""
             }
            },
            "type": "scattercarpet"
           }
          ],
          "scattergeo": [
           {
            "marker": {
             "colorbar": {
              "outlinewidth": 0,
              "ticks": ""
             }
            },
            "type": "scattergeo"
           }
          ],
          "scattergl": [
           {
            "marker": {
             "colorbar": {
              "outlinewidth": 0,
              "ticks": ""
             }
            },
            "type": "scattergl"
           }
          ],
          "scattermap": [
           {
            "marker": {
             "colorbar": {
              "outlinewidth": 0,
              "ticks": ""
             }
            },
            "type": "scattermap"
           }
          ],
          "scattermapbox": [
           {
            "marker": {
             "colorbar": {
              "outlinewidth": 0,
              "ticks": ""
             }
            },
            "type": "scattermapbox"
           }
          ],
          "scatterpolar": [
           {
            "marker": {
             "colorbar": {
              "outlinewidth": 0,
              "ticks": ""
             }
            },
            "type": "scatterpolar"
           }
          ],
          "scatterpolargl": [
           {
            "marker": {
             "colorbar": {
              "outlinewidth": 0,
              "ticks": ""
             }
            },
            "type": "scatterpolargl"
           }
          ],
          "scatterternary": [
           {
            "marker": {
             "colorbar": {
              "outlinewidth": 0,
              "ticks": ""
             }
            },
            "type": "scatterternary"
           }
          ],
          "surface": [
           {
            "colorbar": {
             "outlinewidth": 0,
             "ticks": ""
            },
            "colorscale": [
             [
              0,
              "#0d0887"
             ],
             [
              0.1111111111111111,
              "#46039f"
             ],
             [
              0.2222222222222222,
              "#7201a8"
             ],
             [
              0.3333333333333333,
              "#9c179e"
             ],
             [
              0.4444444444444444,
              "#bd3786"
             ],
             [
              0.5555555555555556,
              "#d8576b"
             ],
             [
              0.6666666666666666,
              "#ed7953"
             ],
             [
              0.7777777777777778,
              "#fb9f3a"
             ],
             [
              0.8888888888888888,
              "#fdca26"
             ],
             [
              1,
              "#f0f921"
             ]
            ],
            "type": "surface"
           }
          ],
          "table": [
           {
            "cells": {
             "fill": {
              "color": "#EBF0F8"
             },
             "line": {
              "color": "white"
             }
            },
            "header": {
             "fill": {
              "color": "#C8D4E3"
             },
             "line": {
              "color": "white"
             }
            },
            "type": "table"
           }
          ]
         },
         "layout": {
          "annotationdefaults": {
           "arrowcolor": "#2a3f5f",
           "arrowhead": 0,
           "arrowwidth": 1
          },
          "autotypenumbers": "strict",
          "coloraxis": {
           "colorbar": {
            "outlinewidth": 0,
            "ticks": ""
           }
          },
          "colorscale": {
           "diverging": [
            [
             0,
             "#8e0152"
            ],
            [
             0.1,
             "#c51b7d"
            ],
            [
             0.2,
             "#de77ae"
            ],
            [
             0.3,
             "#f1b6da"
            ],
            [
             0.4,
             "#fde0ef"
            ],
            [
             0.5,
             "#f7f7f7"
            ],
            [
             0.6,
             "#e6f5d0"
            ],
            [
             0.7,
             "#b8e186"
            ],
            [
             0.8,
             "#7fbc41"
            ],
            [
             0.9,
             "#4d9221"
            ],
            [
             1,
             "#276419"
            ]
           ],
           "sequential": [
            [
             0,
             "#0d0887"
            ],
            [
             0.1111111111111111,
             "#46039f"
            ],
            [
             0.2222222222222222,
             "#7201a8"
            ],
            [
             0.3333333333333333,
             "#9c179e"
            ],
            [
             0.4444444444444444,
             "#bd3786"
            ],
            [
             0.5555555555555556,
             "#d8576b"
            ],
            [
             0.6666666666666666,
             "#ed7953"
            ],
            [
             0.7777777777777778,
             "#fb9f3a"
            ],
            [
             0.8888888888888888,
             "#fdca26"
            ],
            [
             1,
             "#f0f921"
            ]
           ],
           "sequentialminus": [
            [
             0,
             "#0d0887"
            ],
            [
             0.1111111111111111,
             "#46039f"
            ],
            [
             0.2222222222222222,
             "#7201a8"
            ],
            [
             0.3333333333333333,
             "#9c179e"
            ],
            [
             0.4444444444444444,
             "#bd3786"
            ],
            [
             0.5555555555555556,
             "#d8576b"
            ],
            [
             0.6666666666666666,
             "#ed7953"
            ],
            [
             0.7777777777777778,
             "#fb9f3a"
            ],
            [
             0.8888888888888888,
             "#fdca26"
            ],
            [
             1,
             "#f0f921"
            ]
           ]
          },
          "colorway": [
           "#636efa",
           "#EF553B",
           "#00cc96",
           "#ab63fa",
           "#FFA15A",
           "#19d3f3",
           "#FF6692",
           "#B6E880",
           "#FF97FF",
           "#FECB52"
          ],
          "font": {
           "color": "#2a3f5f"
          },
          "geo": {
           "bgcolor": "white",
           "lakecolor": "white",
           "landcolor": "#E5ECF6",
           "showlakes": true,
           "showland": true,
           "subunitcolor": "white"
          },
          "hoverlabel": {
           "align": "left"
          },
          "hovermode": "closest",
          "mapbox": {
           "style": "light"
          },
          "paper_bgcolor": "white",
          "plot_bgcolor": "#E5ECF6",
          "polar": {
           "angularaxis": {
            "gridcolor": "white",
            "linecolor": "white",
            "ticks": ""
           },
           "bgcolor": "#E5ECF6",
           "radialaxis": {
            "gridcolor": "white",
            "linecolor": "white",
            "ticks": ""
           }
          },
          "scene": {
           "xaxis": {
            "backgroundcolor": "#E5ECF6",
            "gridcolor": "white",
            "gridwidth": 2,
            "linecolor": "white",
            "showbackground": true,
            "ticks": "",
            "zerolinecolor": "white"
           },
           "yaxis": {
            "backgroundcolor": "#E5ECF6",
            "gridcolor": "white",
            "gridwidth": 2,
            "linecolor": "white",
            "showbackground": true,
            "ticks": "",
            "zerolinecolor": "white"
           },
           "zaxis": {
            "backgroundcolor": "#E5ECF6",
            "gridcolor": "white",
            "gridwidth": 2,
            "linecolor": "white",
            "showbackground": true,
            "ticks": "",
            "zerolinecolor": "white"
           }
          },
          "shapedefaults": {
           "line": {
            "color": "#2a3f5f"
           }
          },
          "ternary": {
           "aaxis": {
            "gridcolor": "white",
            "linecolor": "white",
            "ticks": ""
           },
           "baxis": {
            "gridcolor": "white",
            "linecolor": "white",
            "ticks": ""
           },
           "bgcolor": "#E5ECF6",
           "caxis": {
            "gridcolor": "white",
            "linecolor": "white",
            "ticks": ""
           }
          },
          "title": {
           "x": 0.05
          },
          "xaxis": {
           "automargin": true,
           "gridcolor": "white",
           "linecolor": "white",
           "ticks": "",
           "title": {
            "standoff": 15
           },
           "zerolinecolor": "white",
           "zerolinewidth": 2
          },
          "yaxis": {
           "automargin": true,
           "gridcolor": "white",
           "linecolor": "white",
           "ticks": "",
           "title": {
            "standoff": 15
           },
           "zerolinecolor": "white",
           "zerolinewidth": 2
          }
         }
        },
        "title": {
         "text": "Total Layoffs by State in Major Tech Companies"
        }
       }
      }
     },
     "metadata": {},
     "output_type": "display_data"
    }
   ],
   "source": [
    "df_state_totals = df_combined.groupby('State')['Number of Workers'].sum().reset_index()\n",
    "# Treemap visualization for layoffs by state\n",
    "fig_state = px.treemap(df_state_totals, path=['State'], values='Number of Workers',\n",
    "                       title='Total Layoffs by State in Major Tech Companies',\n",
    "                       color='Number of Workers', color_continuous_scale='Blues')\n",
    "fig_state.show()"
   ]
  },
  {
   "cell_type": "markdown",
   "id": "f8e0abbb",
   "metadata": {},
   "source": [
    "7) Take the data for every state of interest"
   ]
  },
  {
   "cell_type": "code",
   "execution_count": 368,
   "id": "8373dc7e",
   "metadata": {},
   "outputs": [
    {
     "name": "stdout",
     "output_type": "stream",
     "text": [
      "Combined Layoffs Data (Texas):\n"
     ]
    },
    {
     "data": {
      "text/html": [
       "<div>\n",
       "<style scoped>\n",
       "    .dataframe tbody tr th:only-of-type {\n",
       "        vertical-align: middle;\n",
       "    }\n",
       "\n",
       "    .dataframe tbody tr th {\n",
       "        vertical-align: top;\n",
       "    }\n",
       "\n",
       "    .dataframe thead th {\n",
       "        text-align: right;\n",
       "    }\n",
       "</style>\n",
       "<table border=\"1\" class=\"dataframe\">\n",
       "  <thead>\n",
       "    <tr style=\"text-align: right;\">\n",
       "      <th></th>\n",
       "      <th>State</th>\n",
       "      <th>Company</th>\n",
       "      <th>City</th>\n",
       "      <th>Number of Workers</th>\n",
       "      <th>WARN Received Date</th>\n",
       "      <th>Effective Date</th>\n",
       "      <th>Closure/Layoff</th>\n",
       "      <th>Temporary/Permanent</th>\n",
       "      <th>Union</th>\n",
       "      <th>Region</th>\n",
       "      <th>County</th>\n",
       "      <th>Industry</th>\n",
       "      <th>Notes</th>\n",
       "      <th>Received Date</th>\n",
       "      <th>Effective\\n  Date</th>\n",
       "      <th>Layoff/Closure</th>\n",
       "      <th>Month-Year</th>\n",
       "      <th>Month</th>\n",
       "      <th>Month name</th>\n",
       "    </tr>\n",
       "  </thead>\n",
       "  <tbody>\n",
       "    <tr>\n",
       "      <th>29</th>\n",
       "      <td>Texas</td>\n",
       "      <td>Whole Food Market (Midtown Houston)</td>\n",
       "      <td>Houston</td>\n",
       "      <td>110.0</td>\n",
       "      <td>2023-11-08</td>\n",
       "      <td>12/05/2023</td>\n",
       "      <td>NaN</td>\n",
       "      <td>NaN</td>\n",
       "      <td>NaN</td>\n",
       "      <td>Gulf Coast WDA</td>\n",
       "      <td>Harris</td>\n",
       "      <td>NaN</td>\n",
       "      <td>NaN</td>\n",
       "      <td>NaN</td>\n",
       "      <td>NaN</td>\n",
       "      <td>NaN</td>\n",
       "      <td>2023-11</td>\n",
       "      <td>11.0</td>\n",
       "      <td>November</td>\n",
       "    </tr>\n",
       "    <tr>\n",
       "      <th>97</th>\n",
       "      <td>Texas</td>\n",
       "      <td>Whole Foods Market-Bolm Rd.</td>\n",
       "      <td>Austin</td>\n",
       "      <td>40.0</td>\n",
       "      <td>2017-03-02</td>\n",
       "      <td>04/30/2017</td>\n",
       "      <td>NaN</td>\n",
       "      <td>NaN</td>\n",
       "      <td>NaN</td>\n",
       "      <td>Capital Area WDA</td>\n",
       "      <td>Travis</td>\n",
       "      <td>NaN</td>\n",
       "      <td>NaN</td>\n",
       "      <td>NaN</td>\n",
       "      <td>NaN</td>\n",
       "      <td>NaN</td>\n",
       "      <td>2017-03</td>\n",
       "      <td>3.0</td>\n",
       "      <td>March</td>\n",
       "    </tr>\n",
       "    <tr>\n",
       "      <th>103</th>\n",
       "      <td>Texas</td>\n",
       "      <td>Whole Foods Market-Houston</td>\n",
       "      <td>Houston</td>\n",
       "      <td>100.0</td>\n",
       "      <td>2015-05-01</td>\n",
       "      <td>07/03/2015</td>\n",
       "      <td>NaN</td>\n",
       "      <td>NaN</td>\n",
       "      <td>NaN</td>\n",
       "      <td>Gulf Coast WDA</td>\n",
       "      <td>Harris</td>\n",
       "      <td>NaN</td>\n",
       "      <td>NaN</td>\n",
       "      <td>NaN</td>\n",
       "      <td>NaN</td>\n",
       "      <td>NaN</td>\n",
       "      <td>2015-05</td>\n",
       "      <td>5.0</td>\n",
       "      <td>May</td>\n",
       "    </tr>\n",
       "    <tr>\n",
       "      <th>106</th>\n",
       "      <td>Texas</td>\n",
       "      <td>Whole Foods Market - Dallas Bakehouse</td>\n",
       "      <td>Dallas</td>\n",
       "      <td>70.0</td>\n",
       "      <td>2012-01-02</td>\n",
       "      <td>03/11/2012</td>\n",
       "      <td>NaN</td>\n",
       "      <td>NaN</td>\n",
       "      <td>NaN</td>\n",
       "      <td>Dallas County WDA</td>\n",
       "      <td>Dallas</td>\n",
       "      <td>NaN</td>\n",
       "      <td>NaN</td>\n",
       "      <td>NaN</td>\n",
       "      <td>NaN</td>\n",
       "      <td>NaN</td>\n",
       "      <td>2012-01</td>\n",
       "      <td>1.0</td>\n",
       "      <td>January</td>\n",
       "    </tr>\n",
       "    <tr>\n",
       "      <th>108</th>\n",
       "      <td>Texas</td>\n",
       "      <td>Whole Foods Market - Southwest Distribution Ce...</td>\n",
       "      <td>Austin</td>\n",
       "      <td>60.0</td>\n",
       "      <td>2010-07-27</td>\n",
       "      <td>09/26/2010</td>\n",
       "      <td>NaN</td>\n",
       "      <td>NaN</td>\n",
       "      <td>NaN</td>\n",
       "      <td>Capital Area WDB</td>\n",
       "      <td>Travis</td>\n",
       "      <td>NaN</td>\n",
       "      <td>NaN</td>\n",
       "      <td>NaN</td>\n",
       "      <td>NaN</td>\n",
       "      <td>NaN</td>\n",
       "      <td>2010-07</td>\n",
       "      <td>7.0</td>\n",
       "      <td>July</td>\n",
       "    </tr>\n",
       "  </tbody>\n",
       "</table>\n",
       "</div>"
      ],
      "text/plain": [
       "     State                                            Company     City  \\\n",
       "29   Texas                Whole Food Market (Midtown Houston)  Houston   \n",
       "97   Texas                        Whole Foods Market-Bolm Rd.   Austin   \n",
       "103  Texas                         Whole Foods Market-Houston  Houston   \n",
       "106  Texas              Whole Foods Market - Dallas Bakehouse   Dallas   \n",
       "108  Texas  Whole Foods Market - Southwest Distribution Ce...   Austin   \n",
       "\n",
       "     Number of Workers WARN Received Date Effective Date Closure/Layoff  \\\n",
       "29               110.0         2023-11-08     12/05/2023            NaN   \n",
       "97                40.0         2017-03-02     04/30/2017            NaN   \n",
       "103              100.0         2015-05-01     07/03/2015            NaN   \n",
       "106               70.0         2012-01-02     03/11/2012            NaN   \n",
       "108               60.0         2010-07-27     09/26/2010            NaN   \n",
       "\n",
       "    Temporary/Permanent Union             Region  County Industry Notes  \\\n",
       "29                  NaN   NaN     Gulf Coast WDA  Harris      NaN   NaN   \n",
       "97                  NaN   NaN   Capital Area WDA  Travis      NaN   NaN   \n",
       "103                 NaN   NaN     Gulf Coast WDA  Harris      NaN   NaN   \n",
       "106                 NaN   NaN  Dallas County WDA  Dallas      NaN   NaN   \n",
       "108                 NaN   NaN   Capital Area WDB  Travis      NaN   NaN   \n",
       "\n",
       "    Received Date Effective\\n  Date Layoff/Closure Month-Year  Month  \\\n",
       "29            NaN               NaN            NaN    2023-11   11.0   \n",
       "97            NaN               NaN            NaN    2017-03    3.0   \n",
       "103           NaN               NaN            NaN    2015-05    5.0   \n",
       "106           NaN               NaN            NaN    2012-01    1.0   \n",
       "108           NaN               NaN            NaN    2010-07    7.0   \n",
       "\n",
       "    Month name  \n",
       "29    November  \n",
       "97       March  \n",
       "103        May  \n",
       "106    January  \n",
       "108       July  "
      ]
     },
     "execution_count": 368,
     "metadata": {},
     "output_type": "execute_result"
    }
   ],
   "source": [
    "# Keep only the layoffs from Texas\n",
    "df_texas = df_combined[(df_combined['State'] == 'Texas')].copy()\n",
    "# Display the first few rows of the dataframe\n",
    "print(\"Combined Layoffs Data (Texas):\")\n",
    "df_texas.head()"
   ]
  },
  {
   "cell_type": "code",
   "execution_count": 369,
   "id": "80ff2e17",
   "metadata": {},
   "outputs": [
    {
     "name": "stdout",
     "output_type": "stream",
     "text": [
      "Combined Layoffs Data (New York):\n"
     ]
    },
    {
     "data": {
      "text/html": [
       "<div>\n",
       "<style scoped>\n",
       "    .dataframe tbody tr th:only-of-type {\n",
       "        vertical-align: middle;\n",
       "    }\n",
       "\n",
       "    .dataframe tbody tr th {\n",
       "        vertical-align: top;\n",
       "    }\n",
       "\n",
       "    .dataframe thead th {\n",
       "        text-align: right;\n",
       "    }\n",
       "</style>\n",
       "<table border=\"1\" class=\"dataframe\">\n",
       "  <thead>\n",
       "    <tr style=\"text-align: right;\">\n",
       "      <th></th>\n",
       "      <th>State</th>\n",
       "      <th>Company</th>\n",
       "      <th>City</th>\n",
       "      <th>Number of Workers</th>\n",
       "      <th>WARN Received Date</th>\n",
       "      <th>Effective Date</th>\n",
       "      <th>Closure/Layoff</th>\n",
       "      <th>Temporary/Permanent</th>\n",
       "      <th>Union</th>\n",
       "      <th>Region</th>\n",
       "      <th>County</th>\n",
       "      <th>Industry</th>\n",
       "      <th>Notes</th>\n",
       "      <th>Received Date</th>\n",
       "      <th>Effective\\n  Date</th>\n",
       "      <th>Layoff/Closure</th>\n",
       "      <th>Month-Year</th>\n",
       "      <th>Month</th>\n",
       "      <th>Month name</th>\n",
       "    </tr>\n",
       "  </thead>\n",
       "  <tbody>\n",
       "    <tr>\n",
       "      <th>83</th>\n",
       "      <td>New York</td>\n",
       "      <td>Instacart (at Whole Foods Market) Bedford Avenue</td>\n",
       "      <td>Brooklyn</td>\n",
       "      <td>43.0</td>\n",
       "      <td>2019-03-13</td>\n",
       "      <td>05/11/2019</td>\n",
       "      <td>Plant Closing</td>\n",
       "      <td>NaN</td>\n",
       "      <td>NaN</td>\n",
       "      <td>New York City</td>\n",
       "      <td>Kings</td>\n",
       "      <td>Food Services/Delivery</td>\n",
       "      <td>Economic</td>\n",
       "      <td>NaN</td>\n",
       "      <td>NaN</td>\n",
       "      <td>NaN</td>\n",
       "      <td>2019-03</td>\n",
       "      <td>3.0</td>\n",
       "      <td>March</td>\n",
       "    </tr>\n",
       "    <tr>\n",
       "      <th>84</th>\n",
       "      <td>New York</td>\n",
       "      <td>Instacart (at Whole Foods Market) Greenwich St...</td>\n",
       "      <td>New York</td>\n",
       "      <td>26.0</td>\n",
       "      <td>2019-03-13</td>\n",
       "      <td>05/11/2019</td>\n",
       "      <td>Plant Closing</td>\n",
       "      <td>NaN</td>\n",
       "      <td>NaN</td>\n",
       "      <td>New York City</td>\n",
       "      <td>New York,</td>\n",
       "      <td>Food Services/Delivery</td>\n",
       "      <td>Economic</td>\n",
       "      <td>NaN</td>\n",
       "      <td>NaN</td>\n",
       "      <td>NaN</td>\n",
       "      <td>2019-03</td>\n",
       "      <td>3.0</td>\n",
       "      <td>March</td>\n",
       "    </tr>\n",
       "    <tr>\n",
       "      <th>85</th>\n",
       "      <td>New York</td>\n",
       "      <td>Instacart (at Whole Foods Market) Columbus Circle</td>\n",
       "      <td>New York</td>\n",
       "      <td>32.0</td>\n",
       "      <td>2019-03-13</td>\n",
       "      <td>05/11/2019</td>\n",
       "      <td>Plant Closing</td>\n",
       "      <td>NaN</td>\n",
       "      <td>NaN</td>\n",
       "      <td>New York City</td>\n",
       "      <td>New York,</td>\n",
       "      <td>Food Services/Delivery</td>\n",
       "      <td>Economic</td>\n",
       "      <td>NaN</td>\n",
       "      <td>NaN</td>\n",
       "      <td>NaN</td>\n",
       "      <td>2019-03</td>\n",
       "      <td>3.0</td>\n",
       "      <td>March</td>\n",
       "    </tr>\n",
       "    <tr>\n",
       "      <th>86</th>\n",
       "      <td>New York</td>\n",
       "      <td>Instacart (at Whole Foods Market) (95 East Hou...</td>\n",
       "      <td>New York</td>\n",
       "      <td>21.0</td>\n",
       "      <td>2019-03-13</td>\n",
       "      <td>05/11/2019</td>\n",
       "      <td>Plant Closing</td>\n",
       "      <td>NaN</td>\n",
       "      <td>NaN</td>\n",
       "      <td>New York City</td>\n",
       "      <td>New York,</td>\n",
       "      <td>Food Services/Delivery</td>\n",
       "      <td>Economic</td>\n",
       "      <td>NaN</td>\n",
       "      <td>NaN</td>\n",
       "      <td>NaN</td>\n",
       "      <td>2019-03</td>\n",
       "      <td>3.0</td>\n",
       "      <td>March</td>\n",
       "    </tr>\n",
       "    <tr>\n",
       "      <th>87</th>\n",
       "      <td>New York</td>\n",
       "      <td>Instacart (at Whole Foods Market) (4 Union Squ...</td>\n",
       "      <td>New York</td>\n",
       "      <td>21.0</td>\n",
       "      <td>2019-03-13</td>\n",
       "      <td>05/11/2019</td>\n",
       "      <td>Plant Closing</td>\n",
       "      <td>NaN</td>\n",
       "      <td>NaN</td>\n",
       "      <td>New York City</td>\n",
       "      <td>New York,</td>\n",
       "      <td>Food Services/Delivery</td>\n",
       "      <td>Economic</td>\n",
       "      <td>NaN</td>\n",
       "      <td>NaN</td>\n",
       "      <td>NaN</td>\n",
       "      <td>2019-03</td>\n",
       "      <td>3.0</td>\n",
       "      <td>March</td>\n",
       "    </tr>\n",
       "  </tbody>\n",
       "</table>\n",
       "</div>"
      ],
      "text/plain": [
       "       State                                            Company      City  \\\n",
       "83  New York   Instacart (at Whole Foods Market) Bedford Avenue  Brooklyn   \n",
       "84  New York  Instacart (at Whole Foods Market) Greenwich St...  New York   \n",
       "85  New York  Instacart (at Whole Foods Market) Columbus Circle  New York   \n",
       "86  New York  Instacart (at Whole Foods Market) (95 East Hou...  New York   \n",
       "87  New York  Instacart (at Whole Foods Market) (4 Union Squ...  New York   \n",
       "\n",
       "    Number of Workers WARN Received Date Effective Date Closure/Layoff  \\\n",
       "83               43.0         2019-03-13     05/11/2019  Plant Closing   \n",
       "84               26.0         2019-03-13     05/11/2019  Plant Closing   \n",
       "85               32.0         2019-03-13     05/11/2019  Plant Closing   \n",
       "86               21.0         2019-03-13     05/11/2019  Plant Closing   \n",
       "87               21.0         2019-03-13     05/11/2019  Plant Closing   \n",
       "\n",
       "   Temporary/Permanent Union         Region     County  \\\n",
       "83                 NaN   NaN  New York City      Kings   \n",
       "84                 NaN   NaN  New York City  New York,   \n",
       "85                 NaN   NaN  New York City  New York,   \n",
       "86                 NaN   NaN  New York City  New York,   \n",
       "87                 NaN   NaN  New York City  New York,   \n",
       "\n",
       "                  Industry     Notes Received Date Effective\\n  Date  \\\n",
       "83  Food Services/Delivery  Economic           NaN               NaN   \n",
       "84  Food Services/Delivery  Economic           NaN               NaN   \n",
       "85  Food Services/Delivery  Economic           NaN               NaN   \n",
       "86  Food Services/Delivery  Economic           NaN               NaN   \n",
       "87  Food Services/Delivery  Economic           NaN               NaN   \n",
       "\n",
       "   Layoff/Closure Month-Year  Month Month name  \n",
       "83            NaN    2019-03    3.0      March  \n",
       "84            NaN    2019-03    3.0      March  \n",
       "85            NaN    2019-03    3.0      March  \n",
       "86            NaN    2019-03    3.0      March  \n",
       "87            NaN    2019-03    3.0      March  "
      ]
     },
     "execution_count": 369,
     "metadata": {},
     "output_type": "execute_result"
    }
   ],
   "source": [
    "# Keep only the layoffs from new York\n",
    "df_ny = df_combined[(df_combined['State'] == 'New York')].copy()\n",
    "# Display the first few rows of the dataframe\n",
    "print(\"Combined Layoffs Data (New York):\")\n",
    "df_ny.head()"
   ]
  },
  {
   "cell_type": "code",
   "execution_count": 370,
   "id": "e2fe8023",
   "metadata": {},
   "outputs": [
    {
     "name": "stdout",
     "output_type": "stream",
     "text": [
      "Combined Layoffs Data (California):\n"
     ]
    },
    {
     "data": {
      "text/html": [
       "<div>\n",
       "<style scoped>\n",
       "    .dataframe tbody tr th:only-of-type {\n",
       "        vertical-align: middle;\n",
       "    }\n",
       "\n",
       "    .dataframe tbody tr th {\n",
       "        vertical-align: top;\n",
       "    }\n",
       "\n",
       "    .dataframe thead th {\n",
       "        text-align: right;\n",
       "    }\n",
       "</style>\n",
       "<table border=\"1\" class=\"dataframe\">\n",
       "  <thead>\n",
       "    <tr style=\"text-align: right;\">\n",
       "      <th></th>\n",
       "      <th>State</th>\n",
       "      <th>Company</th>\n",
       "      <th>City</th>\n",
       "      <th>Number of Workers</th>\n",
       "      <th>WARN Received Date</th>\n",
       "      <th>Effective Date</th>\n",
       "      <th>Closure/Layoff</th>\n",
       "      <th>Temporary/Permanent</th>\n",
       "      <th>Union</th>\n",
       "      <th>Region</th>\n",
       "      <th>County</th>\n",
       "      <th>Industry</th>\n",
       "      <th>Notes</th>\n",
       "      <th>Received Date</th>\n",
       "      <th>Effective\\n  Date</th>\n",
       "      <th>Layoff/Closure</th>\n",
       "      <th>Month-Year</th>\n",
       "      <th>Month</th>\n",
       "      <th>Month name</th>\n",
       "    </tr>\n",
       "  </thead>\n",
       "  <tbody>\n",
       "    <tr>\n",
       "      <th>0</th>\n",
       "      <td>California</td>\n",
       "      <td>Amazon (SJC11 Facility)</td>\n",
       "      <td>Sunnyvale</td>\n",
       "      <td>33.0</td>\n",
       "      <td>2025-05-15</td>\n",
       "      <td>07/07/2025</td>\n",
       "      <td>Layoff Permanent</td>\n",
       "      <td>NaN</td>\n",
       "      <td>NaN</td>\n",
       "      <td>NaN</td>\n",
       "      <td>Santa Clara County</td>\n",
       "      <td>44-45 Retail Trade</td>\n",
       "      <td>1100 Enterprise Way  Sunnyvale CA 94089</td>\n",
       "      <td>NaN</td>\n",
       "      <td>NaN</td>\n",
       "      <td>NaN</td>\n",
       "      <td>2025-05</td>\n",
       "      <td>5.0</td>\n",
       "      <td>May</td>\n",
       "    </tr>\n",
       "    <tr>\n",
       "      <th>1</th>\n",
       "      <td>California</td>\n",
       "      <td>Amazon (SJC14 Facility)</td>\n",
       "      <td>Sunnyvale</td>\n",
       "      <td>6.0</td>\n",
       "      <td>2025-05-15</td>\n",
       "      <td>07/07/2025</td>\n",
       "      <td>Layoff Permanent</td>\n",
       "      <td>NaN</td>\n",
       "      <td>NaN</td>\n",
       "      <td>NaN</td>\n",
       "      <td>Santa Clara County</td>\n",
       "      <td>44-45 Retail Trade</td>\n",
       "      <td>905 11th Avenue  Sunnyvale CA 94089</td>\n",
       "      <td>NaN</td>\n",
       "      <td>NaN</td>\n",
       "      <td>NaN</td>\n",
       "      <td>2025-05</td>\n",
       "      <td>5.0</td>\n",
       "      <td>May</td>\n",
       "    </tr>\n",
       "    <tr>\n",
       "      <th>2</th>\n",
       "      <td>California</td>\n",
       "      <td>Amazon (SJC31 Facility)</td>\n",
       "      <td>Sunnyvale</td>\n",
       "      <td>5.0</td>\n",
       "      <td>2025-05-15</td>\n",
       "      <td>07/07/2025</td>\n",
       "      <td>Layoff Permanent</td>\n",
       "      <td>NaN</td>\n",
       "      <td>NaN</td>\n",
       "      <td>NaN</td>\n",
       "      <td>Santa Clara County</td>\n",
       "      <td>44-45 Retail Trade</td>\n",
       "      <td>1100 Discovery Way  Sunnyvale CA 94089</td>\n",
       "      <td>NaN</td>\n",
       "      <td>NaN</td>\n",
       "      <td>NaN</td>\n",
       "      <td>2025-05</td>\n",
       "      <td>5.0</td>\n",
       "      <td>May</td>\n",
       "    </tr>\n",
       "    <tr>\n",
       "      <th>3</th>\n",
       "      <td>California</td>\n",
       "      <td>Amazon (SJC32 Facility)</td>\n",
       "      <td>Sunnyvale</td>\n",
       "      <td>8.0</td>\n",
       "      <td>2025-05-15</td>\n",
       "      <td>07/07/2025</td>\n",
       "      <td>Layoff Permanent</td>\n",
       "      <td>NaN</td>\n",
       "      <td>NaN</td>\n",
       "      <td>NaN</td>\n",
       "      <td>Santa Clara County</td>\n",
       "      <td>44-45 Retail Trade</td>\n",
       "      <td>1140 Enterprise Way  Sunnyvale CA 94089</td>\n",
       "      <td>NaN</td>\n",
       "      <td>NaN</td>\n",
       "      <td>NaN</td>\n",
       "      <td>2025-05</td>\n",
       "      <td>5.0</td>\n",
       "      <td>May</td>\n",
       "    </tr>\n",
       "    <tr>\n",
       "      <th>5</th>\n",
       "      <td>California</td>\n",
       "      <td>Amazon</td>\n",
       "      <td>Thousand Oaks</td>\n",
       "      <td>76.0</td>\n",
       "      <td>2025-03-14</td>\n",
       "      <td>05/13/2025</td>\n",
       "      <td>Closure Permanent</td>\n",
       "      <td>NaN</td>\n",
       "      <td>NaN</td>\n",
       "      <td>NaN</td>\n",
       "      <td>Ventura County</td>\n",
       "      <td>44-45 Retail Trade</td>\n",
       "      <td>140 Promenade Way  Thousand Oaks CA 91362</td>\n",
       "      <td>NaN</td>\n",
       "      <td>NaN</td>\n",
       "      <td>NaN</td>\n",
       "      <td>2025-03</td>\n",
       "      <td>3.0</td>\n",
       "      <td>March</td>\n",
       "    </tr>\n",
       "  </tbody>\n",
       "</table>\n",
       "</div>"
      ],
      "text/plain": [
       "        State                  Company           City  Number of Workers  \\\n",
       "0  California  Amazon (SJC11 Facility)      Sunnyvale               33.0   \n",
       "1  California  Amazon (SJC14 Facility)      Sunnyvale                6.0   \n",
       "2  California  Amazon (SJC31 Facility)      Sunnyvale                5.0   \n",
       "3  California  Amazon (SJC32 Facility)      Sunnyvale                8.0   \n",
       "5  California                   Amazon  Thousand Oaks               76.0   \n",
       "\n",
       "  WARN Received Date Effective Date     Closure/Layoff Temporary/Permanent  \\\n",
       "0         2025-05-15     07/07/2025   Layoff Permanent                 NaN   \n",
       "1         2025-05-15     07/07/2025   Layoff Permanent                 NaN   \n",
       "2         2025-05-15     07/07/2025   Layoff Permanent                 NaN   \n",
       "3         2025-05-15     07/07/2025   Layoff Permanent                 NaN   \n",
       "5         2025-03-14     05/13/2025  Closure Permanent                 NaN   \n",
       "\n",
       "  Union Region              County            Industry  \\\n",
       "0   NaN    NaN  Santa Clara County  44-45 Retail Trade   \n",
       "1   NaN    NaN  Santa Clara County  44-45 Retail Trade   \n",
       "2   NaN    NaN  Santa Clara County  44-45 Retail Trade   \n",
       "3   NaN    NaN  Santa Clara County  44-45 Retail Trade   \n",
       "5   NaN    NaN      Ventura County  44-45 Retail Trade   \n",
       "\n",
       "                                       Notes Received Date Effective\\n  Date  \\\n",
       "0    1100 Enterprise Way  Sunnyvale CA 94089           NaN               NaN   \n",
       "1        905 11th Avenue  Sunnyvale CA 94089           NaN               NaN   \n",
       "2     1100 Discovery Way  Sunnyvale CA 94089           NaN               NaN   \n",
       "3    1140 Enterprise Way  Sunnyvale CA 94089           NaN               NaN   \n",
       "5  140 Promenade Way  Thousand Oaks CA 91362           NaN               NaN   \n",
       "\n",
       "  Layoff/Closure Month-Year  Month Month name  \n",
       "0            NaN    2025-05    5.0        May  \n",
       "1            NaN    2025-05    5.0        May  \n",
       "2            NaN    2025-05    5.0        May  \n",
       "3            NaN    2025-05    5.0        May  \n",
       "5            NaN    2025-03    3.0      March  "
      ]
     },
     "execution_count": 370,
     "metadata": {},
     "output_type": "execute_result"
    }
   ],
   "source": [
    "# Keep only the layoffs from California\n",
    "df_california = df_combined[(df_combined['State'] == 'California')].copy()\n",
    "# Display the first few rows of the dataframe\n",
    "print(\"Combined Layoffs Data (California):\")\n",
    "df_california.head()"
   ]
  },
  {
   "cell_type": "code",
   "execution_count": 371,
   "id": "e6443811",
   "metadata": {},
   "outputs": [
    {
     "name": "stdout",
     "output_type": "stream",
     "text": [
      "Combined Layoffs Data (Washington):\n"
     ]
    },
    {
     "data": {
      "text/html": [
       "<div>\n",
       "<style scoped>\n",
       "    .dataframe tbody tr th:only-of-type {\n",
       "        vertical-align: middle;\n",
       "    }\n",
       "\n",
       "    .dataframe tbody tr th {\n",
       "        vertical-align: top;\n",
       "    }\n",
       "\n",
       "    .dataframe thead th {\n",
       "        text-align: right;\n",
       "    }\n",
       "</style>\n",
       "<table border=\"1\" class=\"dataframe\">\n",
       "  <thead>\n",
       "    <tr style=\"text-align: right;\">\n",
       "      <th></th>\n",
       "      <th>State</th>\n",
       "      <th>Company</th>\n",
       "      <th>City</th>\n",
       "      <th>Number of Workers</th>\n",
       "      <th>WARN Received Date</th>\n",
       "      <th>Effective Date</th>\n",
       "      <th>Closure/Layoff</th>\n",
       "      <th>Temporary/Permanent</th>\n",
       "      <th>Union</th>\n",
       "      <th>Region</th>\n",
       "      <th>County</th>\n",
       "      <th>Industry</th>\n",
       "      <th>Notes</th>\n",
       "      <th>Received Date</th>\n",
       "      <th>Effective\\n  Date</th>\n",
       "      <th>Layoff/Closure</th>\n",
       "      <th>Month-Year</th>\n",
       "      <th>Month</th>\n",
       "      <th>Month name</th>\n",
       "    </tr>\n",
       "  </thead>\n",
       "  <tbody>\n",
       "    <tr>\n",
       "      <th>14</th>\n",
       "      <td>Washington</td>\n",
       "      <td>Amazon</td>\n",
       "      <td>Tukwila</td>\n",
       "      <td>172.0</td>\n",
       "      <td>2024-05-31</td>\n",
       "      <td>08/01/2024</td>\n",
       "      <td>Closure</td>\n",
       "      <td>Permanent</td>\n",
       "      <td>NaN</td>\n",
       "      <td>NaN</td>\n",
       "      <td>NaN</td>\n",
       "      <td>NaN</td>\n",
       "      <td>NaN</td>\n",
       "      <td>NaN</td>\n",
       "      <td>NaN</td>\n",
       "      <td>NaN</td>\n",
       "      <td>2024-05</td>\n",
       "      <td>5.0</td>\n",
       "      <td>May</td>\n",
       "    </tr>\n",
       "    <tr>\n",
       "      <th>57</th>\n",
       "      <td>Washington</td>\n",
       "      <td>Amazon</td>\n",
       "      <td>Seattle, Bellevue</td>\n",
       "      <td>2300.0</td>\n",
       "      <td>2023-01-18</td>\n",
       "      <td>03/19/2023</td>\n",
       "      <td>Layoff</td>\n",
       "      <td>Permanent</td>\n",
       "      <td>NaN</td>\n",
       "      <td>NaN</td>\n",
       "      <td>NaN</td>\n",
       "      <td>NaN</td>\n",
       "      <td>NaN</td>\n",
       "      <td>NaN</td>\n",
       "      <td>NaN</td>\n",
       "      <td>NaN</td>\n",
       "      <td>2023-01</td>\n",
       "      <td>1.0</td>\n",
       "      <td>January</td>\n",
       "    </tr>\n",
       "    <tr>\n",
       "      <th>67</th>\n",
       "      <td>Washington</td>\n",
       "      <td>Amazon Health Services</td>\n",
       "      <td>Seattle</td>\n",
       "      <td>159.0</td>\n",
       "      <td>2022-09-07</td>\n",
       "      <td>12/01/2022</td>\n",
       "      <td>Closure</td>\n",
       "      <td>Permanent</td>\n",
       "      <td>NaN</td>\n",
       "      <td>NaN</td>\n",
       "      <td>NaN</td>\n",
       "      <td>NaN</td>\n",
       "      <td>NaN</td>\n",
       "      <td>NaN</td>\n",
       "      <td>NaN</td>\n",
       "      <td>NaN</td>\n",
       "      <td>2022-09</td>\n",
       "      <td>9.0</td>\n",
       "      <td>September</td>\n",
       "    </tr>\n",
       "    <tr>\n",
       "      <th>82</th>\n",
       "      <td>Washington</td>\n",
       "      <td>Whole Foods Market</td>\n",
       "      <td>Vancouver</td>\n",
       "      <td>121.0</td>\n",
       "      <td>2019-06-21</td>\n",
       "      <td>08/18/2019</td>\n",
       "      <td>Closure</td>\n",
       "      <td>Permanent</td>\n",
       "      <td>NaN</td>\n",
       "      <td>NaN</td>\n",
       "      <td>NaN</td>\n",
       "      <td>NaN</td>\n",
       "      <td>NaN</td>\n",
       "      <td>NaN</td>\n",
       "      <td>NaN</td>\n",
       "      <td>NaN</td>\n",
       "      <td>2019-06</td>\n",
       "      <td>6.0</td>\n",
       "      <td>June</td>\n",
       "    </tr>\n",
       "    <tr>\n",
       "      <th>214</th>\n",
       "      <td>Washington</td>\n",
       "      <td>Meta Platforms, Inc</td>\n",
       "      <td>Bellevue</td>\n",
       "      <td>307.0</td>\n",
       "      <td>2022-11-11</td>\n",
       "      <td>01/13/2023</td>\n",
       "      <td>Layoff</td>\n",
       "      <td>Permanent</td>\n",
       "      <td>NaN</td>\n",
       "      <td>NaN</td>\n",
       "      <td>NaN</td>\n",
       "      <td>NaN</td>\n",
       "      <td>NaN</td>\n",
       "      <td>NaN</td>\n",
       "      <td>NaN</td>\n",
       "      <td>NaN</td>\n",
       "      <td>2022-11</td>\n",
       "      <td>11.0</td>\n",
       "      <td>November</td>\n",
       "    </tr>\n",
       "  </tbody>\n",
       "</table>\n",
       "</div>"
      ],
      "text/plain": [
       "          State                 Company               City  Number of Workers  \\\n",
       "14   Washington                  Amazon            Tukwila              172.0   \n",
       "57   Washington                  Amazon  Seattle, Bellevue             2300.0   \n",
       "67   Washington  Amazon Health Services            Seattle              159.0   \n",
       "82   Washington      Whole Foods Market          Vancouver              121.0   \n",
       "214  Washington     Meta Platforms, Inc           Bellevue              307.0   \n",
       "\n",
       "    WARN Received Date Effective Date Closure/Layoff Temporary/Permanent  \\\n",
       "14          2024-05-31     08/01/2024        Closure           Permanent   \n",
       "57          2023-01-18     03/19/2023         Layoff           Permanent   \n",
       "67          2022-09-07     12/01/2022        Closure           Permanent   \n",
       "82          2019-06-21     08/18/2019        Closure           Permanent   \n",
       "214         2022-11-11     01/13/2023         Layoff           Permanent   \n",
       "\n",
       "    Union Region County Industry Notes Received Date Effective\\n  Date  \\\n",
       "14    NaN    NaN    NaN      NaN   NaN           NaN               NaN   \n",
       "57    NaN    NaN    NaN      NaN   NaN           NaN               NaN   \n",
       "67    NaN    NaN    NaN      NaN   NaN           NaN               NaN   \n",
       "82    NaN    NaN    NaN      NaN   NaN           NaN               NaN   \n",
       "214   NaN    NaN    NaN      NaN   NaN           NaN               NaN   \n",
       "\n",
       "    Layoff/Closure Month-Year  Month Month name  \n",
       "14             NaN    2024-05    5.0        May  \n",
       "57             NaN    2023-01    1.0    January  \n",
       "67             NaN    2022-09    9.0  September  \n",
       "82             NaN    2019-06    6.0       June  \n",
       "214            NaN    2022-11   11.0   November  "
      ]
     },
     "execution_count": 371,
     "metadata": {},
     "output_type": "execute_result"
    }
   ],
   "source": [
    "# Keep only the layoffs from Washington\n",
    "df_washington = df_combined[(df_combined['State'] == 'Washington')].copy()\n",
    "# Display the first few rows of the dataframe\n",
    "print(\"Combined Layoffs Data (Washington):\")\n",
    "df_washington.head()"
   ]
  },
  {
   "cell_type": "markdown",
   "id": "1877b272",
   "metadata": {},
   "source": [
    "8) For each state, I want to know the number of workers who received the WARN per month"
   ]
  },
  {
   "cell_type": "code",
   "execution_count": 372,
   "id": "afb02d80",
   "metadata": {},
   "outputs": [
    {
     "name": "stdout",
     "output_type": "stream",
     "text": [
      "Monthly Layoffs Data for Texas:\n",
      "  Month-Year  Number of Workers\n",
      "0    2008-04               52.0\n",
      "1    2010-07               60.0\n",
      "2    2012-01               70.0\n",
      "3    2015-05              100.0\n",
      "4    2017-03               40.0\n",
      "5    2022-11              222.0\n",
      "6    2023-11              110.0\n",
      "7    2024-04             2688.0\n",
      "8    2025-05               50.0\n"
     ]
    }
   ],
   "source": [
    "# Group by 'Month-Year' and count the number of layoffs\n",
    "df_texas_monthly = df_texas.groupby('Month-Year')['Number of Workers'].sum().reset_index()\n",
    "# Display the monthly layoffs data for Texas\n",
    "print(\"Monthly Layoffs Data for Texas:\")\n",
    "print(df_texas_monthly)"
   ]
  },
  {
   "cell_type": "code",
   "execution_count": 373,
   "id": "1fdfc268",
   "metadata": {},
   "outputs": [
    {
     "name": "stdout",
     "output_type": "stream",
     "text": [
      "Monthly Layoffs Data for New York:\n",
      "  Month-Year  Number of Workers\n",
      "0    2009-05               26.0\n",
      "1    2011-07              275.0\n",
      "2    2012-12               27.0\n",
      "3    2014-07               32.0\n",
      "4    2014-08               47.0\n",
      "5    2014-09                1.0\n",
      "6    2016-04               94.0\n",
      "7    2019-03              235.0\n"
     ]
    }
   ],
   "source": [
    "df_ny_monthly = df_ny.groupby('Month-Year')['Number of Workers'].sum().reset_index()\n",
    "print(\"Monthly Layoffs Data for New York:\")\n",
    "print(df_ny_monthly)"
   ]
  },
  {
   "cell_type": "code",
   "execution_count": 374,
   "id": "f749a005",
   "metadata": {},
   "outputs": [
    {
     "name": "stdout",
     "output_type": "stream",
     "text": [
      "Monthly Layoffs Data for California:\n",
      "   Month-Year  Number of Workers\n",
      "0     2009-01                4.0\n",
      "1     2010-09               59.0\n",
      "2     2011-04              200.0\n",
      "3     2011-10              314.0\n",
      "4     2012-04              200.0\n",
      "5     2013-04              181.0\n",
      "6     2013-06               36.0\n",
      "7     2013-07               30.0\n",
      "8     2013-09               84.0\n",
      "9     2014-07              378.0\n",
      "10    2014-09              160.0\n",
      "11    2014-10              154.0\n",
      "12    2014-11               21.0\n",
      "13    2015-07              129.0\n",
      "14    2015-10              244.0\n",
      "15    2016-01                2.0\n",
      "16    2016-10               67.0\n",
      "17    2017-01               94.0\n",
      "18    2017-02              196.0\n",
      "19    2017-08               63.0\n",
      "20    2017-10               72.0\n",
      "21    2018-01               50.0\n",
      "22    2018-06              506.0\n",
      "23    2019-02              209.0\n",
      "24    2019-03              141.0\n",
      "25    2019-06             1048.0\n",
      "26    2020-04               58.0\n",
      "27    2020-05            11239.0\n",
      "28    2020-06              138.0\n",
      "29    2020-09               29.0\n",
      "30    2021-03               55.0\n",
      "31    2021-04              156.0\n",
      "32    2021-06               39.0\n",
      "33    2021-08              322.0\n",
      "34    2022-05              117.0\n",
      "35    2022-07              666.0\n",
      "36    2022-10              144.0\n",
      "37    2022-11             1574.0\n",
      "38    2022-12             2465.0\n",
      "39    2023-01             1702.0\n",
      "40    2023-02              199.0\n",
      "41    2023-03              168.0\n",
      "42    2023-04              174.0\n",
      "43    2023-05             1506.0\n",
      "44    2023-06             1823.0\n",
      "45    2023-07              229.0\n",
      "46    2023-10               75.0\n",
      "47    2023-12              171.0\n",
      "48    2024-01             1803.0\n",
      "49    2024-02              972.0\n",
      "50    2024-04             3351.0\n",
      "51    2024-05             1197.0\n",
      "52    2024-06               54.0\n",
      "53    2024-09              714.0\n",
      "54    2024-10               57.0\n",
      "55    2025-01               10.0\n",
      "56    2025-02               52.0\n",
      "57    2025-03               76.0\n",
      "58    2025-05              472.0\n",
      "59    2025-06                8.0\n"
     ]
    }
   ],
   "source": [
    "df_california_monthly = df_california.groupby('Month-Year')['Number of Workers'].sum().reset_index()     \n",
    "print(\"Monthly Layoffs Data for California:\")\n",
    "print(df_california_monthly)"
   ]
  },
  {
   "cell_type": "code",
   "execution_count": 375,
   "id": "a5408aae",
   "metadata": {},
   "outputs": [
    {
     "name": "stdout",
     "output_type": "stream",
     "text": [
      "Monthly Layoffs Data for Washington:\n",
      "   Month-Year  Number of Workers\n",
      "0     2004-08               67.0\n",
      "1     2009-01              872.0\n",
      "2     2009-04                2.0\n",
      "3     2009-05             1200.0\n",
      "4     2009-09               27.0\n",
      "5     2014-07             1351.0\n",
      "6     2014-09              747.0\n",
      "7     2014-10              635.0\n",
      "8     2019-06              121.0\n",
      "9     2022-09              159.0\n",
      "10    2022-11              934.0\n",
      "11    2023-01             3178.0\n",
      "12    2023-02              617.0\n",
      "13    2023-03             1248.0\n",
      "14    2023-05              158.0\n",
      "15    2023-06               22.0\n",
      "16    2023-07              276.0\n",
      "17    2024-05              172.0\n",
      "18    2025-05             1985.0\n",
      "19    2025-06              305.0\n"
     ]
    }
   ],
   "source": [
    "df_washington_monthly = df_washington.groupby('Month-Year')['Number of Workers'].sum().reset_index()\n",
    "print(\"Monthly Layoffs Data for Washington:\")\n",
    "print(df_washington_monthly)"
   ]
  },
  {
   "cell_type": "markdown",
   "id": "eb5d859b",
   "metadata": {},
   "source": [
    "9) Other visualizations"
   ]
  },
  {
   "cell_type": "code",
   "execution_count": 376,
   "id": "212412d7",
   "metadata": {},
   "outputs": [
    {
     "data": {
      "image/png": "[encoded data removed]",
      "text/plain": [
       "<Figure size 2500x1000 with 1 Axes>"
      ]
     },
     "metadata": {},
     "output_type": "display_data"
    }
   ],
   "source": [
    "# Create a copy of the Texas monthly layoffs dataframe\n",
    "df_texas_monthly_copy = df_texas_monthly.copy()\n",
    "# Convert 'Month-Year' to datetime format for plotting\n",
    "df_texas_monthly_copy['Month-Year'] = df_texas_monthly_copy['Month-Year'].dt.to_timestamp()\n",
    "# Create a new column with all the months between the minimum and maximum dates\n",
    "full_months = pd.date_range(start=df_texas_monthly_copy['Month-Year'].min(),\n",
    "                                   end=df_texas_monthly_copy['Month-Year'].max(),\n",
    "                                   freq='MS')\n",
    "                                \n",
    "full_months_df = pd.DataFrame({'Month-Year': full_months})\n",
    "# Merge the full months with the Texas monthly layoffs data\n",
    "df_texas_full = pd.merge(full_months_df, df_texas_monthly_copy, on='Month-Year', how='left')\n",
    "# Fill NaN values with 0 for months with no layoffs\n",
    "df_texas_full['Number of Workers'] = df_texas_full['Number of Workers'].fillna(0)\n",
    "\n",
    "# Plot the monthly layoffs for Texas\n",
    "plt.figure(figsize=(25, 10))\n",
    "plt.plot(df_texas_full['Month-Year'].astype(str), df_texas_full['Number of Workers'], marker='o', label='Texas')\n",
    "plt.title('Monthly Layoffs in Texas')\n",
    "plt.xlabel('Month-Year')\n",
    "plt.ylabel('Total Layoffs')\n",
    "xticks = df_texas_full['Month-Year'][::6]\n",
    "plt.xticks(xticks.astype(str), rotation=45)\n",
    "plt.grid()\n",
    "plt.legend()\n",
    "plt.tight_layout()\n",
    "plt.show()"
   ]
  }
 ],
 "metadata": {
  "kernelspec": {
   "display_name": "venv",
   "language": "python",
   "name": "python3"
  },
  "language_info": {
   "codemirror_mode": {
    "name": "ipython",
    "version": 3
   },
   "file_extension": ".py",
   "mimetype": "text/x-python",
   "name": "python",
   "nbconvert_exporter": "python",
   "pygments_lexer": "ipython3",
   "version": "3.13.4"
  }
 },
 "nbformat": 4,
 "nbformat_minor": 5
}
