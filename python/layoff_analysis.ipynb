{
 "cells": [
  {
   "cell_type": "markdown",
   "id": "6b7803a9",
   "metadata": {},
   "source": [
    "### From Data to Product: Layoff Data & Startup Job Discovery\n",
    "This notebook demonstrates how to process layoff data and visualize startup job opportunities for tech workers and recruiters."
   ]
  },
  {
   "cell_type": "markdown",
   "id": "ba8b51c1",
   "metadata": {},
   "source": [
    "#### 1. Import Required Libraries\n",
    "Import the necessary libraries for data processing and visualization."
   ]
  },
  {
   "cell_type": "code",
   "execution_count": 1,
   "id": "4ba74823",
   "metadata": {},
   "outputs": [],
   "source": [
    "# Import Required Libraries\n",
    "import pandas as pd\n",
    "import plotly.express as px"
   ]
  },
  {
   "cell_type": "markdown",
   "id": "f223411f",
   "metadata": {},
   "source": [
    "#### 2. Load Layoff Data\n",
    "Load layoff data from the provided Excel file in the data directory."
   ]
  },
  {
   "cell_type": "code",
   "execution_count": 5,
   "id": "021860ca",
   "metadata": {},
   "outputs": [
    {
     "data": {
      "text/html": [
       "<div>\n",
       "<style scoped>\n",
       "    .dataframe tbody tr th:only-of-type {\n",
       "        vertical-align: middle;\n",
       "    }\n",
       "\n",
       "    .dataframe tbody tr th {\n",
       "        vertical-align: top;\n",
       "    }\n",
       "\n",
       "    .dataframe thead th {\n",
       "        text-align: right;\n",
       "    }\n",
       "</style>\n",
       "<table border=\"1\" class=\"dataframe\">\n",
       "  <thead>\n",
       "    <tr style=\"text-align: right;\">\n",
       "      <th></th>\n",
       "      <th>State</th>\n",
       "      <th>Company</th>\n",
       "      <th>City</th>\n",
       "      <th>Number of Workers</th>\n",
       "      <th>WARN Received Date</th>\n",
       "      <th>Effective Date</th>\n",
       "      <th>Closure / Layoff</th>\n",
       "      <th>Temporary/Permanent</th>\n",
       "      <th>Union</th>\n",
       "      <th>Region</th>\n",
       "      <th>County</th>\n",
       "      <th>Industry</th>\n",
       "      <th>Notes</th>\n",
       "    </tr>\n",
       "  </thead>\n",
       "  <tbody>\n",
       "    <tr>\n",
       "      <th>0</th>\n",
       "      <td>South Carolina</td>\n",
       "      <td>Tupperware</td>\n",
       "      <td>Hemingway</td>\n",
       "      <td>46</td>\n",
       "      <td>06/11/2025</td>\n",
       "      <td>09/28/2024-01/14/2025</td>\n",
       "      <td>Layoff</td>\n",
       "      <td>Permanent</td>\n",
       "      <td>NaN</td>\n",
       "      <td>NaN</td>\n",
       "      <td>Williamsburg</td>\n",
       "      <td>NaN</td>\n",
       "      <td>248 Tupperware Rd., Hemingway, SC 29554</td>\n",
       "    </tr>\n",
       "    <tr>\n",
       "      <th>1</th>\n",
       "      <td>Texas</td>\n",
       "      <td>XiFin</td>\n",
       "      <td>Austin</td>\n",
       "      <td>87</td>\n",
       "      <td>06/04/2025</td>\n",
       "      <td>05/29/2025</td>\n",
       "      <td>NaN</td>\n",
       "      <td>NaN</td>\n",
       "      <td>NaN</td>\n",
       "      <td>Capital Area WDA</td>\n",
       "      <td>Travis</td>\n",
       "      <td>NaN</td>\n",
       "      <td>NaN</td>\n",
       "    </tr>\n",
       "    <tr>\n",
       "      <th>2</th>\n",
       "      <td>Texas</td>\n",
       "      <td>Eckerd Connects (David Carrasco Job Corps)</td>\n",
       "      <td>El Paso</td>\n",
       "      <td>77</td>\n",
       "      <td>06/04/2025</td>\n",
       "      <td>06/13/2025</td>\n",
       "      <td>NaN</td>\n",
       "      <td>NaN</td>\n",
       "      <td>NaN</td>\n",
       "      <td>Borderplexjobs WDA</td>\n",
       "      <td>El Paso</td>\n",
       "      <td>NaN</td>\n",
       "      <td>NaN</td>\n",
       "    </tr>\n",
       "    <tr>\n",
       "      <th>3</th>\n",
       "      <td>Texas</td>\n",
       "      <td>Sunnova Energy Corporation</td>\n",
       "      <td>Houston</td>\n",
       "      <td>NaN</td>\n",
       "      <td>06/03/2025</td>\n",
       "      <td>05/30/2025</td>\n",
       "      <td>NaN</td>\n",
       "      <td>NaN</td>\n",
       "      <td>NaN</td>\n",
       "      <td>Gulf Coast WDA</td>\n",
       "      <td>Harris</td>\n",
       "      <td>NaN</td>\n",
       "      <td>NaN</td>\n",
       "    </tr>\n",
       "    <tr>\n",
       "      <th>4</th>\n",
       "      <td>Texas</td>\n",
       "      <td>JC Penney (Allaince Supply Chain)</td>\n",
       "      <td>Haslet</td>\n",
       "      <td>296</td>\n",
       "      <td>06/03/2025</td>\n",
       "      <td>08/01/2025</td>\n",
       "      <td>NaN</td>\n",
       "      <td>NaN</td>\n",
       "      <td>NaN</td>\n",
       "      <td>Tarrant County WDA</td>\n",
       "      <td>Tarrant</td>\n",
       "      <td>NaN</td>\n",
       "      <td>NaN</td>\n",
       "    </tr>\n",
       "  </tbody>\n",
       "</table>\n",
       "</div>"
      ],
      "text/plain": [
       "            State                                     Company       City  \\\n",
       "0  South Carolina                                  Tupperware  Hemingway   \n",
       "1           Texas                                       XiFin     Austin   \n",
       "2           Texas  Eckerd Connects (David Carrasco Job Corps)    El Paso   \n",
       "3           Texas                  Sunnova Energy Corporation    Houston   \n",
       "4           Texas           JC Penney (Allaince Supply Chain)     Haslet   \n",
       "\n",
       "  Number of Workers WARN Received Date         Effective Date  \\\n",
       "0                46         06/11/2025  09/28/2024-01/14/2025   \n",
       "1                87         06/04/2025             05/29/2025   \n",
       "2                77         06/04/2025             06/13/2025   \n",
       "3               NaN         06/03/2025             05/30/2025   \n",
       "4               296         06/03/2025             08/01/2025   \n",
       "\n",
       "  Closure / Layoff Temporary/Permanent Union              Region  \\\n",
       "0           Layoff           Permanent   NaN                 NaN   \n",
       "1              NaN                 NaN   NaN    Capital Area WDA   \n",
       "2              NaN                 NaN   NaN  Borderplexjobs WDA   \n",
       "3              NaN                 NaN   NaN      Gulf Coast WDA   \n",
       "4              NaN                 NaN   NaN  Tarrant County WDA   \n",
       "\n",
       "         County Industry                                    Notes  \n",
       "0  Williamsburg      NaN  248 Tupperware Rd., Hemingway, SC 29554  \n",
       "1        Travis      NaN                                      NaN  \n",
       "2       El Paso      NaN                                      NaN  \n",
       "3        Harris      NaN                                      NaN  \n",
       "4       Tarrant      NaN                                      NaN  "
      ]
     },
     "execution_count": 5,
     "metadata": {},
     "output_type": "execute_result"
    }
   ],
   "source": [
    "# Load layoff data from Excel\n",
    "layoff_df = pd.read_csv('../data/WARN Database 2025.csv')\n",
    "layoff_df.head()"
   ]
  },
  {
   "cell_type": "markdown",
   "id": "0694a4a8",
   "metadata": {},
   "source": [
    "#### 3. Visualize Layoffs by State\n",
    "Create a tree map to highlight the top five states with the largest number of tech layoffs."
   ]
  },
  {
   "cell_type": "code",
   "execution_count": 14,
   "id": "7737afb8",
   "metadata": {},
   "outputs": [],
   "source": [
    "# Filter for tech layoffs from company names like 'Google', 'Amazon', 'Meta', etc.\n",
    "tech_keywords = ['Google', 'Amazon', 'Meta', 'Microsoft', 'Apple', 'Twitter']\n",
    "layoff_df = layoff_df[layoff_df['Company'].str.contains('|'.join(tech_keywords), case=False, na=False)]\n",
    "# Display the first few rows of the filtered DataFrame\n",
    "layoff_df.head()\n",
    "# save to CSV\n",
    "layoff_df.to_csv('../data/tech_layoffs_2025.csv', index=False)\n"
   ]
  }
 ],
 "metadata": {
  "kernelspec": {
   "display_name": ".venv",
   "language": "python",
   "name": "python3"
  },
  "language_info": {
   "codemirror_mode": {
    "name": "ipython",
    "version": 3
   },
   "file_extension": ".py",
   "mimetype": "text/x-python",
   "name": "python",
   "nbconvert_exporter": "python",
   "pygments_lexer": "ipython3",
   "version": "3.12.6"
  }
 },
 "nbformat": 4,
 "nbformat_minor": 5
}
