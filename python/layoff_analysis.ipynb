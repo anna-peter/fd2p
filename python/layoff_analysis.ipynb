{
 "cells": [
  {
   "cell_type": "markdown",
   "id": "6b7803a9",
   "metadata": {},
   "source": [
    "### From Data to Product: Layoff Data & Startup Job Discovery\n",
    "This notebook demonstrates how to process layoff data and visualize startup job opportunities for tech workers and recruiters."
   ]
  },
  {
   "cell_type": "markdown",
   "id": "ba8b51c1",
   "metadata": {},
   "source": [
    "#### 1. Import Required Libraries\n",
    "Import the necessary libraries for data processing and visualization."
   ]
  },
  {
   "cell_type": "code",
   "execution_count": null,
   "id": "4ba74823",
   "metadata": {},
   "outputs": [],
   "source": [
    "# Import Required Libraries\n",
    "import pandas as pd\n",
    "import plotly.express as px"
   ]
  },
  {
   "cell_type": "markdown",
   "id": "f223411f",
   "metadata": {},
   "source": [
    "#### 2. Load Layoff Data\n",
    "Load layoff data from the provided Excel file in the data directory."
   ]
  },
  {
   "cell_type": "code",
   "execution_count": null,
   "id": "021860ca",
   "metadata": {},
   "outputs": [],
   "source": [
    "# Load layoff data from Excel\n",
    "layoff_df = pd.read_excel('../data/WARN Database 2025.xlsx')\n",
    "layoff_df.head()"
   ]
  },
  {
   "cell_type": "markdown",
   "id": "0694a4a8",
   "metadata": {},
   "source": [
    "#### 3. Visualize Layoffs by State\n",
    "Create a tree map to highlight the top five states with the largest number of tech layoffs."
   ]
  },
  {
   "cell_type": "code",
   "execution_count": null,
   "id": "7737afb8",
   "metadata": {},
   "outputs": [],
   "source": [
    "# Aggregate and visualize layoffs by state\n",
    "top_states = layoff_df['State'].value_counts().nlargest(5)\n",
    "fig = px.treemap(\n",
    "    names=top_states.index,\n",
    "    parents=[\"\"]*5,\n",
    "    values=top_states.values,\n",
    "    title=\"Top 5 States by Tech Layoffs\"\n",
    ")\n",
    "fig.show()"
   ]
  }
 ],
 "metadata": {
  "kernelspec": {
   "display_name": ".venv",
   "language": "python",
   "name": "python3"
  },
  "language_info": {
   "name": "python",
   "version": "3.12.6"
  }
 },
 "nbformat": 4,
 "nbformat_minor": 5
}
