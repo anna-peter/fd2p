{
 "cells": [
  {
   "cell_type": "markdown",
   "id": "6b7803a9",
   "metadata": {},
   "source": [
    "### From Data to Product: Layoff Data & Startup Job Discovery\n",
    "This notebook demonstrates how to process layoff data and visualize startup job opportunities for tech workers and recruiters."
   ]
  },
  {
   "cell_type": "markdown",
   "id": "ba8b51c1",
   "metadata": {},
   "source": [
    "#### 1. Import Required Libraries\n",
    "Import the necessary libraries for data processing and visualization."
   ]
  },
  {
   "cell_type": "code",
<<<<<<< HEAD
   "execution_count": 1,
=======
   "execution_count": 3,
>>>>>>> 1c18c537f395d1fea7ca887a80764239970a3c3a
   "id": "4ba74823",
   "metadata": {},
   "outputs": [],
   "source": [
    "# Import Required Libraries\n",
    "import pandas as pd\n",
    "import plotly.express as px"
   ]
  },
  {
   "cell_type": "markdown",
   "id": "f223411f",
   "metadata": {},
   "source": [
    "#### 2. Load Layoff Data\n",
    "Load layoff data from the provided Excel file in the data directory."
   ]
  },
  {
   "cell_type": "code",
<<<<<<< HEAD
   "execution_count": 5,
=======
   "execution_count": 4,
>>>>>>> 1c18c537f395d1fea7ca887a80764239970a3c3a
   "id": "021860ca",
   "metadata": {},
   "outputs": [
    {
     "data": {
      "text/html": [
       "<div>\n",
       "<style scoped>\n",
       "    .dataframe tbody tr th:only-of-type {\n",
       "        vertical-align: middle;\n",
       "    }\n",
       "\n",
       "    .dataframe tbody tr th {\n",
       "        vertical-align: top;\n",
       "    }\n",
       "\n",
       "    .dataframe thead th {\n",
       "        text-align: right;\n",
       "    }\n",
       "</style>\n",
       "<table border=\"1\" class=\"dataframe\">\n",
       "  <thead>\n",
       "    <tr style=\"text-align: right;\">\n",
       "      <th></th>\n",
       "      <th>State</th>\n",
       "      <th>Company</th>\n",
       "      <th>City</th>\n",
       "      <th>Number of Workers</th>\n",
       "      <th>WARN Received Date</th>\n",
       "      <th>Effective Date</th>\n",
       "      <th>Closure / Layoff</th>\n",
       "      <th>Temporary/Permanent</th>\n",
       "      <th>Union</th>\n",
       "      <th>Region</th>\n",
       "      <th>County</th>\n",
       "      <th>Industry</th>\n",
       "      <th>Notes</th>\n",
       "    </tr>\n",
       "  </thead>\n",
       "  <tbody>\n",
       "    <tr>\n",
       "      <th>0</th>\n",
       "      <td>South Carolina</td>\n",
       "      <td>Tupperware</td>\n",
       "      <td>Hemingway</td>\n",
<<<<<<< HEAD
       "      <td>46</td>\n",
       "      <td>06/11/2025</td>\n",
=======
       "      <td>46.0</td>\n",
       "      <td>2025-06-11</td>\n",
>>>>>>> 1c18c537f395d1fea7ca887a80764239970a3c3a
       "      <td>09/28/2024-01/14/2025</td>\n",
       "      <td>Layoff</td>\n",
       "      <td>Permanent</td>\n",
       "      <td>NaN</td>\n",
       "      <td>NaN</td>\n",
       "      <td>Williamsburg</td>\n",
       "      <td>NaN</td>\n",
       "      <td>248 Tupperware Rd., Hemingway, SC 29554</td>\n",
       "    </tr>\n",
       "    <tr>\n",
       "      <th>1</th>\n",
<<<<<<< HEAD
       "      <td>Texas</td>\n",
       "      <td>XiFin</td>\n",
       "      <td>Austin</td>\n",
       "      <td>87</td>\n",
       "      <td>06/04/2025</td>\n",
       "      <td>05/29/2025</td>\n",
       "      <td>NaN</td>\n",
       "      <td>NaN</td>\n",
       "      <td>NaN</td>\n",
       "      <td>Capital Area WDA</td>\n",
       "      <td>Travis</td>\n",
=======
       "      <td>Washington</td>\n",
       "      <td>Hood Packaging Corporation</td>\n",
       "      <td>Vancouver</td>\n",
       "      <td>94.0</td>\n",
       "      <td>2025-06-03</td>\n",
       "      <td>2025-08-01 00:00:00</td>\n",
       "      <td>Closure</td>\n",
       "      <td>Permanent</td>\n",
       "      <td>NaN</td>\n",
       "      <td>NaN</td>\n",
       "      <td>NaN</td>\n",
>>>>>>> 1c18c537f395d1fea7ca887a80764239970a3c3a
       "      <td>NaN</td>\n",
       "      <td>NaN</td>\n",
       "    </tr>\n",
       "    <tr>\n",
       "      <th>2</th>\n",
<<<<<<< HEAD
       "      <td>Texas</td>\n",
       "      <td>Eckerd Connects (David Carrasco Job Corps)</td>\n",
       "      <td>El Paso</td>\n",
       "      <td>77</td>\n",
       "      <td>06/04/2025</td>\n",
       "      <td>06/13/2025</td>\n",
       "      <td>NaN</td>\n",
       "      <td>NaN</td>\n",
       "      <td>NaN</td>\n",
       "      <td>Borderplexjobs WDA</td>\n",
       "      <td>El Paso</td>\n",
       "      <td>NaN</td>\n",
=======
       "      <td>Wisconsin</td>\n",
       "      <td>Milwaukee Job Corps Center (Horizons Youth Ser...</td>\n",
       "      <td>Milwaukee</td>\n",
       "      <td>104.0</td>\n",
       "      <td>2025-06-03</td>\n",
       "      <td>2025-06-06 00:00:00</td>\n",
       "      <td>Workforce Reduction</td>\n",
       "      <td>NaN</td>\n",
       "      <td>NaN</td>\n",
       "      <td>Milwaukee</td>\n",
       "      <td>Milwaukee</td>\n",
       "      <td>Other Technical &amp; Trade Schools</td>\n",
>>>>>>> 1c18c537f395d1fea7ca887a80764239970a3c3a
       "      <td>NaN</td>\n",
       "    </tr>\n",
       "    <tr>\n",
       "      <th>3</th>\n",
<<<<<<< HEAD
       "      <td>Texas</td>\n",
       "      <td>Sunnova Energy Corporation</td>\n",
       "      <td>Houston</td>\n",
       "      <td>NaN</td>\n",
       "      <td>06/03/2025</td>\n",
       "      <td>05/30/2025</td>\n",
       "      <td>NaN</td>\n",
       "      <td>NaN</td>\n",
       "      <td>NaN</td>\n",
       "      <td>Gulf Coast WDA</td>\n",
       "      <td>Harris</td>\n",
=======
       "      <td>Virginia</td>\n",
       "      <td>Old Dominion Job Corps Center</td>\n",
       "      <td>Monroe</td>\n",
       "      <td>130.0</td>\n",
       "      <td>2025-06-03</td>\n",
       "      <td>2025-06-30 00:00:00</td>\n",
       "      <td>Closure</td>\n",
       "      <td>NaN</td>\n",
       "      <td>NaN</td>\n",
       "      <td>Central</td>\n",
       "      <td>NaN</td>\n",
>>>>>>> 1c18c537f395d1fea7ca887a80764239970a3c3a
       "      <td>NaN</td>\n",
       "      <td>NaN</td>\n",
       "    </tr>\n",
       "    <tr>\n",
       "      <th>4</th>\n",
<<<<<<< HEAD
       "      <td>Texas</td>\n",
       "      <td>JC Penney (Allaince Supply Chain)</td>\n",
       "      <td>Haslet</td>\n",
       "      <td>296</td>\n",
       "      <td>06/03/2025</td>\n",
       "      <td>08/01/2025</td>\n",
       "      <td>NaN</td>\n",
       "      <td>NaN</td>\n",
       "      <td>NaN</td>\n",
       "      <td>Tarrant County WDA</td>\n",
       "      <td>Tarrant</td>\n",
       "      <td>NaN</td>\n",
       "      <td>NaN</td>\n",
=======
       "      <td>Maryland</td>\n",
       "      <td>DAI Global, LLC</td>\n",
       "      <td>Bethesda</td>\n",
       "      <td>62.0</td>\n",
       "      <td>2025-06-02</td>\n",
       "      <td>2025-08-01 00:00:00</td>\n",
       "      <td>Mass Layoff - No Recall</td>\n",
       "      <td>NaN</td>\n",
       "      <td>NaN</td>\n",
       "      <td>Montgomery County</td>\n",
       "      <td>NaN</td>\n",
       "      <td>541611</td>\n",
       "      <td>7600 Wisconsin Avenue, Suite 200 Bethesda, MD ...</td>\n",
>>>>>>> 1c18c537f395d1fea7ca887a80764239970a3c3a
       "    </tr>\n",
       "  </tbody>\n",
       "</table>\n",
       "</div>"
      ],
      "text/plain": [
<<<<<<< HEAD
       "            State                                     Company       City  \\\n",
       "0  South Carolina                                  Tupperware  Hemingway   \n",
       "1           Texas                                       XiFin     Austin   \n",
       "2           Texas  Eckerd Connects (David Carrasco Job Corps)    El Paso   \n",
       "3           Texas                  Sunnova Energy Corporation    Houston   \n",
       "4           Texas           JC Penney (Allaince Supply Chain)     Haslet   \n",
       "\n",
       "  Number of Workers WARN Received Date         Effective Date  \\\n",
       "0                46         06/11/2025  09/28/2024-01/14/2025   \n",
       "1                87         06/04/2025             05/29/2025   \n",
       "2                77         06/04/2025             06/13/2025   \n",
       "3               NaN         06/03/2025             05/30/2025   \n",
       "4               296         06/03/2025             08/01/2025   \n",
       "\n",
       "  Closure / Layoff Temporary/Permanent Union              Region  \\\n",
       "0           Layoff           Permanent   NaN                 NaN   \n",
       "1              NaN                 NaN   NaN    Capital Area WDA   \n",
       "2              NaN                 NaN   NaN  Borderplexjobs WDA   \n",
       "3              NaN                 NaN   NaN      Gulf Coast WDA   \n",
       "4              NaN                 NaN   NaN  Tarrant County WDA   \n",
       "\n",
       "         County Industry                                    Notes  \n",
       "0  Williamsburg      NaN  248 Tupperware Rd., Hemingway, SC 29554  \n",
       "1        Travis      NaN                                      NaN  \n",
       "2       El Paso      NaN                                      NaN  \n",
       "3        Harris      NaN                                      NaN  \n",
       "4       Tarrant      NaN                                      NaN  "
      ]
     },
     "execution_count": 5,
=======
       "            State                                            Company  \\\n",
       "0  South Carolina                                         Tupperware   \n",
       "1      Washington                         Hood Packaging Corporation   \n",
       "2       Wisconsin  Milwaukee Job Corps Center (Horizons Youth Ser...   \n",
       "3        Virginia                      Old Dominion Job Corps Center   \n",
       "4        Maryland                                    DAI Global, LLC   \n",
       "\n",
       "        City  Number of Workers WARN Received Date         Effective Date  \\\n",
       "0  Hemingway               46.0         2025-06-11  09/28/2024-01/14/2025   \n",
       "1  Vancouver               94.0         2025-06-03    2025-08-01 00:00:00   \n",
       "2  Milwaukee              104.0         2025-06-03    2025-06-06 00:00:00   \n",
       "3     Monroe              130.0         2025-06-03    2025-06-30 00:00:00   \n",
       "4   Bethesda               62.0         2025-06-02    2025-08-01 00:00:00   \n",
       "\n",
       "          Closure / Layoff Temporary/Permanent Union             Region  \\\n",
       "0                   Layoff           Permanent   NaN                NaN   \n",
       "1                  Closure           Permanent   NaN                NaN   \n",
       "2      Workforce Reduction                 NaN   NaN          Milwaukee   \n",
       "3                  Closure                 NaN   NaN            Central   \n",
       "4  Mass Layoff - No Recall                 NaN   NaN  Montgomery County   \n",
       "\n",
       "         County                         Industry  \\\n",
       "0  Williamsburg                              NaN   \n",
       "1           NaN                              NaN   \n",
       "2     Milwaukee  Other Technical & Trade Schools   \n",
       "3           NaN                              NaN   \n",
       "4           NaN                           541611   \n",
       "\n",
       "                                               Notes  \n",
       "0            248 Tupperware Rd., Hemingway, SC 29554  \n",
       "1                                                NaN  \n",
       "2                                                NaN  \n",
       "3                                                NaN  \n",
       "4  7600 Wisconsin Avenue, Suite 200 Bethesda, MD ...  "
      ]
     },
     "execution_count": 4,
>>>>>>> 1c18c537f395d1fea7ca887a80764239970a3c3a
     "metadata": {},
     "output_type": "execute_result"
    }
   ],
   "source": [
    "# Load layoff data from Excel\n",
    "layoff_df = pd.read_csv('../data/WARN Database 2025.csv')\n",
    "layoff_df.head()"
   ]
  },
  {
   "cell_type": "markdown",
   "id": "0694a4a8",
   "metadata": {},
   "source": [
    "#### 3. Visualize Layoffs by State\n",
    "Create a tree map to highlight the top five states with the largest number of tech layoffs."
   ]
  },
  {
   "cell_type": "code",
<<<<<<< HEAD
   "execution_count": 14,
=======
   "execution_count": 10,
>>>>>>> 1c18c537f395d1fea7ca887a80764239970a3c3a
   "id": "7737afb8",
   "metadata": {},
   "outputs": [
    {
     "ename": "ValueError",
     "evalue": "Mime type rendering requires nbformat>=4.2.0 but it is not installed",
     "output_type": "error",
     "traceback": [
      "\u001b[31m---------------------------------------------------------------------------\u001b[39m",
      "\u001b[31mValueError\u001b[39m                                Traceback (most recent call last)",
      "\u001b[36mCell\u001b[39m\u001b[36m \u001b[39m\u001b[32mIn[10]\u001b[39m\u001b[32m, line 12\u001b[39m\n\u001b[32m      4\u001b[39m top_states_df.columns = [\u001b[33m'\u001b[39m\u001b[33mState\u001b[39m\u001b[33m'\u001b[39m, \u001b[33m'\u001b[39m\u001b[33mLayoff Count\u001b[39m\u001b[33m'\u001b[39m]\n\u001b[32m      6\u001b[39m fig = px.treemap(\n\u001b[32m      7\u001b[39m     top_states_df,\n\u001b[32m      8\u001b[39m     path=[\u001b[33m'\u001b[39m\u001b[33mState\u001b[39m\u001b[33m'\u001b[39m],\n\u001b[32m      9\u001b[39m     values=\u001b[33m'\u001b[39m\u001b[33mLayoff Count\u001b[39m\u001b[33m'\u001b[39m,\n\u001b[32m     10\u001b[39m     title=\u001b[33m\"\u001b[39m\u001b[33mTop 5 States by Tech Layoffs\u001b[39m\u001b[33m\"\u001b[39m\n\u001b[32m     11\u001b[39m )\n\u001b[32m---> \u001b[39m\u001b[32m12\u001b[39m \u001b[43mfig\u001b[49m\u001b[43m.\u001b[49m\u001b[43mshow\u001b[49m\u001b[43m(\u001b[49m\u001b[43m)\u001b[49m\n",
      "\u001b[36mFile \u001b[39m\u001b[32mc:\\Users\\engue\\fd2p\\venv\\Lib\\site-packages\\plotly\\basedatatypes.py:3436\u001b[39m, in \u001b[36mBaseFigure.show\u001b[39m\u001b[34m(self, *args, **kwargs)\u001b[39m\n\u001b[32m   3403\u001b[39m \u001b[38;5;250m\u001b[39m\u001b[33;03m\"\"\"\u001b[39;00m\n\u001b[32m   3404\u001b[39m \u001b[33;03mShow a figure using either the default renderer(s) or the renderer(s)\u001b[39;00m\n\u001b[32m   3405\u001b[39m \u001b[33;03mspecified by the renderer argument\u001b[39;00m\n\u001b[32m   (...)\u001b[39m\u001b[32m   3432\u001b[39m \u001b[33;03mNone\u001b[39;00m\n\u001b[32m   3433\u001b[39m \u001b[33;03m\"\"\"\u001b[39;00m\n\u001b[32m   3434\u001b[39m \u001b[38;5;28;01mimport\u001b[39;00m\u001b[38;5;250m \u001b[39m\u001b[34;01mplotly\u001b[39;00m\u001b[34;01m.\u001b[39;00m\u001b[34;01mio\u001b[39;00m\u001b[38;5;250m \u001b[39m\u001b[38;5;28;01mas\u001b[39;00m\u001b[38;5;250m \u001b[39m\u001b[34;01mpio\u001b[39;00m\n\u001b[32m-> \u001b[39m\u001b[32m3436\u001b[39m \u001b[38;5;28;01mreturn\u001b[39;00m \u001b[43mpio\u001b[49m\u001b[43m.\u001b[49m\u001b[43mshow\u001b[49m\u001b[43m(\u001b[49m\u001b[38;5;28;43mself\u001b[39;49m\u001b[43m,\u001b[49m\u001b[43m \u001b[49m\u001b[43m*\u001b[49m\u001b[43margs\u001b[49m\u001b[43m,\u001b[49m\u001b[43m \u001b[49m\u001b[43m*\u001b[49m\u001b[43m*\u001b[49m\u001b[43mkwargs\u001b[49m\u001b[43m)\u001b[49m\n",
      "\u001b[36mFile \u001b[39m\u001b[32mc:\\Users\\engue\\fd2p\\venv\\Lib\\site-packages\\plotly\\io\\_renderers.py:425\u001b[39m, in \u001b[36mshow\u001b[39m\u001b[34m(fig, renderer, validate, **kwargs)\u001b[39m\n\u001b[32m    420\u001b[39m     \u001b[38;5;28;01mraise\u001b[39;00m \u001b[38;5;167;01mValueError\u001b[39;00m(\n\u001b[32m    421\u001b[39m         \u001b[33m\"\u001b[39m\u001b[33mMime type rendering requires ipython but it is not installed\u001b[39m\u001b[33m\"\u001b[39m\n\u001b[32m    422\u001b[39m     )\n\u001b[32m    424\u001b[39m \u001b[38;5;28;01mif\u001b[39;00m \u001b[38;5;129;01mnot\u001b[39;00m nbformat \u001b[38;5;129;01mor\u001b[39;00m Version(nbformat.__version__) < Version(\u001b[33m\"\u001b[39m\u001b[33m4.2.0\u001b[39m\u001b[33m\"\u001b[39m):\n\u001b[32m--> \u001b[39m\u001b[32m425\u001b[39m     \u001b[38;5;28;01mraise\u001b[39;00m \u001b[38;5;167;01mValueError\u001b[39;00m(\n\u001b[32m    426\u001b[39m         \u001b[33m\"\u001b[39m\u001b[33mMime type rendering requires nbformat>=4.2.0 but it is not installed\u001b[39m\u001b[33m\"\u001b[39m\n\u001b[32m    427\u001b[39m     )\n\u001b[32m    429\u001b[39m display_jupyter_version_warnings()\n\u001b[32m    431\u001b[39m ipython_display.display(bundle, raw=\u001b[38;5;28;01mTrue\u001b[39;00m)\n",
      "\u001b[31mValueError\u001b[39m: Mime type rendering requires nbformat>=4.2.0 but it is not installed"
     ]
    }
   ],
   "source": [
<<<<<<< HEAD
    "# Filter for tech layoffs from company names like 'Google', 'Amazon', 'Meta', etc.\n",
    "tech_keywords = ['Google', 'Amazon', 'Meta', 'Microsoft', 'Apple', 'Twitter']\n",
    "layoff_df = layoff_df[layoff_df['Company'].str.contains('|'.join(tech_keywords), case=False, na=False)]\n",
    "# Display the first few rows of the filtered DataFrame\n",
    "layoff_df.head()\n",
    "# save to CSV\n",
    "layoff_df.to_csv('../data/tech_layoffs_2025.csv', index=False)\n"
   ]
  },
  {
   "cell_type": "code",
   "execution_count": null,
   "id": "5530ee12",
   "metadata": {},
   "outputs": [
    {
     "ename": "ValueError",
     "evalue": "Value of 'color' is not the name of a column in 'data_frame'. Expected one of ['State', 'Company', 'City', 'Number of Workers', 'WARN Received Date', 'Effective Date', 'Closure / Layoff', 'Temporary/Permanent', 'Union', 'Region', 'County', 'Industry', 'Notes'] but received: Number of Employees Laid Off",
     "output_type": "error",
     "traceback": [
      "\u001b[31m---------------------------------------------------------------------------\u001b[39m",
      "\u001b[31mValueError\u001b[39m                                Traceback (most recent call last)",
      "\u001b[36mCell\u001b[39m\u001b[36m \u001b[39m\u001b[32mIn[13]\u001b[39m\u001b[32m, line 1\u001b[39m\n\u001b[32m----> \u001b[39m\u001b[32m1\u001b[39m fig = \u001b[43mpx\u001b[49m\u001b[43m.\u001b[49m\u001b[43mbar\u001b[49m\u001b[43m(\u001b[49m\n\u001b[32m      2\u001b[39m \u001b[43m    \u001b[49m\u001b[43mlayoff_df\u001b[49m\u001b[43m,\u001b[49m\n\u001b[32m      3\u001b[39m \u001b[43m    \u001b[49m\u001b[43mx\u001b[49m\u001b[43m=\u001b[49m\u001b[33;43m'\u001b[39;49m\u001b[33;43mCompany\u001b[39;49m\u001b[33;43m'\u001b[39;49m\u001b[43m,\u001b[49m\n\u001b[32m      4\u001b[39m \u001b[43m    \u001b[49m\u001b[43my\u001b[49m\u001b[43m=\u001b[49m\u001b[33;43m'\u001b[39;49m\u001b[33;43mNumber of Workers\u001b[39;49m\u001b[33;43m'\u001b[39;49m\u001b[43m,\u001b[49m\n\u001b[32m      5\u001b[39m \u001b[43m    \u001b[49m\u001b[43mtitle\u001b[49m\u001b[43m=\u001b[49m\u001b[33;43m'\u001b[39;49m\u001b[33;43mTech Layoffs by Company\u001b[39;49m\u001b[33;43m'\u001b[39;49m\u001b[43m,\u001b[49m\n\u001b[32m      6\u001b[39m \u001b[43m    \u001b[49m\u001b[43mlabels\u001b[49m\u001b[43m=\u001b[49m\u001b[43m{\u001b[49m\u001b[33;43m'\u001b[39;49m\u001b[33;43mNumber of Employees Laid Off\u001b[39;49m\u001b[33;43m'\u001b[39;49m\u001b[43m:\u001b[49m\u001b[43m \u001b[49m\u001b[33;43m'\u001b[39;49m\u001b[33;43mEmployees Laid Off\u001b[39;49m\u001b[33;43m'\u001b[39;49m\u001b[43m,\u001b[49m\u001b[43m \u001b[49m\u001b[33;43m'\u001b[39;49m\u001b[33;43mCompany\u001b[39;49m\u001b[33;43m'\u001b[39;49m\u001b[43m:\u001b[49m\u001b[43m \u001b[49m\u001b[33;43m'\u001b[39;49m\u001b[33;43mCompany\u001b[39;49m\u001b[33;43m'\u001b[39;49m\u001b[43m}\u001b[49m\u001b[43m,\u001b[49m\n\u001b[32m      7\u001b[39m \u001b[43m    \u001b[49m\u001b[43mcolor\u001b[49m\u001b[43m=\u001b[49m\u001b[33;43m'\u001b[39;49m\u001b[33;43mNumber of Employees Laid Off\u001b[39;49m\u001b[33;43m'\u001b[39;49m\u001b[43m,\u001b[49m\n\u001b[32m      8\u001b[39m \u001b[43m    \u001b[49m\u001b[43mcolor_continuous_scale\u001b[49m\u001b[43m=\u001b[49m\u001b[43mpx\u001b[49m\u001b[43m.\u001b[49m\u001b[43mcolors\u001b[49m\u001b[43m.\u001b[49m\u001b[43msequential\u001b[49m\u001b[43m.\u001b[49m\u001b[43mViridis\u001b[49m\n\u001b[32m      9\u001b[39m \u001b[43m)\u001b[49m\n\u001b[32m     10\u001b[39m fig.show()\n",
      "\u001b[36mFile \u001b[39m\u001b[32mc:\\Users\\annam\\Documents\\Imperial\\From Data to Product\\Code\\.venv\\Lib\\site-packages\\plotly\\express\\_chart_types.py:381\u001b[39m, in \u001b[36mbar\u001b[39m\u001b[34m(data_frame, x, y, color, pattern_shape, facet_row, facet_col, facet_col_wrap, facet_row_spacing, facet_col_spacing, hover_name, hover_data, custom_data, text, base, error_x, error_x_minus, error_y, error_y_minus, animation_frame, animation_group, category_orders, labels, color_discrete_sequence, color_discrete_map, color_continuous_scale, pattern_shape_sequence, pattern_shape_map, range_color, color_continuous_midpoint, opacity, orientation, barmode, log_x, log_y, range_x, range_y, text_auto, title, subtitle, template, width, height)\u001b[39m\n\u001b[32m    332\u001b[39m \u001b[38;5;28;01mdef\u001b[39;00m\u001b[38;5;250m \u001b[39m\u001b[34mbar\u001b[39m(\n\u001b[32m    333\u001b[39m     data_frame=\u001b[38;5;28;01mNone\u001b[39;00m,\n\u001b[32m    334\u001b[39m     x=\u001b[38;5;28;01mNone\u001b[39;00m,\n\u001b[32m   (...)\u001b[39m\u001b[32m    375\u001b[39m     height=\u001b[38;5;28;01mNone\u001b[39;00m,\n\u001b[32m    376\u001b[39m ) -> go.Figure:\n\u001b[32m    377\u001b[39m \u001b[38;5;250m    \u001b[39m\u001b[33;03m\"\"\"\u001b[39;00m\n\u001b[32m    378\u001b[39m \u001b[33;03m    In a bar plot, each row of `data_frame` is represented as a rectangular\u001b[39;00m\n\u001b[32m    379\u001b[39m \u001b[33;03m    mark.\u001b[39;00m\n\u001b[32m    380\u001b[39m \u001b[33;03m    \"\"\"\u001b[39;00m\n\u001b[32m--> \u001b[39m\u001b[32m381\u001b[39m     \u001b[38;5;28;01mreturn\u001b[39;00m \u001b[43mmake_figure\u001b[49m\u001b[43m(\u001b[49m\n\u001b[32m    382\u001b[39m \u001b[43m        \u001b[49m\u001b[43margs\u001b[49m\u001b[43m=\u001b[49m\u001b[38;5;28;43mlocals\u001b[39;49m\u001b[43m(\u001b[49m\u001b[43m)\u001b[49m\u001b[43m,\u001b[49m\n\u001b[32m    383\u001b[39m \u001b[43m        \u001b[49m\u001b[43mconstructor\u001b[49m\u001b[43m=\u001b[49m\u001b[43mgo\u001b[49m\u001b[43m.\u001b[49m\u001b[43mBar\u001b[49m\u001b[43m,\u001b[49m\n\u001b[32m    384\u001b[39m \u001b[43m        \u001b[49m\u001b[43mtrace_patch\u001b[49m\u001b[43m=\u001b[49m\u001b[38;5;28;43mdict\u001b[39;49m\u001b[43m(\u001b[49m\u001b[43mtextposition\u001b[49m\u001b[43m=\u001b[49m\u001b[33;43m\"\u001b[39;49m\u001b[33;43mauto\u001b[39;49m\u001b[33;43m\"\u001b[39;49m\u001b[43m)\u001b[49m\u001b[43m,\u001b[49m\n\u001b[32m    385\u001b[39m \u001b[43m        \u001b[49m\u001b[43mlayout_patch\u001b[49m\u001b[43m=\u001b[49m\u001b[38;5;28;43mdict\u001b[39;49m\u001b[43m(\u001b[49m\u001b[43mbarmode\u001b[49m\u001b[43m=\u001b[49m\u001b[43mbarmode\u001b[49m\u001b[43m)\u001b[49m\u001b[43m,\u001b[49m\n\u001b[32m    386\u001b[39m \u001b[43m    \u001b[49m\u001b[43m)\u001b[49m\n",
      "\u001b[36mFile \u001b[39m\u001b[32mc:\\Users\\annam\\Documents\\Imperial\\From Data to Product\\Code\\.venv\\Lib\\site-packages\\plotly\\express\\_core.py:2483\u001b[39m, in \u001b[36mmake_figure\u001b[39m\u001b[34m(args, constructor, trace_patch, layout_patch)\u001b[39m\n\u001b[32m   2480\u001b[39m layout_patch = layout_patch \u001b[38;5;129;01mor\u001b[39;00m {}\n\u001b[32m   2481\u001b[39m apply_default_cascade(args)\n\u001b[32m-> \u001b[39m\u001b[32m2483\u001b[39m args = \u001b[43mbuild_dataframe\u001b[49m\u001b[43m(\u001b[49m\u001b[43margs\u001b[49m\u001b[43m,\u001b[49m\u001b[43m \u001b[49m\u001b[43mconstructor\u001b[49m\u001b[43m)\u001b[49m\n\u001b[32m   2484\u001b[39m \u001b[38;5;28;01mif\u001b[39;00m constructor \u001b[38;5;129;01min\u001b[39;00m [go.Treemap, go.Sunburst, go.Icicle] \u001b[38;5;129;01mand\u001b[39;00m args[\u001b[33m\"\u001b[39m\u001b[33mpath\u001b[39m\u001b[33m\"\u001b[39m] \u001b[38;5;129;01mis\u001b[39;00m \u001b[38;5;129;01mnot\u001b[39;00m \u001b[38;5;28;01mNone\u001b[39;00m:\n\u001b[32m   2485\u001b[39m     args = process_dataframe_hierarchy(args)\n",
      "\u001b[36mFile \u001b[39m\u001b[32mc:\\Users\\annam\\Documents\\Imperial\\From Data to Product\\Code\\.venv\\Lib\\site-packages\\plotly\\express\\_core.py:1729\u001b[39m, in \u001b[36mbuild_dataframe\u001b[39m\u001b[34m(args, constructor)\u001b[39m\n\u001b[32m   1726\u001b[39m     args[\u001b[33m\"\u001b[39m\u001b[33mcolor\u001b[39m\u001b[33m\"\u001b[39m] = \u001b[38;5;28;01mNone\u001b[39;00m\n\u001b[32m   1727\u001b[39m \u001b[38;5;66;03m# now that things have been prepped, we do the systematic rewriting of `args`\u001b[39;00m\n\u001b[32m-> \u001b[39m\u001b[32m1729\u001b[39m df_output, wide_id_vars = \u001b[43mprocess_args_into_dataframe\u001b[49m\u001b[43m(\u001b[49m\n\u001b[32m   1730\u001b[39m \u001b[43m    \u001b[49m\u001b[43margs\u001b[49m\u001b[43m,\u001b[49m\n\u001b[32m   1731\u001b[39m \u001b[43m    \u001b[49m\u001b[43mwide_mode\u001b[49m\u001b[43m,\u001b[49m\n\u001b[32m   1732\u001b[39m \u001b[43m    \u001b[49m\u001b[43mvar_name\u001b[49m\u001b[43m,\u001b[49m\n\u001b[32m   1733\u001b[39m \u001b[43m    \u001b[49m\u001b[43mvalue_name\u001b[49m\u001b[43m,\u001b[49m\n\u001b[32m   1734\u001b[39m \u001b[43m    \u001b[49m\u001b[43mis_pd_like\u001b[49m\u001b[43m,\u001b[49m\n\u001b[32m   1735\u001b[39m \u001b[43m    \u001b[49m\u001b[43mnative_namespace\u001b[49m\u001b[43m,\u001b[49m\n\u001b[32m   1736\u001b[39m \u001b[43m\u001b[49m\u001b[43m)\u001b[49m\n\u001b[32m   1737\u001b[39m df_output: nw.DataFrame\n\u001b[32m   1738\u001b[39m \u001b[38;5;66;03m# now that `df_output` exists and `args` contains only references, we complete\u001b[39;00m\n\u001b[32m   1739\u001b[39m \u001b[38;5;66;03m# the special-case and wide-mode handling by further rewriting args and/or mutating\u001b[39;00m\n\u001b[32m   1740\u001b[39m \u001b[38;5;66;03m# df_output\u001b[39;00m\n",
      "\u001b[36mFile \u001b[39m\u001b[32mc:\\Users\\annam\\Documents\\Imperial\\From Data to Product\\Code\\.venv\\Lib\\site-packages\\plotly\\express\\_core.py:1330\u001b[39m, in \u001b[36mprocess_args_into_dataframe\u001b[39m\u001b[34m(args, wide_mode, var_name, value_name, is_pd_like, native_namespace)\u001b[39m\n\u001b[32m   1328\u001b[39m         \u001b[38;5;28;01mif\u001b[39;00m argument == \u001b[33m\"\u001b[39m\u001b[33mindex\u001b[39m\u001b[33m\"\u001b[39m:\n\u001b[32m   1329\u001b[39m             err_msg += \u001b[33m\"\u001b[39m\u001b[38;5;130;01m\\n\u001b[39;00m\u001b[33m To use the index, pass it in directly as `df.index`.\u001b[39m\u001b[33m\"\u001b[39m\n\u001b[32m-> \u001b[39m\u001b[32m1330\u001b[39m         \u001b[38;5;28;01mraise\u001b[39;00m \u001b[38;5;167;01mValueError\u001b[39;00m(err_msg)\n\u001b[32m   1331\u001b[39m \u001b[38;5;28;01melif\u001b[39;00m length \u001b[38;5;129;01mand\u001b[39;00m (actual_len := \u001b[38;5;28mlen\u001b[39m(df_input)) != length:\n\u001b[32m   1332\u001b[39m     \u001b[38;5;28;01mraise\u001b[39;00m \u001b[38;5;167;01mValueError\u001b[39;00m(\n\u001b[32m   1333\u001b[39m         \u001b[33m\"\u001b[39m\u001b[33mAll arguments should have the same length. \u001b[39m\u001b[33m\"\u001b[39m\n\u001b[32m   1334\u001b[39m         \u001b[33m\"\u001b[39m\u001b[33mThe length of column argument `df[\u001b[39m\u001b[38;5;132;01m%s\u001b[39;00m\u001b[33m]` is \u001b[39m\u001b[38;5;132;01m%d\u001b[39;00m\u001b[33m, whereas the \u001b[39m\u001b[33m\"\u001b[39m\n\u001b[32m   (...)\u001b[39m\u001b[32m   1341\u001b[39m         )\n\u001b[32m   1342\u001b[39m     )\n",
      "\u001b[31mValueError\u001b[39m: Value of 'color' is not the name of a column in 'data_frame'. Expected one of ['State', 'Company', 'City', 'Number of Workers', 'WARN Received Date', 'Effective Date', 'Closure / Layoff', 'Temporary/Permanent', 'Union', 'Region', 'County', 'Industry', 'Notes'] but received: Number of Employees Laid Off"
     ]
    }
   ],
   "source": [
    "# fig = px.bar(\n",
    "#     layoff_df,\n",
    "#     x='Company',\n",
    "#     color_continuous_scale=px.colors.sequential.Viridis\n",
    "# )\n",
    "# fig.show()"
=======
    "# Aggregate and visualize layoffs by state\n",
    "top_states = layoff_df['State'].value_counts().nlargest(5)\n",
    "top_states_df = top_states.reset_index()\n",
    "top_states_df.columns = ['State', 'Layoff Count']\n",
    "\n",
    "fig = px.treemap(\n",
    "    top_states_df,\n",
    "    path=['State'],\n",
    "    values='Layoff Count',\n",
    "    title=\"Top 5 States by Tech Layoffs\"\n",
    ")\n",
    "fig.show()"
>>>>>>> 1c18c537f395d1fea7ca887a80764239970a3c3a
   ]
  }
 ],
 "metadata": {
  "kernelspec": {
   "display_name": "venv",
   "language": "python",
   "name": "python3"
  },
  "language_info": {
   "codemirror_mode": {
    "name": "ipython",
    "version": 3
   },
   "file_extension": ".py",
   "mimetype": "text/x-python",
   "name": "python",
   "nbconvert_exporter": "python",
   "pygments_lexer": "ipython3",
<<<<<<< HEAD
   "version": "3.12.6"
=======
   "version": "3.13.4"
>>>>>>> 1c18c537f395d1fea7ca887a80764239970a3c3a
  }
 },
 "nbformat": 4,
 "nbformat_minor": 5
}
