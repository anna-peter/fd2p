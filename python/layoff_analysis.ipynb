{
 "cells": [
  {
   "cell_type": "markdown",
   "id": "6b7803a9",
   "metadata": {},
   "source": [
    "### From Data to Product: Layoff Data & Startup Job Discovery\n",
    "This notebook demonstrates how to process layoff data and visualize startup job opportunities for tech workers and recruiters."
   ]
  },
  {
   "cell_type": "markdown",
   "id": "ba8b51c1",
   "metadata": {},
   "source": [
    "#### 1. Import Required Libraries\n",
    "Import the necessary libraries for data processing and visualization."
   ]
  },
  {
   "cell_type": "code",
   "execution_count": 3,
   "id": "4ba74823",
   "metadata": {},
   "outputs": [],
   "source": [
    "# Import Required Libraries\n",
    "import pandas as pd\n",
    "import plotly.express as px"
   ]
  },
  {
   "cell_type": "markdown",
   "id": "f223411f",
   "metadata": {},
   "source": [
    "#### 2. Load Layoff Data\n",
    "Load layoff data from the provided Excel file in the data directory."
   ]
  },
  {
   "cell_type": "code",
   "execution_count": 4,
   "id": "021860ca",
   "metadata": {},
   "outputs": [
    {
     "data": {
      "text/html": [
       "<div>\n",
       "<style scoped>\n",
       "    .dataframe tbody tr th:only-of-type {\n",
       "        vertical-align: middle;\n",
       "    }\n",
       "\n",
       "    .dataframe tbody tr th {\n",
       "        vertical-align: top;\n",
       "    }\n",
       "\n",
       "    .dataframe thead th {\n",
       "        text-align: right;\n",
       "    }\n",
       "</style>\n",
       "<table border=\"1\" class=\"dataframe\">\n",
       "  <thead>\n",
       "    <tr style=\"text-align: right;\">\n",
       "      <th></th>\n",
       "      <th>State</th>\n",
       "      <th>Company</th>\n",
       "      <th>City</th>\n",
       "      <th>Number of Workers</th>\n",
       "      <th>WARN Received Date</th>\n",
       "      <th>Effective Date</th>\n",
       "      <th>Closure / Layoff</th>\n",
       "      <th>Temporary/Permanent</th>\n",
       "      <th>Union</th>\n",
       "      <th>Region</th>\n",
       "      <th>County</th>\n",
       "      <th>Industry</th>\n",
       "      <th>Notes</th>\n",
       "    </tr>\n",
       "  </thead>\n",
       "  <tbody>\n",
       "    <tr>\n",
       "      <th>0</th>\n",
       "      <td>South Carolina</td>\n",
       "      <td>Tupperware</td>\n",
       "      <td>Hemingway</td>\n",
       "      <td>46.0</td>\n",
       "      <td>2025-06-11</td>\n",
       "      <td>09/28/2024-01/14/2025</td>\n",
       "      <td>Layoff</td>\n",
       "      <td>Permanent</td>\n",
       "      <td>NaN</td>\n",
       "      <td>NaN</td>\n",
       "      <td>Williamsburg</td>\n",
       "      <td>NaN</td>\n",
       "      <td>248 Tupperware Rd., Hemingway, SC 29554</td>\n",
       "    </tr>\n",
       "    <tr>\n",
       "      <th>1</th>\n",
       "      <td>Washington</td>\n",
       "      <td>Hood Packaging Corporation</td>\n",
       "      <td>Vancouver</td>\n",
       "      <td>94.0</td>\n",
       "      <td>2025-06-03</td>\n",
       "      <td>2025-08-01 00:00:00</td>\n",
       "      <td>Closure</td>\n",
       "      <td>Permanent</td>\n",
       "      <td>NaN</td>\n",
       "      <td>NaN</td>\n",
       "      <td>NaN</td>\n",
       "      <td>NaN</td>\n",
       "      <td>NaN</td>\n",
       "    </tr>\n",
       "    <tr>\n",
       "      <th>2</th>\n",
       "      <td>Wisconsin</td>\n",
       "      <td>Milwaukee Job Corps Center (Horizons Youth Ser...</td>\n",
       "      <td>Milwaukee</td>\n",
       "      <td>104.0</td>\n",
       "      <td>2025-06-03</td>\n",
       "      <td>2025-06-06 00:00:00</td>\n",
       "      <td>Workforce Reduction</td>\n",
       "      <td>NaN</td>\n",
       "      <td>NaN</td>\n",
       "      <td>Milwaukee</td>\n",
       "      <td>Milwaukee</td>\n",
       "      <td>Other Technical &amp; Trade Schools</td>\n",
       "      <td>NaN</td>\n",
       "    </tr>\n",
       "    <tr>\n",
       "      <th>3</th>\n",
       "      <td>Virginia</td>\n",
       "      <td>Old Dominion Job Corps Center</td>\n",
       "      <td>Monroe</td>\n",
       "      <td>130.0</td>\n",
       "      <td>2025-06-03</td>\n",
       "      <td>2025-06-30 00:00:00</td>\n",
       "      <td>Closure</td>\n",
       "      <td>NaN</td>\n",
       "      <td>NaN</td>\n",
       "      <td>Central</td>\n",
       "      <td>NaN</td>\n",
       "      <td>NaN</td>\n",
       "      <td>NaN</td>\n",
       "    </tr>\n",
       "    <tr>\n",
       "      <th>4</th>\n",
       "      <td>Maryland</td>\n",
       "      <td>DAI Global, LLC</td>\n",
       "      <td>Bethesda</td>\n",
       "      <td>62.0</td>\n",
       "      <td>2025-06-02</td>\n",
       "      <td>2025-08-01 00:00:00</td>\n",
       "      <td>Mass Layoff - No Recall</td>\n",
       "      <td>NaN</td>\n",
       "      <td>NaN</td>\n",
       "      <td>Montgomery County</td>\n",
       "      <td>NaN</td>\n",
       "      <td>541611</td>\n",
       "      <td>7600 Wisconsin Avenue, Suite 200 Bethesda, MD ...</td>\n",
       "    </tr>\n",
       "  </tbody>\n",
       "</table>\n",
       "</div>"
      ],
      "text/plain": [
       "            State                                            Company  \\\n",
       "0  South Carolina                                         Tupperware   \n",
       "1      Washington                         Hood Packaging Corporation   \n",
       "2       Wisconsin  Milwaukee Job Corps Center (Horizons Youth Ser...   \n",
       "3        Virginia                      Old Dominion Job Corps Center   \n",
       "4        Maryland                                    DAI Global, LLC   \n",
       "\n",
       "        City  Number of Workers WARN Received Date         Effective Date  \\\n",
       "0  Hemingway               46.0         2025-06-11  09/28/2024-01/14/2025   \n",
       "1  Vancouver               94.0         2025-06-03    2025-08-01 00:00:00   \n",
       "2  Milwaukee              104.0         2025-06-03    2025-06-06 00:00:00   \n",
       "3     Monroe              130.0         2025-06-03    2025-06-30 00:00:00   \n",
       "4   Bethesda               62.0         2025-06-02    2025-08-01 00:00:00   \n",
       "\n",
       "          Closure / Layoff Temporary/Permanent Union             Region  \\\n",
       "0                   Layoff           Permanent   NaN                NaN   \n",
       "1                  Closure           Permanent   NaN                NaN   \n",
       "2      Workforce Reduction                 NaN   NaN          Milwaukee   \n",
       "3                  Closure                 NaN   NaN            Central   \n",
       "4  Mass Layoff - No Recall                 NaN   NaN  Montgomery County   \n",
       "\n",
       "         County                         Industry  \\\n",
       "0  Williamsburg                              NaN   \n",
       "1           NaN                              NaN   \n",
       "2     Milwaukee  Other Technical & Trade Schools   \n",
       "3           NaN                              NaN   \n",
       "4           NaN                           541611   \n",
       "\n",
       "                                               Notes  \n",
       "0            248 Tupperware Rd., Hemingway, SC 29554  \n",
       "1                                                NaN  \n",
       "2                                                NaN  \n",
       "3                                                NaN  \n",
       "4  7600 Wisconsin Avenue, Suite 200 Bethesda, MD ...  "
      ]
     },
     "execution_count": 4,
     "metadata": {},
     "output_type": "execute_result"
    }
   ],
   "source": [
    "# Load layoff data from Excel\n",
    "layoff_df = pd.read_excel('../data/WARN Database 2025.xlsx')\n",
    "layoff_df.head()"
   ]
  },
  {
   "cell_type": "markdown",
   "id": "0694a4a8",
   "metadata": {},
   "source": [
    "#### 3. Visualize Layoffs by State\n",
    "Create a tree map to highlight the top five states with the largest number of tech layoffs."
   ]
  },
  {
   "cell_type": "code",
   "execution_count": 10,
   "id": "7737afb8",
   "metadata": {},
   "outputs": [
    {
     "ename": "ValueError",
     "evalue": "Mime type rendering requires nbformat>=4.2.0 but it is not installed",
     "output_type": "error",
     "traceback": [
      "\u001b[31m---------------------------------------------------------------------------\u001b[39m",
      "\u001b[31mValueError\u001b[39m                                Traceback (most recent call last)",
      "\u001b[36mCell\u001b[39m\u001b[36m \u001b[39m\u001b[32mIn[10]\u001b[39m\u001b[32m, line 12\u001b[39m\n\u001b[32m      4\u001b[39m top_states_df.columns = [\u001b[33m'\u001b[39m\u001b[33mState\u001b[39m\u001b[33m'\u001b[39m, \u001b[33m'\u001b[39m\u001b[33mLayoff Count\u001b[39m\u001b[33m'\u001b[39m]\n\u001b[32m      6\u001b[39m fig = px.treemap(\n\u001b[32m      7\u001b[39m     top_states_df,\n\u001b[32m      8\u001b[39m     path=[\u001b[33m'\u001b[39m\u001b[33mState\u001b[39m\u001b[33m'\u001b[39m],\n\u001b[32m      9\u001b[39m     values=\u001b[33m'\u001b[39m\u001b[33mLayoff Count\u001b[39m\u001b[33m'\u001b[39m,\n\u001b[32m     10\u001b[39m     title=\u001b[33m\"\u001b[39m\u001b[33mTop 5 States by Tech Layoffs\u001b[39m\u001b[33m\"\u001b[39m\n\u001b[32m     11\u001b[39m )\n\u001b[32m---> \u001b[39m\u001b[32m12\u001b[39m \u001b[43mfig\u001b[49m\u001b[43m.\u001b[49m\u001b[43mshow\u001b[49m\u001b[43m(\u001b[49m\u001b[43m)\u001b[49m\n",
      "\u001b[36mFile \u001b[39m\u001b[32mc:\\Users\\engue\\fd2p\\venv\\Lib\\site-packages\\plotly\\basedatatypes.py:3436\u001b[39m, in \u001b[36mBaseFigure.show\u001b[39m\u001b[34m(self, *args, **kwargs)\u001b[39m\n\u001b[32m   3403\u001b[39m \u001b[38;5;250m\u001b[39m\u001b[33;03m\"\"\"\u001b[39;00m\n\u001b[32m   3404\u001b[39m \u001b[33;03mShow a figure using either the default renderer(s) or the renderer(s)\u001b[39;00m\n\u001b[32m   3405\u001b[39m \u001b[33;03mspecified by the renderer argument\u001b[39;00m\n\u001b[32m   (...)\u001b[39m\u001b[32m   3432\u001b[39m \u001b[33;03mNone\u001b[39;00m\n\u001b[32m   3433\u001b[39m \u001b[33;03m\"\"\"\u001b[39;00m\n\u001b[32m   3434\u001b[39m \u001b[38;5;28;01mimport\u001b[39;00m\u001b[38;5;250m \u001b[39m\u001b[34;01mplotly\u001b[39;00m\u001b[34;01m.\u001b[39;00m\u001b[34;01mio\u001b[39;00m\u001b[38;5;250m \u001b[39m\u001b[38;5;28;01mas\u001b[39;00m\u001b[38;5;250m \u001b[39m\u001b[34;01mpio\u001b[39;00m\n\u001b[32m-> \u001b[39m\u001b[32m3436\u001b[39m \u001b[38;5;28;01mreturn\u001b[39;00m \u001b[43mpio\u001b[49m\u001b[43m.\u001b[49m\u001b[43mshow\u001b[49m\u001b[43m(\u001b[49m\u001b[38;5;28;43mself\u001b[39;49m\u001b[43m,\u001b[49m\u001b[43m \u001b[49m\u001b[43m*\u001b[49m\u001b[43margs\u001b[49m\u001b[43m,\u001b[49m\u001b[43m \u001b[49m\u001b[43m*\u001b[49m\u001b[43m*\u001b[49m\u001b[43mkwargs\u001b[49m\u001b[43m)\u001b[49m\n",
      "\u001b[36mFile \u001b[39m\u001b[32mc:\\Users\\engue\\fd2p\\venv\\Lib\\site-packages\\plotly\\io\\_renderers.py:425\u001b[39m, in \u001b[36mshow\u001b[39m\u001b[34m(fig, renderer, validate, **kwargs)\u001b[39m\n\u001b[32m    420\u001b[39m     \u001b[38;5;28;01mraise\u001b[39;00m \u001b[38;5;167;01mValueError\u001b[39;00m(\n\u001b[32m    421\u001b[39m         \u001b[33m\"\u001b[39m\u001b[33mMime type rendering requires ipython but it is not installed\u001b[39m\u001b[33m\"\u001b[39m\n\u001b[32m    422\u001b[39m     )\n\u001b[32m    424\u001b[39m \u001b[38;5;28;01mif\u001b[39;00m \u001b[38;5;129;01mnot\u001b[39;00m nbformat \u001b[38;5;129;01mor\u001b[39;00m Version(nbformat.__version__) < Version(\u001b[33m\"\u001b[39m\u001b[33m4.2.0\u001b[39m\u001b[33m\"\u001b[39m):\n\u001b[32m--> \u001b[39m\u001b[32m425\u001b[39m     \u001b[38;5;28;01mraise\u001b[39;00m \u001b[38;5;167;01mValueError\u001b[39;00m(\n\u001b[32m    426\u001b[39m         \u001b[33m\"\u001b[39m\u001b[33mMime type rendering requires nbformat>=4.2.0 but it is not installed\u001b[39m\u001b[33m\"\u001b[39m\n\u001b[32m    427\u001b[39m     )\n\u001b[32m    429\u001b[39m display_jupyter_version_warnings()\n\u001b[32m    431\u001b[39m ipython_display.display(bundle, raw=\u001b[38;5;28;01mTrue\u001b[39;00m)\n",
      "\u001b[31mValueError\u001b[39m: Mime type rendering requires nbformat>=4.2.0 but it is not installed"
     ]
    }
   ],
   "source": [
    "# Aggregate and visualize layoffs by state\n",
    "top_states = layoff_df['State'].value_counts().nlargest(5)\n",
    "top_states_df = top_states.reset_index()\n",
    "top_states_df.columns = ['State', 'Layoff Count']\n",
    "\n",
    "fig = px.treemap(\n",
    "    top_states_df,\n",
    "    path=['State'],\n",
    "    values='Layoff Count',\n",
    "    title=\"Top 5 States by Tech Layoffs\"\n",
    ")\n",
    "fig.show()"
   ]
  }
 ],
 "metadata": {
  "kernelspec": {
   "display_name": "venv",
   "language": "python",
   "name": "python3"
  },
  "language_info": {
   "codemirror_mode": {
    "name": "ipython",
    "version": 3
   },
   "file_extension": ".py",
   "mimetype": "text/x-python",
   "name": "python",
   "nbconvert_exporter": "python",
   "pygments_lexer": "ipython3",
   "version": "3.13.4"
  }
 },
 "nbformat": 4,
 "nbformat_minor": 5
}
