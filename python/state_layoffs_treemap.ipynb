{
 "cells": [
  {
   "cell_type": "markdown",
   "id": "d9f28118",
   "metadata": {},
   "source": [
    "# Tree Map of Tech Layoffs by State (CA, NY, TX, WA)\n",
    "This notebook visualizes the number of tech layoffs in California, New York, Texas, and Washington using a tree map. Data is loaded from the respective CSV files for each state."
   ]
  },
  {
   "cell_type": "markdown",
   "id": "6f79c76f",
   "metadata": {},
   "source": [
    "## Standardize Data Formats and Clean Data"
   ]
  },
  {
   "cell_type": "code",
   "execution_count": 37,
   "id": "3b9c79f0",
   "metadata": {},
   "outputs": [],
   "source": [
    "# first standardize the data - for each dataset, we are only interested in \n",
    "# the company, city, the number of workers, and the effective date / layoff start date for now\n",
    "import pandas as pd\n",
    "\n",
    "# data cleaning for NY\n",
    "\n",
    "ny_df = pd.read_csv('../data/tech_layoffs_ny.csv')\n",
    "\n",
    "# standardize the column names\n",
    "ny_df = ny_df.drop(['State','Union','Notes','County','Region'], axis=1)\n",
    "# clean dataset to only include tech companies, filter rows where company is Microsoft, Amazon, or Google\n",
    "tech_keywords = ['Google', 'Amazon Corporate LLC - My Habits Business', 'Meta', 'Microsoft Corporation', 'Apple Inc.', 'Twitter']\n",
    "# adjust ny_df to only include rows where the Company column contains any of the tech keywords\n",
    "ny_df = ny_df[ny_df['Company'].notna()]  # Ensure 'Company' column is not null\n",
    "# ny_df = ny_df[ny_df['Company'].str.contains('|'.join(tech_keywords), case=False, na=False)]\n",
    "ny_df = ny_df[ny_df['Company'].str.lower().isin([k.lower() for k in tech_keywords])]\n",
    "ny_df = ny_df.drop([ 'Closure/Layoff','Temporary/Permanent', 'Industry'], axis=1)\n",
    "# rename Amazon column to Amazon from Amazon Corporate LLC - My Habits Business\n",
    "ny_df['Company'] = ny_df['Company'].replace({'Amazon Corporate LLC - My Habits Business': 'Amazon'})\n",
    "# convert WARN Received Date to datetime format\n",
    "ny_df['WARN Received Date'] = pd.to_datetime(ny_df['WARN Received Date'], errors='coerce')\n",
    "# convert the number of workers to numeric, errors='coerce' will turn non-numeric values into NaN\n",
    "ny_df['Number of Workers'] = pd.to_numeric(ny_df['Number of Workers'], errors='coerce')\n",
    "# save ny data to csv\n",
    "ny_df.to_csv('../data/tech_layoffs_ny_cleaned.csv', index=False)\n",
    "\n"
   ]
  },
  {
   "cell_type": "code",
   "execution_count": 38,
   "id": "a3a60577",
   "metadata": {},
   "outputs": [],
   "source": [
    "# data cleaning for CA\n",
    "ca_df = pd.read_csv('../data/tech_layoffs_ca_2025.csv')\n",
    "\n",
    "ca_df = ca_df.drop(['State','Closure / Layoff', 'County', 'Industry','Temporary/Permanent'], axis=1)\n",
    "# add a wildcard after Microsoft to match any variations\n",
    "# replace anything that starts with Microsoft - with Microsoft\n",
    "ca_df['Company'] = ca_df['Company'].str.replace(r'^Microsoft -.*', 'Microsoft', regex=True)\n",
    "ca_df['Company'] = ca_df['Company'].str.replace(r'^Google -.*', 'Google', regex=True)\n",
    "# convert WARN Received Date to datetime format\n",
    "ca_df['WARN Received Date'] = pd.to_datetime(ca_df['WARN Received Date'], errors='coerce')\n",
    "# convert the number of workers to numeric, errors='coerce' will turn non-numeric values into NaN\n",
    "ca_df['Number of Workers'] = pd.to_numeric(ca_df['Number of Workers'], errors='coerce')\n",
    "\n",
    "ca_df.to_csv('../data/tech_layoffs_ca_cleaned.csv', index=False)"
   ]
  },
  {
   "cell_type": "code",
   "execution_count": 3,
   "id": "ba369a88",
   "metadata": {},
   "outputs": [
    {
     "data": {
      "text/html": [
       "<div>\n",
       "<style scoped>\n",
       "    .dataframe tbody tr th:only-of-type {\n",
       "        vertical-align: middle;\n",
       "    }\n",
       "\n",
       "    .dataframe tbody tr th {\n",
       "        vertical-align: top;\n",
       "    }\n",
       "\n",
       "    .dataframe thead th {\n",
       "        text-align: right;\n",
       "    }\n",
       "</style>\n",
       "<table border=\"1\" class=\"dataframe\">\n",
       "  <thead>\n",
       "    <tr style=\"text-align: right;\">\n",
       "      <th></th>\n",
       "      <th>Company</th>\n",
       "      <th>City</th>\n",
       "      <th>Number of Workers</th>\n",
       "      <th>WARN Received Date</th>\n",
       "      <th>Effective Date</th>\n",
       "    </tr>\n",
       "  </thead>\n",
       "  <tbody>\n",
       "    <tr>\n",
       "      <th>563</th>\n",
       "      <td>Meta Platforms, Inc. (West 3rd)</td>\n",
       "      <td>Austin</td>\n",
       "      <td>154</td>\n",
       "      <td>2022-11-16</td>\n",
       "      <td>01/13/2023</td>\n",
       "    </tr>\n",
       "    <tr>\n",
       "      <th>565</th>\n",
       "      <td>Meta Platforms, Inc. (Mcallen Pass)</td>\n",
       "      <td>Austin</td>\n",
       "      <td>11</td>\n",
       "      <td>2022-11-16</td>\n",
       "      <td>01/13/2023</td>\n",
       "    </tr>\n",
       "    <tr>\n",
       "      <th>566</th>\n",
       "      <td>Meta Platforms, Inc.(W,6th)</td>\n",
       "      <td>Austin</td>\n",
       "      <td>50</td>\n",
       "      <td>2022-11-16</td>\n",
       "      <td>01/13/2023</td>\n",
       "    </tr>\n",
       "  </tbody>\n",
       "</table>\n",
       "</div>"
      ],
      "text/plain": [
       "                                 Company    City  Number of Workers  \\\n",
       "563      Meta Platforms, Inc. (West 3rd)  Austin                154   \n",
       "565  Meta Platforms, Inc. (Mcallen Pass)  Austin                 11   \n",
       "566          Meta Platforms, Inc.(W,6th)  Austin                 50   \n",
       "\n",
       "    WARN Received Date Effective Date  \n",
       "563         2022-11-16     01/13/2023  \n",
       "565         2022-11-16     01/13/2023  \n",
       "566         2022-11-16     01/13/2023  "
      ]
     },
     "execution_count": 3,
     "metadata": {},
     "output_type": "execute_result"
    }
   ],
   "source": [
    "# data cleaning for TX\n",
    "tx_df = pd.read_csv('../data/tech_layoffs_te.csv')\n",
    "tx_df = tx_df.drop(['State','Closure/Layoff', 'County', 'Industry','Temporary/Permanent', 'Union', 'Region','Notes'], axis=1)\n",
    "# filter rows where company is Microsoft, Amazon, or Google\n",
    "tech_keywords_tx = ['Google', 'Amazon Corporate LLC - My Habits Business', r'Meta Platforms, Inc\\..*', 'Microsoft Corporation', 'Apple Inc.', 'Twitter']\n",
    "# adjust tx_df to only include rows where the Company column matches any of the tech keywords using regex\n",
    "pattern = '|'.join(tech_keywords_tx)\n",
    "tx_df = tx_df[tx_df['Company'].notna()]\n",
    "tx_df = tx_df[tx_df['Company'].str.contains(pattern, case=False, na=False, regex=True)]\n",
    "\n",
    "# convert WARN Received Date to datetime format\n",
    "tx_df['WARN Received Date'] = pd.to_datetime(tx_df['WARN Received Date'], errors='coerce')\n",
    "# convert the number of workers to numeric, errors='coerce' will turn non-numeric values into NaN\n",
    "tx_df['Number of Workers'] = pd.to_numeric(tx_df['Number of Workers'], errors='coerce')\n",
    "tx_df.to_csv('../data/tech_layoffs_tx_cleaned.csv', index=False)\n",
    "tx_df.head()\n"
   ]
  },
  {
   "cell_type": "code",
   "execution_count": 40,
   "id": "2145b267",
   "metadata": {},
   "outputs": [
    {
     "data": {
      "text/html": [
       "<div>\n",
       "<style scoped>\n",
       "    .dataframe tbody tr th:only-of-type {\n",
       "        vertical-align: middle;\n",
       "    }\n",
       "\n",
       "    .dataframe tbody tr th {\n",
       "        vertical-align: top;\n",
       "    }\n",
       "\n",
       "    .dataframe thead th {\n",
       "        text-align: right;\n",
       "    }\n",
       "</style>\n",
       "<table border=\"1\" class=\"dataframe\">\n",
       "  <thead>\n",
       "    <tr style=\"text-align: right;\">\n",
       "      <th></th>\n",
       "      <th>Company</th>\n",
       "      <th>City</th>\n",
       "      <th>Number of Workers</th>\n",
       "      <th>WARN Received Date</th>\n",
       "      <th>Effective Date</th>\n",
       "    </tr>\n",
       "  </thead>\n",
       "  <tbody>\n",
       "    <tr>\n",
       "      <th>0</th>\n",
       "      <td>Meta Platforms, Inc</td>\n",
       "      <td>Seattle</td>\n",
       "      <td>419</td>\n",
       "      <td>2022-11-11</td>\n",
       "      <td>2023-01-13</td>\n",
       "    </tr>\n",
       "    <tr>\n",
       "      <th>1</th>\n",
       "      <td>Meta Platforms, Inc</td>\n",
       "      <td>Bellevue</td>\n",
       "      <td>307</td>\n",
       "      <td>2022-11-11</td>\n",
       "      <td>2023-01-13</td>\n",
       "    </tr>\n",
       "    <tr>\n",
       "      <th>2</th>\n",
       "      <td>Amazon</td>\n",
       "      <td>Tukwila</td>\n",
       "      <td>172</td>\n",
       "      <td>2024-05-31</td>\n",
       "      <td>2024-08-01</td>\n",
       "    </tr>\n",
       "    <tr>\n",
       "      <th>3</th>\n",
       "      <td>Amazon</td>\n",
       "      <td>Seattle, Bellevue</td>\n",
       "      <td>2320</td>\n",
       "      <td>2023-01-18</td>\n",
       "      <td>2023-03-19</td>\n",
       "    </tr>\n",
       "    <tr>\n",
       "      <th>4</th>\n",
       "      <td>Amazon Health Services</td>\n",
       "      <td>Seattle</td>\n",
       "      <td>159</td>\n",
       "      <td>2022-09-07</td>\n",
       "      <td>2022-12-01</td>\n",
       "    </tr>\n",
       "  </tbody>\n",
       "</table>\n",
       "</div>"
      ],
      "text/plain": [
       "                  Company               City  Number of Workers  \\\n",
       "0     Meta Platforms, Inc            Seattle                419   \n",
       "1     Meta Platforms, Inc           Bellevue                307   \n",
       "2                  Amazon            Tukwila                172   \n",
       "3                  Amazon  Seattle, Bellevue               2320   \n",
       "4  Amazon Health Services            Seattle                159   \n",
       "\n",
       "  WARN Received Date Effective Date  \n",
       "0         2022-11-11     2023-01-13  \n",
       "1         2022-11-11     2023-01-13  \n",
       "2         2024-05-31     2024-08-01  \n",
       "3         2023-01-18     2023-03-19  \n",
       "4         2022-09-07     2022-12-01  "
      ]
     },
     "execution_count": 40,
     "metadata": {},
     "output_type": "execute_result"
    }
   ],
   "source": [
    "# data cleaning for WA\n",
    "wa_df = pd.read_csv('../data/tech_layoffs_wa.csv')\n",
    "wa_df = wa_df.drop(['Closure Layoff', 'Type of Layoff'], axis=1)\n",
    "# rename Location to City\n",
    "wa_df = wa_df.rename(columns={'Location': 'City'})\n",
    "# rename # of Workers to Number of Workers\n",
    "wa_df = wa_df.rename(columns={'# of Workers': 'Number of Workers'})\n",
    "# rename Received Date to WARN Received Date\n",
    "wa_df = wa_df.rename(columns={'Received Date': 'WARN Received Date'})\n",
    "# rename Layoff Start Date to Effective Date\n",
    "wa_df = wa_df.rename(columns={'Layoff Start Date': 'Effective Date'})\n",
    "# convert WARN Received Date to datetime format\n",
    "wa_df['WARN Received Date'] = pd.to_datetime(wa_df['WARN Received Date'], errors='coerce')\n",
    "# convert Effective Date to datetime format\n",
    "wa_df['Effective Date'] = pd.to_datetime(wa_df['Effective Date'], errors='coerce')\n",
    "# switch columns to match the other datasets\n",
    "wa_df = wa_df[['Company', 'City', 'Number of Workers', 'WARN Received Date', 'Effective Date']]\n",
    "# convert the number of workers to numeric, errors='coerce' will turn non-numeric values into NaN\n",
    "wa_df['Number of Workers'] = pd.to_numeric(wa_df['Number of Workers'], errors='coerce')\n",
    "# save wa data to csv\n",
    "wa_df.to_csv('../data/tech_layoffs_wa_cleaned.csv', index=False)\n",
    "wa_df.head()\n"
   ]
  },
  {
   "cell_type": "markdown",
   "id": "d17a5bcf",
   "metadata": {},
   "source": [
    "## Visualize Cleaned Data as Treemap"
   ]
  },
  {
   "cell_type": "markdown",
   "id": "476fd011",
   "metadata": {},
   "source": [
    "### Treemap with States\n",
    "This is less useful as Seattle clearly dominates."
   ]
  },
  {
   "cell_type": "code",
   "execution_count": 4,
   "id": "c5cee0a1",
   "metadata": {},
   "outputs": [
    {
     "data": {
      "application/vnd.plotly.v1+json": {
       "config": {
        "plotlyServerURL": "https://plot.ly"
       },
       "data": [
        {
         "branchvalues": "total",
         "customdata": {
          "bdata": "AAAAAAAQdUAAAAAAAKBsQAAAAAAA4GpAAAAAAABky0A=",
          "dtype": "f8",
          "shape": "4, 1"
         },
         "domain": {
          "x": [
           0,
           1
          ],
          "y": [
           0,
           1
          ]
         },
         "hovertemplate": "labels=%{label}<br>Layoffs_sum=%{value}<br>parent=%{parent}<br>id=%{id}<br>Layoffs=%{color}<extra></extra>",
         "ids": [
          "California",
          "New York",
          "Texas",
          "Washington"
         ],
         "labels": [
          "California",
          "New York",
          "Texas",
          "Washington"
         ],
         "marker": {
          "coloraxis": "coloraxis",
          "colors": {
           "bdata": "AAAAAAAQdUAAAAAAAKBsQAAAAAAA4GpAAAAAAABky0A=",
           "dtype": "f8"
          }
         },
         "name": "",
         "parents": [
          "",
          "",
          "",
          ""
         ],
         "type": "treemap",
         "values": {
          "bdata": "AAAAAAAQdUAAAAAAAKBsQAAAAAAA4GpAAAAAAABky0A=",
          "dtype": "f8"
         }
        }
       ],
       "layout": {
        "coloraxis": {
         "colorbar": {
          "title": {
           "text": "Layoffs"
          }
         },
         "colorscale": [
          [
           0,
           "rgb(247,251,255)"
          ],
          [
           0.125,
           "rgb(222,235,247)"
          ],
          [
           0.25,
           "rgb(198,219,239)"
          ],
          [
           0.375,
           "rgb(158,202,225)"
          ],
          [
           0.5,
           "rgb(107,174,214)"
          ],
          [
           0.625,
           "rgb(66,146,198)"
          ],
          [
           0.75,
           "rgb(33,113,181)"
          ],
          [
           0.875,
           "rgb(8,81,156)"
          ],
          [
           1,
           "rgb(8,48,107)"
          ]
         ]
        },
        "legend": {
         "tracegroupgap": 0
        },
        "template": {
         "data": {
          "bar": [
           {
            "error_x": {
             "color": "#2a3f5f"
            },
            "error_y": {
             "color": "#2a3f5f"
            },
            "marker": {
             "line": {
              "color": "#E5ECF6",
              "width": 0.5
             },
             "pattern": {
              "fillmode": "overlay",
              "size": 10,
              "solidity": 0.2
             }
            },
            "type": "bar"
           }
          ],
          "barpolar": [
           {
            "marker": {
             "line": {
              "color": "#E5ECF6",
              "width": 0.5
             },
             "pattern": {
              "fillmode": "overlay",
              "size": 10,
              "solidity": 0.2
             }
            },
            "type": "barpolar"
           }
          ],
          "carpet": [
           {
            "aaxis": {
             "endlinecolor": "#2a3f5f",
             "gridcolor": "white",
             "linecolor": "white",
             "minorgridcolor": "white",
             "startlinecolor": "#2a3f5f"
            },
            "baxis": {
             "endlinecolor": "#2a3f5f",
             "gridcolor": "white",
             "linecolor": "white",
             "minorgridcolor": "white",
             "startlinecolor": "#2a3f5f"
            },
            "type": "carpet"
           }
          ],
          "choropleth": [
           {
            "colorbar": {
             "outlinewidth": 0,
             "ticks": ""
            },
            "type": "choropleth"
           }
          ],
          "contour": [
           {
            "colorbar": {
             "outlinewidth": 0,
             "ticks": ""
            },
            "colorscale": [
             [
              0,
              "#0d0887"
             ],
             [
              0.1111111111111111,
              "#46039f"
             ],
             [
              0.2222222222222222,
              "#7201a8"
             ],
             [
              0.3333333333333333,
              "#9c179e"
             ],
             [
              0.4444444444444444,
              "#bd3786"
             ],
             [
              0.5555555555555556,
              "#d8576b"
             ],
             [
              0.6666666666666666,
              "#ed7953"
             ],
             [
              0.7777777777777778,
              "#fb9f3a"
             ],
             [
              0.8888888888888888,
              "#fdca26"
             ],
             [
              1,
              "#f0f921"
             ]
            ],
            "type": "contour"
           }
          ],
          "contourcarpet": [
           {
            "colorbar": {
             "outlinewidth": 0,
             "ticks": ""
            },
            "type": "contourcarpet"
           }
          ],
          "heatmap": [
           {
            "colorbar": {
             "outlinewidth": 0,
             "ticks": ""
            },
            "colorscale": [
             [
              0,
              "#0d0887"
             ],
             [
              0.1111111111111111,
              "#46039f"
             ],
             [
              0.2222222222222222,
              "#7201a8"
             ],
             [
              0.3333333333333333,
              "#9c179e"
             ],
             [
              0.4444444444444444,
              "#bd3786"
             ],
             [
              0.5555555555555556,
              "#d8576b"
             ],
             [
              0.6666666666666666,
              "#ed7953"
             ],
             [
              0.7777777777777778,
              "#fb9f3a"
             ],
             [
              0.8888888888888888,
              "#fdca26"
             ],
             [
              1,
              "#f0f921"
             ]
            ],
            "type": "heatmap"
           }
          ],
          "histogram": [
           {
            "marker": {
             "pattern": {
              "fillmode": "overlay",
              "size": 10,
              "solidity": 0.2
             }
            },
            "type": "histogram"
           }
          ],
          "histogram2d": [
           {
            "colorbar": {
             "outlinewidth": 0,
             "ticks": ""
            },
            "colorscale": [
             [
              0,
              "#0d0887"
             ],
             [
              0.1111111111111111,
              "#46039f"
             ],
             [
              0.2222222222222222,
              "#7201a8"
             ],
             [
              0.3333333333333333,
              "#9c179e"
             ],
             [
              0.4444444444444444,
              "#bd3786"
             ],
             [
              0.5555555555555556,
              "#d8576b"
             ],
             [
              0.6666666666666666,
              "#ed7953"
             ],
             [
              0.7777777777777778,
              "#fb9f3a"
             ],
             [
              0.8888888888888888,
              "#fdca26"
             ],
             [
              1,
              "#f0f921"
             ]
            ],
            "type": "histogram2d"
           }
          ],
          "histogram2dcontour": [
           {
            "colorbar": {
             "outlinewidth": 0,
             "ticks": ""
            },
            "colorscale": [
             [
              0,
              "#0d0887"
             ],
             [
              0.1111111111111111,
              "#46039f"
             ],
             [
              0.2222222222222222,
              "#7201a8"
             ],
             [
              0.3333333333333333,
              "#9c179e"
             ],
             [
              0.4444444444444444,
              "#bd3786"
             ],
             [
              0.5555555555555556,
              "#d8576b"
             ],
             [
              0.6666666666666666,
              "#ed7953"
             ],
             [
              0.7777777777777778,
              "#fb9f3a"
             ],
             [
              0.8888888888888888,
              "#fdca26"
             ],
             [
              1,
              "#f0f921"
             ]
            ],
            "type": "histogram2dcontour"
           }
          ],
          "mesh3d": [
           {
            "colorbar": {
             "outlinewidth": 0,
             "ticks": ""
            },
            "type": "mesh3d"
           }
          ],
          "parcoords": [
           {
            "line": {
             "colorbar": {
              "outlinewidth": 0,
              "ticks": ""
             }
            },
            "type": "parcoords"
           }
          ],
          "pie": [
           {
            "automargin": true,
            "type": "pie"
           }
          ],
          "scatter": [
           {
            "fillpattern": {
             "fillmode": "overlay",
             "size": 10,
             "solidity": 0.2
            },
            "type": "scatter"
           }
          ],
          "scatter3d": [
           {
            "line": {
             "colorbar": {
              "outlinewidth": 0,
              "ticks": ""
             }
            },
            "marker": {
             "colorbar": {
              "outlinewidth": 0,
              "ticks": ""
             }
            },
            "type": "scatter3d"
           }
          ],
          "scattercarpet": [
           {
            "marker": {
             "colorbar": {
              "outlinewidth": 0,
              "ticks": ""
             }
            },
            "type": "scattercarpet"
           }
          ],
          "scattergeo": [
           {
            "marker": {
             "colorbar": {
              "outlinewidth": 0,
              "ticks": ""
             }
            },
            "type": "scattergeo"
           }
          ],
          "scattergl": [
           {
            "marker": {
             "colorbar": {
              "outlinewidth": 0,
              "ticks": ""
             }
            },
            "type": "scattergl"
           }
          ],
          "scattermap": [
           {
            "marker": {
             "colorbar": {
              "outlinewidth": 0,
              "ticks": ""
             }
            },
            "type": "scattermap"
           }
          ],
          "scattermapbox": [
           {
            "marker": {
             "colorbar": {
              "outlinewidth": 0,
              "ticks": ""
             }
            },
            "type": "scattermapbox"
           }
          ],
          "scatterpolar": [
           {
            "marker": {
             "colorbar": {
              "outlinewidth": 0,
              "ticks": ""
             }
            },
            "type": "scatterpolar"
           }
          ],
          "scatterpolargl": [
           {
            "marker": {
             "colorbar": {
              "outlinewidth": 0,
              "ticks": ""
             }
            },
            "type": "scatterpolargl"
           }
          ],
          "scatterternary": [
           {
            "marker": {
             "colorbar": {
              "outlinewidth": 0,
              "ticks": ""
             }
            },
            "type": "scatterternary"
           }
          ],
          "surface": [
           {
            "colorbar": {
             "outlinewidth": 0,
             "ticks": ""
            },
            "colorscale": [
             [
              0,
              "#0d0887"
             ],
             [
              0.1111111111111111,
              "#46039f"
             ],
             [
              0.2222222222222222,
              "#7201a8"
             ],
             [
              0.3333333333333333,
              "#9c179e"
             ],
             [
              0.4444444444444444,
              "#bd3786"
             ],
             [
              0.5555555555555556,
              "#d8576b"
             ],
             [
              0.6666666666666666,
              "#ed7953"
             ],
             [
              0.7777777777777778,
              "#fb9f3a"
             ],
             [
              0.8888888888888888,
              "#fdca26"
             ],
             [
              1,
              "#f0f921"
             ]
            ],
            "type": "surface"
           }
          ],
          "table": [
           {
            "cells": {
             "fill": {
              "color": "#EBF0F8"
             },
             "line": {
              "color": "white"
             }
            },
            "header": {
             "fill": {
              "color": "#C8D4E3"
             },
             "line": {
              "color": "white"
             }
            },
            "type": "table"
           }
          ]
         },
         "layout": {
          "annotationdefaults": {
           "arrowcolor": "#2a3f5f",
           "arrowhead": 0,
           "arrowwidth": 1
          },
          "autotypenumbers": "strict",
          "coloraxis": {
           "colorbar": {
            "outlinewidth": 0,
            "ticks": ""
           }
          },
          "colorscale": {
           "diverging": [
            [
             0,
             "#8e0152"
            ],
            [
             0.1,
             "#c51b7d"
            ],
            [
             0.2,
             "#de77ae"
            ],
            [
             0.3,
             "#f1b6da"
            ],
            [
             0.4,
             "#fde0ef"
            ],
            [
             0.5,
             "#f7f7f7"
            ],
            [
             0.6,
             "#e6f5d0"
            ],
            [
             0.7,
             "#b8e186"
            ],
            [
             0.8,
             "#7fbc41"
            ],
            [
             0.9,
             "#4d9221"
            ],
            [
             1,
             "#276419"
            ]
           ],
           "sequential": [
            [
             0,
             "#0d0887"
            ],
            [
             0.1111111111111111,
             "#46039f"
            ],
            [
             0.2222222222222222,
             "#7201a8"
            ],
            [
             0.3333333333333333,
             "#9c179e"
            ],
            [
             0.4444444444444444,
             "#bd3786"
            ],
            [
             0.5555555555555556,
             "#d8576b"
            ],
            [
             0.6666666666666666,
             "#ed7953"
            ],
            [
             0.7777777777777778,
             "#fb9f3a"
            ],
            [
             0.8888888888888888,
             "#fdca26"
            ],
            [
             1,
             "#f0f921"
            ]
           ],
           "sequentialminus": [
            [
             0,
             "#0d0887"
            ],
            [
             0.1111111111111111,
             "#46039f"
            ],
            [
             0.2222222222222222,
             "#7201a8"
            ],
            [
             0.3333333333333333,
             "#9c179e"
            ],
            [
             0.4444444444444444,
             "#bd3786"
            ],
            [
             0.5555555555555556,
             "#d8576b"
            ],
            [
             0.6666666666666666,
             "#ed7953"
            ],
            [
             0.7777777777777778,
             "#fb9f3a"
            ],
            [
             0.8888888888888888,
             "#fdca26"
            ],
            [
             1,
             "#f0f921"
            ]
           ]
          },
          "colorway": [
           "#636efa",
           "#EF553B",
           "#00cc96",
           "#ab63fa",
           "#FFA15A",
           "#19d3f3",
           "#FF6692",
           "#B6E880",
           "#FF97FF",
           "#FECB52"
          ],
          "font": {
           "color": "#2a3f5f"
          },
          "geo": {
           "bgcolor": "white",
           "lakecolor": "white",
           "landcolor": "#E5ECF6",
           "showlakes": true,
           "showland": true,
           "subunitcolor": "white"
          },
          "hoverlabel": {
           "align": "left"
          },
          "hovermode": "closest",
          "mapbox": {
           "style": "light"
          },
          "paper_bgcolor": "white",
          "plot_bgcolor": "#E5ECF6",
          "polar": {
           "angularaxis": {
            "gridcolor": "white",
            "linecolor": "white",
            "ticks": ""
           },
           "bgcolor": "#E5ECF6",
           "radialaxis": {
            "gridcolor": "white",
            "linecolor": "white",
            "ticks": ""
           }
          },
          "scene": {
           "xaxis": {
            "backgroundcolor": "#E5ECF6",
            "gridcolor": "white",
            "gridwidth": 2,
            "linecolor": "white",
            "showbackground": true,
            "ticks": "",
            "zerolinecolor": "white"
           },
           "yaxis": {
            "backgroundcolor": "#E5ECF6",
            "gridcolor": "white",
            "gridwidth": 2,
            "linecolor": "white",
            "showbackground": true,
            "ticks": "",
            "zerolinecolor": "white"
           },
           "zaxis": {
            "backgroundcolor": "#E5ECF6",
            "gridcolor": "white",
            "gridwidth": 2,
            "linecolor": "white",
            "showbackground": true,
            "ticks": "",
            "zerolinecolor": "white"
           }
          },
          "shapedefaults": {
           "line": {
            "color": "#2a3f5f"
           }
          },
          "ternary": {
           "aaxis": {
            "gridcolor": "white",
            "linecolor": "white",
            "ticks": ""
           },
           "baxis": {
            "gridcolor": "white",
            "linecolor": "white",
            "ticks": ""
           },
           "bgcolor": "#E5ECF6",
           "caxis": {
            "gridcolor": "white",
            "linecolor": "white",
            "ticks": ""
           }
          },
          "title": {
           "x": 0.05
          },
          "xaxis": {
           "automargin": true,
           "gridcolor": "white",
           "linecolor": "white",
           "ticks": "",
           "title": {
            "standoff": 15
           },
           "zerolinecolor": "white",
           "zerolinewidth": 2
          },
          "yaxis": {
           "automargin": true,
           "gridcolor": "white",
           "linecolor": "white",
           "ticks": "",
           "title": {
            "standoff": 15
           },
           "zerolinecolor": "white",
           "zerolinewidth": 2
          }
         }
        },
        "title": {
         "text": "Tech Layoffs by State (2025): CA, NY, TX, WA"
        }
       }
      }
     },
     "metadata": {},
     "output_type": "display_data"
    }
   ],
   "source": [
    "import pandas as pd\n",
    "import plotly.express as px\n",
    "\n",
    "# Define file paths for each state (use cleaned datasets)\n",
    "state_files = {\n",
    "    'California': '../data/tech_layoffs_ca_cleaned.csv',\n",
    "    'New York': '../data/tech_layoffs_ny_cleaned.csv',\n",
    "    'Texas': '../data/tech_layoffs_tx_cleaned.csv',\n",
    "    'Washington': '../data/tech_layoffs_wa_cleaned.csv',\n",
    "}\n",
    "\n",
    "# Count number of layoffs for each state\n",
    "state_layoffs = {}\n",
    "for state, path in state_files.items():\n",
    "    try:\n",
    "        df = pd.read_csv(path)\n",
    "        if 'Number of Workers' in df.columns:\n",
    "            layoffs = df['Number of Workers'].fillna(0).astype(int).sum()\n",
    "        else:\n",
    "            layoffs = df.shape[0]\n",
    "        state_layoffs[state] = layoffs\n",
    "    except Exception as e:\n",
    "        print(f\"Error reading {state}: {e}\")\n",
    "        state_layoffs[state] = 0\n",
    "\n",
    "# Prepare data for treemap\n",
    "states = list(state_layoffs.keys())\n",
    "layoff_counts = list(state_layoffs.values())\n",
    "\n",
    "tree_df = pd.DataFrame({'State': states, 'Layoffs': layoff_counts})\n",
    "\n",
    "# Create treemap\n",
    "fig = px.treemap(tree_df, path=['State'], values='Layoffs',\n",
    "                 title='Tech Layoffs by State (2025): CA, NY, TX, WA',\n",
    "                 color='Layoffs', color_continuous_scale=px.colors.sequential.Blues)\n",
    "fig.show()"
   ]
  },
  {
   "cell_type": "markdown",
   "id": "cc22335c",
   "metadata": {},
   "source": [
    "### Treemap with Companies"
   ]
  },
  {
   "cell_type": "code",
   "execution_count": 5,
   "id": "702a6350",
   "metadata": {},
   "outputs": [
    {
     "data": {
      "application/vnd.plotly.v1+json": {
       "config": {
        "plotlyServerURL": "https://plot.ly"
       },
       "data": [
        {
         "branchvalues": "total",
         "customdata": {
          "bdata": "AAAAAAB6xEAAAAAAAEBaQAAAAAAAgEBAAAAAAAAAGEAAAAAAAAAUQAAAAAAAACBAAAAAAADgpEAAAAAAAIBIQAAAAAAAgFVAAAAAAABAY0AAAAAAAAAmQAAAAAAAAElAAAAAAACwhkAAAAAAAOBjQAAAAAAAEHBA",
          "dtype": "f8",
          "shape": "15, 1"
         },
         "domain": {
          "x": [
           0,
           1
          ],
          "y": [
           0,
           1
          ]
         },
         "hovertemplate": "labels=%{label}<br>Layoffs_sum=%{value}<br>parent=%{parent}<br>id=%{id}<br>Layoffs=%{color}<extra></extra>",
         "ids": [
          "Microsoft",
          "Google",
          "Amazon (SJC11 Facility)",
          "Amazon (SJC14 Facility)",
          "Amazon (SJC31 Facility)",
          "Amazon (SJC32 Facility)",
          "Amazon",
          "Apple Inc.",
          "Microsoft Corporation",
          "Meta Platforms, Inc. (West 3rd)",
          "Meta Platforms, Inc. (Mcallen Pass)",
          "Meta Platforms, Inc.(W,6th)",
          "Meta Platforms, Inc",
          "Amazon Health Services",
          "Twitter, Inc"
         ],
         "labels": [
          "Microsoft",
          "Google",
          "Amazon (SJC11 Facility)",
          "Amazon (SJC14 Facility)",
          "Amazon (SJC31 Facility)",
          "Amazon (SJC32 Facility)",
          "Amazon",
          "Apple Inc.",
          "Microsoft Corporation",
          "Meta Platforms, Inc. (West 3rd)",
          "Meta Platforms, Inc. (Mcallen Pass)",
          "Meta Platforms, Inc.(W,6th)",
          "Meta Platforms, Inc",
          "Amazon Health Services",
          "Twitter, Inc"
         ],
         "marker": {
          "coloraxis": "coloraxis",
          "colors": {
           "bdata": "AAAAAAB6xEAAAAAAAEBaQAAAAAAAgEBAAAAAAAAAGEAAAAAAAAAUQAAAAAAAACBAAAAAAADgpEAAAAAAAIBIQAAAAAAAgFVAAAAAAABAY0AAAAAAAAAmQAAAAAAAAElAAAAAAACwhkAAAAAAAOBjQAAAAAAAEHBA",
           "dtype": "f8"
          }
         },
         "name": "",
         "parents": [
          "",
          "",
          "",
          "",
          "",
          "",
          "",
          "",
          "",
          "",
          "",
          "",
          "",
          "",
          ""
         ],
         "type": "treemap",
         "values": {
          "bdata": "AAAAAAB6xEAAAAAAAEBaQAAAAAAAgEBAAAAAAAAAGEAAAAAAAAAUQAAAAAAAACBAAAAAAADgpEAAAAAAAIBIQAAAAAAAgFVAAAAAAABAY0AAAAAAAAAmQAAAAAAAAElAAAAAAACwhkAAAAAAAOBjQAAAAAAAEHBA",
          "dtype": "f8"
         }
        }
       ],
       "layout": {
        "coloraxis": {
         "colorbar": {
          "title": {
           "text": "Layoffs"
          }
         },
         "colorscale": [
          [
           0,
           "rgb(255,245,240)"
          ],
          [
           0.125,
           "rgb(254,224,210)"
          ],
          [
           0.25,
           "rgb(252,187,161)"
          ],
          [
           0.375,
           "rgb(252,146,114)"
          ],
          [
           0.5,
           "rgb(251,106,74)"
          ],
          [
           0.625,
           "rgb(239,59,44)"
          ],
          [
           0.75,
           "rgb(203,24,29)"
          ],
          [
           0.875,
           "rgb(165,15,21)"
          ],
          [
           1,
           "rgb(103,0,13)"
          ]
         ]
        },
        "legend": {
         "tracegroupgap": 0
        },
        "template": {
         "data": {
          "bar": [
           {
            "error_x": {
             "color": "#2a3f5f"
            },
            "error_y": {
             "color": "#2a3f5f"
            },
            "marker": {
             "line": {
              "color": "#E5ECF6",
              "width": 0.5
             },
             "pattern": {
              "fillmode": "overlay",
              "size": 10,
              "solidity": 0.2
             }
            },
            "type": "bar"
           }
          ],
          "barpolar": [
           {
            "marker": {
             "line": {
              "color": "#E5ECF6",
              "width": 0.5
             },
             "pattern": {
              "fillmode": "overlay",
              "size": 10,
              "solidity": 0.2
             }
            },
            "type": "barpolar"
           }
          ],
          "carpet": [
           {
            "aaxis": {
             "endlinecolor": "#2a3f5f",
             "gridcolor": "white",
             "linecolor": "white",
             "minorgridcolor": "white",
             "startlinecolor": "#2a3f5f"
            },
            "baxis": {
             "endlinecolor": "#2a3f5f",
             "gridcolor": "white",
             "linecolor": "white",
             "minorgridcolor": "white",
             "startlinecolor": "#2a3f5f"
            },
            "type": "carpet"
           }
          ],
          "choropleth": [
           {
            "colorbar": {
             "outlinewidth": 0,
             "ticks": ""
            },
            "type": "choropleth"
           }
          ],
          "contour": [
           {
            "colorbar": {
             "outlinewidth": 0,
             "ticks": ""
            },
            "colorscale": [
             [
              0,
              "#0d0887"
             ],
             [
              0.1111111111111111,
              "#46039f"
             ],
             [
              0.2222222222222222,
              "#7201a8"
             ],
             [
              0.3333333333333333,
              "#9c179e"
             ],
             [
              0.4444444444444444,
              "#bd3786"
             ],
             [
              0.5555555555555556,
              "#d8576b"
             ],
             [
              0.6666666666666666,
              "#ed7953"
             ],
             [
              0.7777777777777778,
              "#fb9f3a"
             ],
             [
              0.8888888888888888,
              "#fdca26"
             ],
             [
              1,
              "#f0f921"
             ]
            ],
            "type": "contour"
           }
          ],
          "contourcarpet": [
           {
            "colorbar": {
             "outlinewidth": 0,
             "ticks": ""
            },
            "type": "contourcarpet"
           }
          ],
          "heatmap": [
           {
            "colorbar": {
             "outlinewidth": 0,
             "ticks": ""
            },
            "colorscale": [
             [
              0,
              "#0d0887"
             ],
             [
              0.1111111111111111,
              "#46039f"
             ],
             [
              0.2222222222222222,
              "#7201a8"
             ],
             [
              0.3333333333333333,
              "#9c179e"
             ],
             [
              0.4444444444444444,
              "#bd3786"
             ],
             [
              0.5555555555555556,
              "#d8576b"
             ],
             [
              0.6666666666666666,
              "#ed7953"
             ],
             [
              0.7777777777777778,
              "#fb9f3a"
             ],
             [
              0.8888888888888888,
              "#fdca26"
             ],
             [
              1,
              "#f0f921"
             ]
            ],
            "type": "heatmap"
           }
          ],
          "histogram": [
           {
            "marker": {
             "pattern": {
              "fillmode": "overlay",
              "size": 10,
              "solidity": 0.2
             }
            },
            "type": "histogram"
           }
          ],
          "histogram2d": [
           {
            "colorbar": {
             "outlinewidth": 0,
             "ticks": ""
            },
            "colorscale": [
             [
              0,
              "#0d0887"
             ],
             [
              0.1111111111111111,
              "#46039f"
             ],
             [
              0.2222222222222222,
              "#7201a8"
             ],
             [
              0.3333333333333333,
              "#9c179e"
             ],
             [
              0.4444444444444444,
              "#bd3786"
             ],
             [
              0.5555555555555556,
              "#d8576b"
             ],
             [
              0.6666666666666666,
              "#ed7953"
             ],
             [
              0.7777777777777778,
              "#fb9f3a"
             ],
             [
              0.8888888888888888,
              "#fdca26"
             ],
             [
              1,
              "#f0f921"
             ]
            ],
            "type": "histogram2d"
           }
          ],
          "histogram2dcontour": [
           {
            "colorbar": {
             "outlinewidth": 0,
             "ticks": ""
            },
            "colorscale": [
             [
              0,
              "#0d0887"
             ],
             [
              0.1111111111111111,
              "#46039f"
             ],
             [
              0.2222222222222222,
              "#7201a8"
             ],
             [
              0.3333333333333333,
              "#9c179e"
             ],
             [
              0.4444444444444444,
              "#bd3786"
             ],
             [
              0.5555555555555556,
              "#d8576b"
             ],
             [
              0.6666666666666666,
              "#ed7953"
             ],
             [
              0.7777777777777778,
              "#fb9f3a"
             ],
             [
              0.8888888888888888,
              "#fdca26"
             ],
             [
              1,
              "#f0f921"
             ]
            ],
            "type": "histogram2dcontour"
           }
          ],
          "mesh3d": [
           {
            "colorbar": {
             "outlinewidth": 0,
             "ticks": ""
            },
            "type": "mesh3d"
           }
          ],
          "parcoords": [
           {
            "line": {
             "colorbar": {
              "outlinewidth": 0,
              "ticks": ""
             }
            },
            "type": "parcoords"
           }
          ],
          "pie": [
           {
            "automargin": true,
            "type": "pie"
           }
          ],
          "scatter": [
           {
            "fillpattern": {
             "fillmode": "overlay",
             "size": 10,
             "solidity": 0.2
            },
            "type": "scatter"
           }
          ],
          "scatter3d": [
           {
            "line": {
             "colorbar": {
              "outlinewidth": 0,
              "ticks": ""
             }
            },
            "marker": {
             "colorbar": {
              "outlinewidth": 0,
              "ticks": ""
             }
            },
            "type": "scatter3d"
           }
          ],
          "scattercarpet": [
           {
            "marker": {
             "colorbar": {
              "outlinewidth": 0,
              "ticks": ""
             }
            },
            "type": "scattercarpet"
           }
          ],
          "scattergeo": [
           {
            "marker": {
             "colorbar": {
              "outlinewidth": 0,
              "ticks": ""
             }
            },
            "type": "scattergeo"
           }
          ],
          "scattergl": [
           {
            "marker": {
             "colorbar": {
              "outlinewidth": 0,
              "ticks": ""
             }
            },
            "type": "scattergl"
           }
          ],
          "scattermap": [
           {
            "marker": {
             "colorbar": {
              "outlinewidth": 0,
              "ticks": ""
             }
            },
            "type": "scattermap"
           }
          ],
          "scattermapbox": [
           {
            "marker": {
             "colorbar": {
              "outlinewidth": 0,
              "ticks": ""
             }
            },
            "type": "scattermapbox"
           }
          ],
          "scatterpolar": [
           {
            "marker": {
             "colorbar": {
              "outlinewidth": 0,
              "ticks": ""
             }
            },
            "type": "scatterpolar"
           }
          ],
          "scatterpolargl": [
           {
            "marker": {
             "colorbar": {
              "outlinewidth": 0,
              "ticks": ""
             }
            },
            "type": "scatterpolargl"
           }
          ],
          "scatterternary": [
           {
            "marker": {
             "colorbar": {
              "outlinewidth": 0,
              "ticks": ""
             }
            },
            "type": "scatterternary"
           }
          ],
          "surface": [
           {
            "colorbar": {
             "outlinewidth": 0,
             "ticks": ""
            },
            "colorscale": [
             [
              0,
              "#0d0887"
             ],
             [
              0.1111111111111111,
              "#46039f"
             ],
             [
              0.2222222222222222,
              "#7201a8"
             ],
             [
              0.3333333333333333,
              "#9c179e"
             ],
             [
              0.4444444444444444,
              "#bd3786"
             ],
             [
              0.5555555555555556,
              "#d8576b"
             ],
             [
              0.6666666666666666,
              "#ed7953"
             ],
             [
              0.7777777777777778,
              "#fb9f3a"
             ],
             [
              0.8888888888888888,
              "#fdca26"
             ],
             [
              1,
              "#f0f921"
             ]
            ],
            "type": "surface"
           }
          ],
          "table": [
           {
            "cells": {
             "fill": {
              "color": "#EBF0F8"
             },
             "line": {
              "color": "white"
             }
            },
            "header": {
             "fill": {
              "color": "#C8D4E3"
             },
             "line": {
              "color": "white"
             }
            },
            "type": "table"
           }
          ]
         },
         "layout": {
          "annotationdefaults": {
           "arrowcolor": "#2a3f5f",
           "arrowhead": 0,
           "arrowwidth": 1
          },
          "autotypenumbers": "strict",
          "coloraxis": {
           "colorbar": {
            "outlinewidth": 0,
            "ticks": ""
           }
          },
          "colorscale": {
           "diverging": [
            [
             0,
             "#8e0152"
            ],
            [
             0.1,
             "#c51b7d"
            ],
            [
             0.2,
             "#de77ae"
            ],
            [
             0.3,
             "#f1b6da"
            ],
            [
             0.4,
             "#fde0ef"
            ],
            [
             0.5,
             "#f7f7f7"
            ],
            [
             0.6,
             "#e6f5d0"
            ],
            [
             0.7,
             "#b8e186"
            ],
            [
             0.8,
             "#7fbc41"
            ],
            [
             0.9,
             "#4d9221"
            ],
            [
             1,
             "#276419"
            ]
           ],
           "sequential": [
            [
             0,
             "#0d0887"
            ],
            [
             0.1111111111111111,
             "#46039f"
            ],
            [
             0.2222222222222222,
             "#7201a8"
            ],
            [
             0.3333333333333333,
             "#9c179e"
            ],
            [
             0.4444444444444444,
             "#bd3786"
            ],
            [
             0.5555555555555556,
             "#d8576b"
            ],
            [
             0.6666666666666666,
             "#ed7953"
            ],
            [
             0.7777777777777778,
             "#fb9f3a"
            ],
            [
             0.8888888888888888,
             "#fdca26"
            ],
            [
             1,
             "#f0f921"
            ]
           ],
           "sequentialminus": [
            [
             0,
             "#0d0887"
            ],
            [
             0.1111111111111111,
             "#46039f"
            ],
            [
             0.2222222222222222,
             "#7201a8"
            ],
            [
             0.3333333333333333,
             "#9c179e"
            ],
            [
             0.4444444444444444,
             "#bd3786"
            ],
            [
             0.5555555555555556,
             "#d8576b"
            ],
            [
             0.6666666666666666,
             "#ed7953"
            ],
            [
             0.7777777777777778,
             "#fb9f3a"
            ],
            [
             0.8888888888888888,
             "#fdca26"
            ],
            [
             1,
             "#f0f921"
            ]
           ]
          },
          "colorway": [
           "#636efa",
           "#EF553B",
           "#00cc96",
           "#ab63fa",
           "#FFA15A",
           "#19d3f3",
           "#FF6692",
           "#B6E880",
           "#FF97FF",
           "#FECB52"
          ],
          "font": {
           "color": "#2a3f5f"
          },
          "geo": {
           "bgcolor": "white",
           "lakecolor": "white",
           "landcolor": "#E5ECF6",
           "showlakes": true,
           "showland": true,
           "subunitcolor": "white"
          },
          "hoverlabel": {
           "align": "left"
          },
          "hovermode": "closest",
          "mapbox": {
           "style": "light"
          },
          "paper_bgcolor": "white",
          "plot_bgcolor": "#E5ECF6",
          "polar": {
           "angularaxis": {
            "gridcolor": "white",
            "linecolor": "white",
            "ticks": ""
           },
           "bgcolor": "#E5ECF6",
           "radialaxis": {
            "gridcolor": "white",
            "linecolor": "white",
            "ticks": ""
           }
          },
          "scene": {
           "xaxis": {
            "backgroundcolor": "#E5ECF6",
            "gridcolor": "white",
            "gridwidth": 2,
            "linecolor": "white",
            "showbackground": true,
            "ticks": "",
            "zerolinecolor": "white"
           },
           "yaxis": {
            "backgroundcolor": "#E5ECF6",
            "gridcolor": "white",
            "gridwidth": 2,
            "linecolor": "white",
            "showbackground": true,
            "ticks": "",
            "zerolinecolor": "white"
           },
           "zaxis": {
            "backgroundcolor": "#E5ECF6",
            "gridcolor": "white",
            "gridwidth": 2,
            "linecolor": "white",
            "showbackground": true,
            "ticks": "",
            "zerolinecolor": "white"
           }
          },
          "shapedefaults": {
           "line": {
            "color": "#2a3f5f"
           }
          },
          "ternary": {
           "aaxis": {
            "gridcolor": "white",
            "linecolor": "white",
            "ticks": ""
           },
           "baxis": {
            "gridcolor": "white",
            "linecolor": "white",
            "ticks": ""
           },
           "bgcolor": "#E5ECF6",
           "caxis": {
            "gridcolor": "white",
            "linecolor": "white",
            "ticks": ""
           }
          },
          "title": {
           "x": 0.05
          },
          "xaxis": {
           "automargin": true,
           "gridcolor": "white",
           "linecolor": "white",
           "ticks": "",
           "title": {
            "standoff": 15
           },
           "zerolinecolor": "white",
           "zerolinewidth": 2
          },
          "yaxis": {
           "automargin": true,
           "gridcolor": "white",
           "linecolor": "white",
           "ticks": "",
           "title": {
            "standoff": 15
           },
           "zerolinecolor": "white",
           "zerolinewidth": 2
          }
         }
        },
        "title": {
         "text": "Tech Layoffs by Company (2025)"
        }
       }
      }
     },
     "metadata": {},
     "output_type": "display_data"
    }
   ],
   "source": [
    "# generate a tree map that sums up all layoffs by company across all states \n",
    "# Prepare data for company-level treemap\n",
    "company_layoffs = {}\n",
    "for state, path in state_files.items():\n",
    "    try:\n",
    "        df = pd.read_csv(path)\n",
    "        if 'Company' in df.columns and 'Number of Workers' in df.columns:\n",
    "            for _, row in df.iterrows():\n",
    "                company = row['Company']\n",
    "                layoffs = row['Number of Workers'] if pd.notna(row['Number of Workers']) else 0\n",
    "                if company in company_layoffs:\n",
    "                    company_layoffs[company] += layoffs\n",
    "                else:\n",
    "                    company_layoffs[company] = layoffs\n",
    "    except Exception as e:\n",
    "        print(f\"Error reading {state}: {e}\")\n",
    "# Prepare data for company-level treemap\n",
    "company_df = pd.DataFrame(company_layoffs.items(), columns=['Company', 'Layoffs'])\n",
    "# Create company-level treemap\n",
    "fig_company = px.treemap(company_df, path=['Company'], values='Layoffs',\n",
    "                         title='Tech Layoffs by Company (2025)',\n",
    "                         color='Layoffs', color_continuous_scale=px.colors.sequential.Reds)\n",
    "fig_company.show()\n"
   ]
  }
 ],
 "metadata": {
  "kernelspec": {
   "display_name": ".venv",
   "language": "python",
   "name": "python3"
  },
  "language_info": {
   "codemirror_mode": {
    "name": "ipython",
    "version": 3
   },
   "file_extension": ".py",
   "mimetype": "text/x-python",
   "name": "python",
   "nbconvert_exporter": "python",
   "pygments_lexer": "ipython3",
   "version": "3.12.6"
  }
 },
 "nbformat": 4,
 "nbformat_minor": 5
}
